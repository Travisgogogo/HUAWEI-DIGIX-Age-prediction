{
 "cells": [
  {
   "cell_type": "code",
   "execution_count": 1,
   "metadata": {},
   "outputs": [],
   "source": [
    "import catboost\n",
    "from catboost import CatBoostClassifier, Pool, cv\n",
    "import pandas as pd\n",
    "import numpy as np\n",
    "from sklearn.model_selection import train_test_split\n",
    "from sklearn.metrics import accuracy_score\n",
    "import gc\n",
    "from sklearn.metrics import f1_score\n",
    "from sklearn.preprocessing import LabelEncoder\n",
    "from sklearn.feature_extraction.text import TfidfVectorizer,CountVectorizer\n",
    "from sklearn.decomposition import TruncatedSVD\n",
    "\n",
    "from sklearn.preprocessing import scale\n",
    "import warnings\n",
    "warnings.filterwarnings(\"ignore\")"
   ]
  },
  {
   "cell_type": "code",
   "execution_count": 2,
   "metadata": {},
   "outputs": [],
   "source": [
    "age_test = pd.read_csv('../age_test.csv', header = None, names = ['uId'])\n",
    "age_train = pd.read_csv('../age_train.csv', header = None, names = ['uId','age_group'])\n",
    "data = pd.concat([age_train,age_test], axis = 0,sort=True).reset_index()\n",
    "data.drop(['index'],axis=1,inplace=True)\n",
    "del age_test\n",
    "del age_train"
   ]
  },
  {
   "cell_type": "code",
   "execution_count": 3,
   "metadata": {},
   "outputs": [],
   "source": [
    "user_basic_info = pd.read_csv('../user_basic_info.csv',header= None, names=['uId','gender','city','prodName','ramCapacity','ramLeftRation','romCapacity','romLeftRation','color','fontSize','ct','carrier','os'])\n",
    "user_behavior_info = pd.read_csv('../user_behavior_info.csv', header = None, names =  ['uId','bootTimes','AFuncTimes','BFuncTimes','CFuncTimes','DFuncTimes','EFuncTimes','FFuncTimes','FFuncSum'])\n",
    "data = data.merge(user_basic_info)\n",
    "data = data.merge(user_behavior_info)\n",
    "del user_basic_info\n",
    "del user_behavior_info"
   ]
  },
  {
   "cell_type": "code",
   "execution_count": 4,
   "metadata": {},
   "outputs": [],
   "source": [
    "data['romLeftRation'][data.romLeftRation>1] = np.nan\n",
    "data['ramLeftRation'][data.ramLeftRation>1] = np.nan"
   ]
  },
  {
   "cell_type": "code",
   "execution_count": 16,
   "metadata": {},
   "outputs": [],
   "source": [
    "data['ramLeftCapacity'] = data['ramCapacity'] * data['ramLeftRation']\n",
    "data['romLeftCapacity'] = data['romCapacity'] * data['romLeftRation']"
   ]
  },
  {
   "cell_type": "code",
   "execution_count": 5,
   "metadata": {},
   "outputs": [],
   "source": [
    "data['FuncTimes_Sum'] = data[['AFuncTimes','BFuncTimes','CFuncTimes','DFuncTimes','EFuncTimes','FFuncTimes']].sum(axis=1)"
   ]
  },
  {
   "cell_type": "code",
   "execution_count": 6,
   "metadata": {},
   "outputs": [
    {
     "name": "stdout",
     "output_type": "stream",
     "text": [
      "CPU times: user 113 ms, sys: 2.56 ms, total: 116 ms\n",
      "Wall time: 43 ms\n"
     ]
    }
   ],
   "source": [
    "%%time\n",
    "for i in ['A','B','C','D','E','F']:\n",
    "    data['{}FuncTimes_rate'.format(i)] = data['{}FuncTimes'.format(i)] / data['FuncTimes_Sum']"
   ]
  },
  {
   "cell_type": "code",
   "execution_count": 7,
   "metadata": {},
   "outputs": [
    {
     "data": {
      "text/plain": [
       "105"
      ]
     },
     "execution_count": 7,
     "metadata": {},
     "output_type": "execute_result"
    }
   ],
   "source": [
    "tmp = data.groupby(['prodName'])['bootTimes'].mean().reset_index()\n",
    "tmp.columns=['prodName','bootTimes_mean']\n",
    "data = data.merge(tmp, on='prodName', how='left')\n",
    "tmp = data.groupby(['prodName'])['fontSize'].mean().reset_index()\n",
    "tmp.columns=['prodName','fontSize_mean']\n",
    "data = data.merge(tmp, on='prodName', how='left')\n",
    "del tmp\n",
    "gc.collect()"
   ]
  },
  {
   "cell_type": "code",
   "execution_count": 8,
   "metadata": {},
   "outputs": [
    {
     "name": "stdout",
     "output_type": "stream",
     "text": [
      "['uId', 'weekday_0_total_duration', 'weekday_1_total_duration', 'weekday_2_total_duration', 'weekday_3_total_duration', 'weekday_4_total_duration', 'weekday_5_total_duration', 'weekday_6_total_duration', 'weekday_0_total_times', 'weekday_1_total_times', 'weekday_2_total_times', 'weekday_3_total_times', 'weekday_4_total_times', 'weekday_5_total_times', 'weekday_6_total_times']\n",
      "CPU times: user 1.66 s, sys: 753 ms, total: 2.41 s\n",
      "Wall time: 2.41 s\n"
     ]
    }
   ],
   "source": [
    "%%time\n",
    "user_cate_stat_weekday_pv = pd.read_hdf('../../../Competition/huawei/age/zero/feature/user_cate_stat_weekday_pv.h5', key='data')\n",
    "data = data.merge(user_cate_stat_weekday_pv, how='left', on='uId')\n",
    "print(list(user_cate_stat_weekday_pv.columns))\n",
    "del user_cate_stat_weekday_pv"
   ]
  },
  {
   "cell_type": "code",
   "execution_count": 9,
   "metadata": {},
   "outputs": [
    {
     "name": "stdout",
     "output_type": "stream",
     "text": [
      "['uId', 'all_app_cnt', 'actived_app_cnt', 'other_app_cnt', 'actived_app_cnt_rate', 'other_app_cnt_rate', 'app_sum', 'actived_not_used_cnt', 'actived_used_rate']\n",
      "CPU times: user 1.64 s, sys: 632 ms, total: 2.27 s\n",
      "Wall time: 2.27 s\n"
     ]
    }
   ],
   "source": [
    "%%time\n",
    "user_all_app_count = pd.read_hdf('../../../Competition/huawei/age/zero/feature/user_all_app_count.h5', key='data')\n",
    "data = data.merge(user_all_app_count, how='left', on='uId')\n",
    "print(list(user_all_app_count.columns))\n",
    "del user_all_app_count"
   ]
  },
  {
   "cell_type": "code",
   "execution_count": 10,
   "metadata": {},
   "outputs": [
    {
     "name": "stdout",
     "output_type": "stream",
     "text": [
      "['主题个性_total_duration_rate', '主题铃声_total_duration_rate', '休闲娱乐_total_duration_rate', '休闲游戏_total_duration_rate', '休闲益智_total_duration_rate', '体育射击_total_duration_rate', '体育竞速_total_duration_rate', '便捷生活_total_duration_rate', '儿童_total_duration_rate', '出行导航_total_duration_rate', '动作冒险_total_duration_rate', '动作射击_total_duration_rate', '医疗健康_total_duration_rate', '合作壁纸*_total_duration_rate', '商务_total_duration_rate', '图书阅读_total_duration_rate', '学习办公_total_duration_rate', '实用工具_total_duration_rate', '影音娱乐_total_duration_rate', '拍摄美化_total_duration_rate', '教育_total_duration_rate', '新闻阅读_total_duration_rate', '旅游住宿_total_duration_rate', '棋牌天地_total_duration_rate', '棋牌桌游_total_duration_rate', '模拟游戏_total_duration_rate', '汽车_total_duration_rate', '电子书籍_total_duration_rate', '益智棋牌_total_duration_rate', '社交通讯_total_duration_rate', '策略游戏_total_duration_rate', '经营策略_total_duration_rate', '网络游戏_total_duration_rate', '美食_total_duration_rate', '表盘个性_total_duration_rate', '角色扮演_total_duration_rate', '角色游戏_total_duration_rate', '购物比价_total_duration_rate', '运动健康_total_duration_rate', '金融理财_total_duration_rate', '主题个性_total_times_rate', '主题铃声_total_times_rate', '休闲娱乐_total_times_rate', '休闲游戏_total_times_rate', '休闲益智_total_times_rate', '体育射击_total_times_rate', '体育竞速_total_times_rate', '便捷生活_total_times_rate', '儿童_total_times_rate', '出行导航_total_times_rate', '动作冒险_total_times_rate', '动作射击_total_times_rate', '医疗健康_total_times_rate', '合作壁纸*_total_times_rate', '商务_total_times_rate', '图书阅读_total_times_rate', '学习办公_total_times_rate', '实用工具_total_times_rate', '影音娱乐_total_times_rate', '拍摄美化_total_times_rate', '教育_total_times_rate', '新闻阅读_total_times_rate', '旅游住宿_total_times_rate', '棋牌天地_total_times_rate', '棋牌桌游_total_times_rate', '模拟游戏_total_times_rate', '汽车_total_times_rate', '电子书籍_total_times_rate', '益智棋牌_total_times_rate', '社交通讯_total_times_rate', '策略游戏_total_times_rate', '经营策略_total_times_rate', '网络游戏_total_times_rate', '美食_total_times_rate', '表盘个性_total_times_rate', '角色扮演_total_times_rate', '角色游戏_total_times_rate', '购物比价_total_times_rate', '运动健康_total_times_rate', '金融理财_total_times_rate', '主题个性_used_days_rate', '主题铃声_used_days_rate', '休闲娱乐_used_days_rate', '休闲游戏_used_days_rate', '休闲益智_used_days_rate', '体育射击_used_days_rate', '体育竞速_used_days_rate', '便捷生活_used_days_rate', '儿童_used_days_rate', '出行导航_used_days_rate', '动作冒险_used_days_rate', '动作射击_used_days_rate', '医疗健康_used_days_rate', '合作壁纸*_used_days_rate', '商务_used_days_rate', '图书阅读_used_days_rate', '学习办公_used_days_rate', '实用工具_used_days_rate', '影音娱乐_used_days_rate', '拍摄美化_used_days_rate', '教育_used_days_rate', '新闻阅读_used_days_rate', '旅游住宿_used_days_rate', '棋牌天地_used_days_rate', '棋牌桌游_used_days_rate', '模拟游戏_used_days_rate', '汽车_used_days_rate', '电子书籍_used_days_rate', '益智棋牌_used_days_rate', '社交通讯_used_days_rate', '策略游戏_used_days_rate', '经营策略_used_days_rate', '网络游戏_used_days_rate', '美食_used_days_rate', '表盘个性_used_days_rate', '角色扮演_used_days_rate', '角色游戏_used_days_rate', '购物比价_used_days_rate', '运动健康_used_days_rate', '金融理财_used_days_rate', 'uId']\n",
      "CPU times: user 6.18 s, sys: 5.34 s, total: 11.5 s\n",
      "Wall time: 21.4 s\n"
     ]
    }
   ],
   "source": [
    "%%time\n",
    "user_cate_stat_rate = pd.read_hdf('../../../Competition/huawei/age/zero/feature/user_cate_stat_rate.h5', key='data')\n",
    "data = data.merge(user_cate_stat_rate, how='left', on='uId')\n",
    "print(list(user_cate_stat_rate.columns))\n",
    "del user_cate_stat_rate\n",
    "gc.collect()"
   ]
  },
  {
   "cell_type": "code",
   "execution_count": 11,
   "metadata": {},
   "outputs": [
    {
     "name": "stdout",
     "output_type": "stream",
     "text": [
      "CPU times: user 6.36 s, sys: 6.16 s, total: 12.5 s\n",
      "Wall time: 30.7 s\n"
     ]
    }
   ],
   "source": [
    "%%time\n",
    "X_times = pd.read_hdf('../../../Competition/huawei/age/zero/feature/X_times.h5', key='data')\n",
    "data = data.merge(X_times, how='left', on='uId')\n",
    "#print(list(X_days.columns))\n",
    "del X_days\n",
    "gc.collect()"
   ]
  },
  {
   "cell_type": "code",
   "execution_count": 12,
   "metadata": {},
   "outputs": [
    {
     "name": "stdout",
     "output_type": "stream",
     "text": [
      "CPU times: user 6.5 s, sys: 6.82 s, total: 13.3 s\n",
      "Wall time: 31.6 s\n"
     ]
    }
   ],
   "source": [
    "%%time\n",
    "X_duration = pd.read_hdf('../../../Competition/huawei/age/zero/feature/X_duration.h5', key='data')\n",
    "data = data.merge(X_duration, how='left', on='uId')\n",
    "#print(list(X_days.columns))\n",
    "del X_days\n",
    "gc.collect()"
   ]
  },
  {
   "cell_type": "code",
   "execution_count": 13,
   "metadata": {},
   "outputs": [
    {
     "name": "stdout",
     "output_type": "stream",
     "text": [
      "['weekday_0_total_duration_rate', 'weekday_1_total_duration_rate', 'weekday_2_total_duration_rate', 'weekday_3_total_duration_rate', 'weekday_4_total_duration_rate', 'weekday_5_total_duration_rate', 'weekday_6_total_duration_rate', 'weekday_0_total_times_rate', 'weekday_1_total_times_rate', 'weekday_2_total_times_rate', 'weekday_3_total_times_rate', 'weekday_4_total_times_rate', 'weekday_5_total_times_rate', 'weekday_6_total_times_rate', 'uId', 'weekday_duration_std', 'weekday_times_std']\n",
      "CPU times: user 3.13 s, sys: 3.5 s, total: 6.63 s\n",
      "Wall time: 8.44 s\n"
     ]
    }
   ],
   "source": [
    "%%time\n",
    "user_cate_stat_weekday_rate = pd.read_hdf('../../../Competition/huawei/age/zero/feature/user_cate_stat_weekday_rate.h5', key='data')\n",
    "data = data.merge(user_cate_stat_weekday_rate, how='left', on='uId')\n",
    "print(list(user_cate_stat_weekday_rate.columns))\n",
    "del user_cate_stat_weekday_rate"
   ]
  },
  {
   "cell_type": "code",
   "execution_count": 17,
   "metadata": {},
   "outputs": [
    {
     "name": "stdout",
     "output_type": "stream",
     "text": [
      "CPU times: user 21.9 s, sys: 10.7 s, total: 32.6 s\n",
      "Wall time: 37.6 s\n"
     ]
    }
   ],
   "source": [
    "%%time\n",
    "user_app_actived = pd.read_csv('../user_app_actived.csv', header = None, names =['uId','appId'])\n",
    "app_usage5000 = pd.read_hdf('../../../Competition/huawei/age/zero/feature/app_usage5000.h5', key='data')\n",
    "app_usage5000.columns=['uId', 'usage_appId']\n",
    "data = data.merge(user_app_actived, on='uId', how='left')\n",
    "data = data.merge(app_usage5000, on='uId', how='left')\n",
    "del user_app_actived\n",
    "del app_usage5000\n",
    "gc.collect()"
   ]
  },
  {
   "cell_type": "code",
   "execution_count": 18,
   "metadata": {},
   "outputs": [
    {
     "name": "stdout",
     "output_type": "stream",
     "text": [
      "CPU times: user 1min 40s, sys: 27.7 s, total: 2min 8s\n",
      "Wall time: 1min 58s\n"
     ]
    }
   ],
   "source": [
    "%%time\n",
    "actived_app = CountVectorizer(token_pattern='a\\d+',binary=True).fit_transform(data['appId'])\n",
    "weight = np.load('./weight_bias/Xapp_weight2_dense1.npy')\n",
    "bias = np.load('./weight_bias/Xapp_bias2_dense1.npy')\n",
    "actived_app_I = actived_app.dot(weight)+bias\n",
    "weight = np.load('./weight_bias/Xapp_weight2_dense2.npy')\n",
    "bias = np.load('./weight_bias/Xapp_bias2_dense2.npy')\n",
    "actived_app_II = actived_app_I.dot(weight)+bias\n",
    "weight = np.load('./weight_bias/Xapp_weight2_dense3.npy')\n",
    "bias = np.load('./weight_bias/Xapp_bias2_dense3.npy')\n",
    "actived_app_III = actived_app_II.dot(weight)+bias\n",
    "active_app_df_I = pd.DataFrame(actived_app_I, columns=['actived_app_{}'.format(i) for i in range(actived_app_I.shape[1])])\n",
    "active_app_df_II = pd.DataFrame(actived_app_II, columns=['actived_app_II_{}'.format(i) for i in range(actived_app_II.shape[1])])\n",
    "active_app_df_III = pd.DataFrame(actived_app_III, columns=['actived_app_III_{}'.format(i) for i in range(actived_app_III.shape[1])])\n",
    "data = pd.concat([data,active_app_df_I,active_app_df_II,active_app_df_III],axis=1)\n",
    "del actived_app\n",
    "del actived_app_I\n",
    "del actived_app_II\n",
    "del actived_app_III\n",
    "del weight\n",
    "del bias\n",
    "del active_app_df_I\n",
    "del active_app_df_II\n",
    "del active_app_df_III\n",
    "gc.collect()"
   ]
  },
  {
   "cell_type": "code",
   "execution_count": null,
   "metadata": {},
   "outputs": [
    {
     "name": "stdout",
     "output_type": "stream",
     "text": [
      "CPU times: user 1min 8s, sys: 25.9 s, total: 1min 34s\n",
      "Wall time: 1min 25s\n"
     ]
    }
   ],
   "source": [
    "%%time\n",
    "X_usage = CountVectorizer(token_pattern='a\\d+', binary=True).fit_transform(data['usage_appId'].fillna('-1'))\n",
    "X_usage_weight = np.load('./weight_bias/X_usage_weight2_dense1.npy')\n",
    "X_usage_bias = np.load('./weight_bias/X_usage_bias2_dense1.npy')\n",
    "X_usage_I = X_usage.dot(X_usage_weight) + X_usage_bias\n",
    "X_usage_weight = np.load('./weight_bias/X_usage_weight2_dense2.npy')\n",
    "X_usage_bias = np.load('./weight_bias/X_usage_bias2_dense2.npy')\n",
    "X_usage_II = X_usage_I.dot(X_usage_weight) + X_usage_bias\n",
    "X_usage_weight = np.load('./weight_bias/X_usage_weight2_dense3.npy')\n",
    "X_usage_bias = np.load('./weight_bias/X_usage_bias2_dense3.npy')\n",
    "X_usage_III = X_usage_II.dot(X_usage_weight) + X_usage_bias\n",
    "X_usage_df_I = pd.DataFrame(X_usage_I, columns=['X_usage_I_{}'.format(i) for i in range(X_usage_I.shape[1])])\n",
    "X_usage_df_II = pd.DataFrame(X_usage_II, columns=['X_usage_II_{}'.format(i) for i in range(X_usage_II.shape[1])])\n",
    "X_usage_df_III = pd.DataFrame(X_usage_III, columns=['X_usage_III_{}'.format(i) for i in range(X_usage_III.shape[1])])\n",
    "data = pd.concat([data, X_usage_df_I, X_usage_df_II, X_usage_df_III], axis=1)\n",
    "del X_usage\n",
    "del X_usage_I\n",
    "del X_usage_II\n",
    "del X_usage_III\n",
    "del X_usage_weight\n",
    "del X_usage_bias\n",
    "del X_usage_df_I\n",
    "del X_usage_df_II\n",
    "del X_usage_df_III\n",
    "gc.collect()"
   ]
  },
  {
   "cell_type": "code",
   "execution_count": null,
   "metadata": {},
   "outputs": [
    {
     "data": {
      "application/vnd.jupyter.widget-view+json": {
       "model_id": "cb39a1458c2d4e3eaf4a5212a3bbbd48",
       "version_major": 2,
       "version_minor": 0
      },
      "text/plain": [
       "HBox(children=(IntProgress(value=0, max=8), HTML(value='')))"
      ]
     },
     "metadata": {},
     "output_type": "display_data"
    },
    {
     "name": "stdout",
     "output_type": "stream",
     "text": [
      "\n",
      "CPU times: user 25.6 s, sys: 416 ms, total: 26 s\n",
      "Wall time: 26 s\n"
     ]
    }
   ],
   "source": [
    "%%time\n",
    "from tqdm import tqdm_notebook\n",
    "cate_features = ['city','prodName','color','ct','carrier','gender','fontSize','os']\n",
    "for feat in tqdm_notebook(cate_features):\n",
    "    data[feat] = LabelEncoder().fit_transform(data[feat].fillna('-1').apply(str))"
   ]
  },
  {
   "cell_type": "code",
   "execution_count": null,
   "metadata": {},
   "outputs": [
    {
     "name": "stdout",
     "output_type": "stream",
     "text": [
      "735\n"
     ]
    }
   ],
   "source": [
    "feat_I=['weekday_0_total_duration_rate', 'weekday_1_total_duration_rate', 'weekday_2_total_duration_rate', 'weekday_3_total_duration_rate', 'weekday_4_total_duration_rate', 'weekday_5_total_duration_rate', 'weekday_6_total_duration_rate', 'weekday_0_total_times_rate', 'weekday_1_total_times_rate', 'weekday_2_total_times_rate', 'weekday_3_total_times_rate', 'weekday_4_total_times_rate', 'weekday_5_total_times_rate', 'weekday_6_total_times_rate', 'weekday_duration_std', 'weekday_times_std']\n",
    "feat_II =['主题个性_total_duration_rate', '主题铃声_total_duration_rate', '休闲娱乐_total_duration_rate', '休闲游戏_total_duration_rate', '休闲益智_total_duration_rate', '体育射击_total_duration_rate', '体育竞速_total_duration_rate', '便捷生活_total_duration_rate', '儿童_total_duration_rate', '出行导航_total_duration_rate', '动作冒险_total_duration_rate', '动作射击_total_duration_rate', '医疗健康_total_duration_rate', '合作壁纸*_total_duration_rate', '商务_total_duration_rate', '图书阅读_total_duration_rate', '学习办公_total_duration_rate', '实用工具_total_duration_rate', '影音娱乐_total_duration_rate', '拍摄美化_total_duration_rate', '教育_total_duration_rate', '新闻阅读_total_duration_rate', '旅游住宿_total_duration_rate', '棋牌天地_total_duration_rate', '棋牌桌游_total_duration_rate', '模拟游戏_total_duration_rate', '汽车_total_duration_rate', '电子书籍_total_duration_rate', '益智棋牌_total_duration_rate', '社交通讯_total_duration_rate', '策略游戏_total_duration_rate', '经营策略_total_duration_rate', '网络游戏_total_duration_rate', '美食_total_duration_rate', '表盘个性_total_duration_rate', '角色扮演_total_duration_rate', '角色游戏_total_duration_rate', '购物比价_total_duration_rate', '运动健康_total_duration_rate', '金融理财_total_duration_rate', '主题个性_total_times_rate', '主题铃声_total_times_rate', '休闲娱乐_total_times_rate', '休闲游戏_total_times_rate', '休闲益智_total_times_rate', '体育射击_total_times_rate', '体育竞速_total_times_rate', '便捷生活_total_times_rate', '儿童_total_times_rate', '出行导航_total_times_rate', '动作冒险_total_times_rate', '动作射击_total_times_rate', '医疗健康_total_times_rate', '合作壁纸*_total_times_rate', '商务_total_times_rate', '图书阅读_total_times_rate', '学习办公_total_times_rate', '实用工具_total_times_rate', '影音娱乐_total_times_rate', '拍摄美化_total_times_rate', '教育_total_times_rate', '新闻阅读_total_times_rate', '旅游住宿_total_times_rate', '棋牌天地_total_times_rate', '棋牌桌游_total_times_rate', '模拟游戏_total_times_rate', '汽车_total_times_rate', '电子书籍_total_times_rate', '益智棋牌_total_times_rate', '社交通讯_total_times_rate', '策略游戏_total_times_rate', '经营策略_total_times_rate', '网络游戏_total_times_rate', '美食_total_times_rate', '表盘个性_total_times_rate', '角色扮演_total_times_rate', '角色游戏_total_times_rate', '购物比价_total_times_rate', '运动健康_total_times_rate', '金融理财_total_times_rate', '主题个性_used_days_rate', '主题铃声_used_days_rate', '休闲娱乐_used_days_rate', '休闲游戏_used_days_rate', '休闲益智_used_days_rate', '体育射击_used_days_rate', '体育竞速_used_days_rate', '便捷生活_used_days_rate', '儿童_used_days_rate', '出行导航_used_days_rate', '动作冒险_used_days_rate', '动作射击_used_days_rate', '医疗健康_used_days_rate', '合作壁纸*_used_days_rate', '商务_used_days_rate', '图书阅读_used_days_rate', '学习办公_used_days_rate', '实用工具_used_days_rate', '影音娱乐_used_days_rate', '拍摄美化_used_days_rate', '教育_used_days_rate', '新闻阅读_used_days_rate', '旅游住宿_used_days_rate', '棋牌天地_used_days_rate', '棋牌桌游_used_days_rate', '模拟游戏_used_days_rate', '汽车_used_days_rate', '电子书籍_used_days_rate', '益智棋牌_used_days_rate', '社交通讯_used_days_rate', '策略游戏_used_days_rate', '经营策略_used_days_rate', '网络游戏_used_days_rate', '美食_used_days_rate', '表盘个性_used_days_rate', '角色扮演_used_days_rate', '角色游戏_used_days_rate', '购物比价_used_days_rate', '运动健康_used_days_rate', '金融理财_used_days_rate']\n",
    "feat_III = [ 'all_app_cnt', 'actived_app_cnt', 'other_app_cnt', 'actived_app_cnt_rate', 'other_app_cnt_rate']\n",
    "feat_IV = [ 'weekday_0_total_duration', 'weekday_1_total_duration', 'weekday_2_total_duration', 'weekday_3_total_duration', 'weekday_4_total_duration', 'weekday_5_total_duration', 'weekday_6_total_duration']\n",
    "feat_V = ['X_times_{}'.format(i) for i in range(100)]\n",
    "feat_VI = ['X_duration_{}'.format(i) for i in range(100)]\n",
    "\n",
    "X_app_I = ['actived_app_{}'.format(i) for i in range(32)]\n",
    "X_app_II = ['actived_app_II_{}'.format(i) for i in range(16)]\n",
    "X_app_III = ['actived_app_III_{}'.format(i) for i in range(8)]\n",
    "X_app = X_app_I + X_app_II + X_app_III\n",
    "\n",
    "X_usage_I = ['X_usage_I_{}'.format(i) for i in range(32)]\n",
    "X_usage_II = ['X_usage_II_{}'.format(i) for i in range(16)]\n",
    "X_usage_III = ['X_usage_III_{}'.format(i) for i in range(8)]\n",
    "X_usage = X_usage_I + X_usage_II + X_usage_III\n",
    "\n",
    "origin_num_feature = ['ramLeftCapacity','romLeftCapacity','city','prodName','color','ct','carrier','gender','ramCapacity','ramLeftRation','romCapacity','romLeftRation','fontSize',\n",
    "                       'os','bootTimes','AFuncTimes','BFuncTimes','CFuncTimes','DFuncTimes','EFuncTimes','FFuncTimes','bootTimes_mean',\n",
    "                      'fontSize_mean']\n",
    "\n",
    "\n",
    "feature = origin_num_feature+feat_I+feat_II+feat_III+feat_IV+feat_V+feat_VI+X_app+X_usage+total_app_count_feat\\\n",
    "          +total_perday_feat+test_feat_I\n",
    "\n",
    "print(len(feature))\n"
   ]
  },
  {
   "cell_type": "code",
   "execution_count": null,
   "metadata": {
    "scrolled": true
   },
   "outputs": [
    {
     "name": "stdout",
     "output_type": "stream",
     "text": [
      "0:\tlearn: 0.6352580\ttest: 0.6126866\tbest: 0.6126866 (0)\ttotal: 156ms\tremaining: 12h 57m 51s\n",
      "100:\tlearn: 0.6576009\ttest: 0.6324627\tbest: 0.6325373 (99)\ttotal: 13.1s\tremaining: 10h 48m 11s\n",
      "200:\tlearn: 0.6633871\ttest: 0.6364925\tbest: 0.6364925 (200)\ttotal: 27.2s\tremaining: 11h 16m 1s\n",
      "300:\tlearn: 0.6669448\ttest: 0.6397512\tbest: 0.6397512 (300)\ttotal: 41.3s\tremaining: 11h 25m 37s\n",
      "400:\tlearn: 0.6695654\ttest: 0.6415920\tbest: 0.6416418 (398)\ttotal: 54.9s\tremaining: 11h 24m 1s\n",
      "500:\tlearn: 0.6715403\ttest: 0.6417910\tbest: 0.6419900 (476)\ttotal: 1m 8s\tremaining: 11h 18m 43s\n",
      "600:\tlearn: 0.6733588\ttest: 0.6428109\tbest: 0.6428109 (600)\ttotal: 1m 22s\tremaining: 11h 21m 2s\n",
      "700:\tlearn: 0.6747741\ttest: 0.6429851\tbest: 0.6430100 (696)\ttotal: 1m 35s\tremaining: 11h 21m 46s\n",
      "800:\tlearn: 0.6759784\ttest: 0.6430846\tbest: 0.6436318 (774)\ttotal: 1m 49s\tremaining: 11h 22m 8s\n",
      "900:\tlearn: 0.6770687\ttest: 0.6435572\tbest: 0.6437313 (882)\ttotal: 2m 3s\tremaining: 11h 22m 26s\n",
      "1000:\tlearn: 0.6780903\ttest: 0.6437065\tbest: 0.6438060 (979)\ttotal: 2m 17s\tremaining: 11h 22m 52s\n",
      "1100:\tlearn: 0.6790108\ttest: 0.6435572\tbest: 0.6438806 (1023)\ttotal: 2m 30s\tremaining: 11h 22m 31s\n",
      "1200:\tlearn: 0.6798372\ttest: 0.6439303\tbest: 0.6439303 (1194)\ttotal: 2m 44s\tremaining: 11h 22m 23s\n",
      "1300:\tlearn: 0.6805609\ttest: 0.6437811\tbest: 0.6442289 (1212)\ttotal: 2m 58s\tremaining: 11h 22m 23s\n",
      "1400:\tlearn: 0.6812592\ttest: 0.6438308\tbest: 0.6442289 (1212)\ttotal: 3m 12s\tremaining: 11h 22m 28s\n",
      "1500:\tlearn: 0.6819677\ttest: 0.6440796\tbest: 0.6442289 (1212)\ttotal: 3m 25s\tremaining: 11h 22m 22s\n",
      "1600:\tlearn: 0.6825498\ttest: 0.6440796\tbest: 0.6442289 (1212)\ttotal: 3m 39s\tremaining: 11h 22m 1s\n",
      "1700:\tlearn: 0.6831551\ttest: 0.6439552\tbest: 0.6442289 (1212)\ttotal: 3m 53s\tremaining: 11h 22m 17s\n",
      "1800:\tlearn: 0.6836656\ttest: 0.6439055\tbest: 0.6442289 (1212)\ttotal: 4m 7s\tremaining: 11h 21m 48s\n",
      "1900:\tlearn: 0.6841749\ttest: 0.6435572\tbest: 0.6442289 (1212)\ttotal: 4m 20s\tremaining: 11h 21m 50s\n",
      "2000:\tlearn: 0.6846815\ttest: 0.6433333\tbest: 0.6442289 (1212)\ttotal: 4m 34s\tremaining: 11h 22m 19s\n",
      "2100:\tlearn: 0.6851903\ttest: 0.6431343\tbest: 0.6442289 (1212)\ttotal: 4m 48s\tremaining: 11h 22m 38s\n",
      "2200:\tlearn: 0.6856646\ttest: 0.6431343\tbest: 0.6442289 (1212)\ttotal: 5m 2s\tremaining: 11h 22m 24s\n",
      "2300:\tlearn: 0.6861351\ttest: 0.6434826\tbest: 0.6442289 (1212)\ttotal: 5m 16s\tremaining: 11h 22m 12s\n",
      "2400:\tlearn: 0.6865203\ttest: 0.6432090\tbest: 0.6442289 (1212)\ttotal: 5m 30s\tremaining: 11h 22m 2s\n",
      "2500:\tlearn: 0.6869536\ttest: 0.6436070\tbest: 0.6442289 (1212)\ttotal: 5m 43s\tremaining: 11h 21m 36s\n",
      "2600:\tlearn: 0.6873698\ttest: 0.6434826\tbest: 0.6442289 (1212)\ttotal: 5m 57s\tremaining: 11h 20m 50s\n",
      "2700:\tlearn: 0.6877517\ttest: 0.6434328\tbest: 0.6442289 (1212)\ttotal: 6m 11s\tremaining: 11h 20m 45s\n",
      "2800:\tlearn: 0.6881155\ttest: 0.6430846\tbest: 0.6442289 (1212)\ttotal: 6m 24s\tremaining: 11h 20m 4s\n",
      "2900:\tlearn: 0.6884974\ttest: 0.6430348\tbest: 0.6442289 (1212)\ttotal: 6m 38s\tremaining: 11h 19m 45s\n",
      "3000:\tlearn: 0.6888635\ttest: 0.6431592\tbest: 0.6442289 (1212)\ttotal: 6m 51s\tremaining: 11h 18m 58s\n",
      "3100:\tlearn: 0.6892155\ttest: 0.6434826\tbest: 0.6442289 (1212)\ttotal: 7m 5s\tremaining: 11h 18m 29s\n",
      "3200:\tlearn: 0.6895601\ttest: 0.6436070\tbest: 0.6442289 (1212)\ttotal: 7m 18s\tremaining: 11h 18m 17s\n",
      "3300:\tlearn: 0.6899398\ttest: 0.6438308\tbest: 0.6442289 (1212)\ttotal: 7m 32s\tremaining: 11h 17m 40s\n",
      "3400:\tlearn: 0.6902539\ttest: 0.6439552\tbest: 0.6442289 (1212)\ttotal: 7m 45s\tremaining: 11h 16m 59s\n",
      "3500:\tlearn: 0.6906093\ttest: 0.6439303\tbest: 0.6442289 (1212)\ttotal: 7m 59s\tremaining: 11h 16m 23s\n",
      "3600:\tlearn: 0.6909511\ttest: 0.6437811\tbest: 0.6442289 (1212)\ttotal: 8m 12s\tremaining: 11h 15m 50s\n",
      "3700:\tlearn: 0.6913031\ttest: 0.6438308\tbest: 0.6442289 (1212)\ttotal: 8m 26s\tremaining: 11h 15m 14s\n",
      "3800:\tlearn: 0.6915987\ttest: 0.6438806\tbest: 0.6442289 (1212)\ttotal: 8m 39s\tremaining: 11h 14m 47s\n",
      "3900:\tlearn: 0.6919089\ttest: 0.6441045\tbest: 0.6442289 (1212)\ttotal: 8m 52s\tremaining: 11h 14m 10s\n",
      "4000:\tlearn: 0.6922079\ttest: 0.6443532\tbest: 0.6444030 (3990)\ttotal: 9m 6s\tremaining: 11h 13m 30s\n",
      "4100:\tlearn: 0.6925085\ttest: 0.6444527\tbest: 0.6446517 (4069)\ttotal: 9m 19s\tremaining: 11h 12m 58s\n",
      "4200:\tlearn: 0.6927782\ttest: 0.6445522\tbest: 0.6446517 (4069)\ttotal: 9m 33s\tremaining: 11h 12m 26s\n",
      "4300:\tlearn: 0.6931121\ttest: 0.6443532\tbest: 0.6446517 (4069)\ttotal: 9m 46s\tremaining: 11h 12m 17s\n",
      "4400:\tlearn: 0.6933851\ttest: 0.6446766\tbest: 0.6446766 (4400)\ttotal: 10m\tremaining: 11h 11m 50s\n",
      "4500:\tlearn: 0.6937055\ttest: 0.6446766\tbest: 0.6448010 (4497)\ttotal: 10m 13s\tremaining: 11h 11m 26s\n",
      "4600:\tlearn: 0.6939926\ttest: 0.6448756\tbest: 0.6449751 (4542)\ttotal: 10m 27s\tremaining: 11h 11m 3s\n",
      "4700:\tlearn: 0.6942983\ttest: 0.6449751\tbest: 0.6450746 (4631)\ttotal: 10m 40s\tremaining: 11h 10m 42s\n",
      "4800:\tlearn: 0.6945804\ttest: 0.6447512\tbest: 0.6452736 (4744)\ttotal: 10m 53s\tremaining: 11h 10m 11s\n",
      "4900:\tlearn: 0.6948071\ttest: 0.6448010\tbest: 0.6452736 (4744)\ttotal: 11m 7s\tremaining: 11h 9m 54s\n",
      "5000:\tlearn: 0.6950576\ttest: 0.6447512\tbest: 0.6452736 (4744)\ttotal: 11m 20s\tremaining: 11h 9m 20s\n",
      "5100:\tlearn: 0.6953210\ttest: 0.6447512\tbest: 0.6452736 (4744)\ttotal: 11m 34s\tremaining: 11h 8m 58s\n",
      "5200:\tlearn: 0.6955929\ttest: 0.6447015\tbest: 0.6452736 (4744)\ttotal: 11m 47s\tremaining: 11h 8m 26s\n",
      "5300:\tlearn: 0.6958727\ttest: 0.6447264\tbest: 0.6452736 (4744)\ttotal: 12m 1s\tremaining: 11h 8m 7s\n",
      "5400:\tlearn: 0.6961186\ttest: 0.6449005\tbest: 0.6452736 (4744)\ttotal: 12m 14s\tremaining: 11h 7m 40s\n",
      "5500:\tlearn: 0.6963753\ttest: 0.6448507\tbest: 0.6452736 (4744)\ttotal: 12m 27s\tremaining: 11h 7m 16s\n",
      "5600:\tlearn: 0.6966421\ttest: 0.6448259\tbest: 0.6452736 (4744)\ttotal: 12m 41s\tremaining: 11h 6m 58s\n",
      "5700:\tlearn: 0.6968925\ttest: 0.6448507\tbest: 0.6452736 (4744)\ttotal: 12m 54s\tremaining: 11h 6m 37s\n",
      "5800:\tlearn: 0.6971221\ttest: 0.6450746\tbest: 0.6452736 (4744)\ttotal: 13m 8s\tremaining: 11h 6m 15s\n",
      "5900:\tlearn: 0.6974154\ttest: 0.6452488\tbest: 0.6452985 (5889)\ttotal: 13m 21s\tremaining: 11h 5m 50s\n",
      "6000:\tlearn: 0.6976585\ttest: 0.6453483\tbest: 0.6454726 (5995)\ttotal: 13m 35s\tremaining: 11h 5m 30s\n",
      "6100:\tlearn: 0.6979005\ttest: 0.6454975\tbest: 0.6455721 (6092)\ttotal: 13m 48s\tremaining: 11h 5m 6s\n",
      "6200:\tlearn: 0.6981357\ttest: 0.6455970\tbest: 0.6456468 (6127)\ttotal: 14m 1s\tremaining: 11h 4m 44s\n",
      "6300:\tlearn: 0.6984020\ttest: 0.6457463\tbest: 0.6458706 (6254)\ttotal: 14m 15s\tremaining: 11h 4m 24s\n",
      "6400:\tlearn: 0.6986321\ttest: 0.6456716\tbest: 0.6458706 (6254)\ttotal: 14m 28s\tremaining: 11h 3m 46s\n",
      "6500:\tlearn: 0.6988391\ttest: 0.6455721\tbest: 0.6458706 (6254)\ttotal: 14m 41s\tremaining: 11h 3m 22s\n",
      "6600:\tlearn: 0.6990738\ttest: 0.6453234\tbest: 0.6458706 (6254)\ttotal: 14m 54s\tremaining: 11h 2m 54s\n",
      "6700:\tlearn: 0.6993457\ttest: 0.6452488\tbest: 0.6458706 (6254)\ttotal: 15m 8s\tremaining: 11h 2m 35s\n",
      "6800:\tlearn: 0.6995273\ttest: 0.6453980\tbest: 0.6458706 (6254)\ttotal: 15m 21s\tremaining: 11h 2m 10s\n",
      "6900:\tlearn: 0.6997524\ttest: 0.6455224\tbest: 0.6458706 (6254)\ttotal: 15m 34s\tremaining: 11h 1m 37s\n",
      "7000:\tlearn: 0.7000169\ttest: 0.6456468\tbest: 0.6458706 (6254)\ttotal: 15m 48s\tremaining: 11h 1m 16s\n",
      "7100:\tlearn: 0.7002471\ttest: 0.6456219\tbest: 0.6458706 (6254)\ttotal: 16m 1s\tremaining: 11h 53s\n",
      "7200:\tlearn: 0.7004733\ttest: 0.6456716\tbest: 0.6458706 (6254)\ttotal: 16m 14s\tremaining: 11h 28s\n",
      "7300:\tlearn: 0.7007034\ttest: 0.6455224\tbest: 0.6458706 (6254)\ttotal: 16m 27s\tremaining: 11h 4s\n",
      "7400:\tlearn: 0.7008822\ttest: 0.6455473\tbest: 0.6458706 (6254)\ttotal: 16m 40s\tremaining: 10h 59m 26s\n",
      "7500:\tlearn: 0.7011078\ttest: 0.6453980\tbest: 0.6458706 (6254)\ttotal: 16m 54s\tremaining: 10h 59m 5s\n",
      "7600:\tlearn: 0.7013397\ttest: 0.6455224\tbest: 0.6458706 (6254)\ttotal: 17m 7s\tremaining: 10h 58m 45s\n",
      "7700:\tlearn: 0.7015394\ttest: 0.6456219\tbest: 0.6458706 (6254)\ttotal: 17m 20s\tremaining: 10h 58m 26s\n",
      "7800:\tlearn: 0.7017379\ttest: 0.6454975\tbest: 0.6458706 (6254)\ttotal: 17m 34s\tremaining: 10h 58m\n",
      "7900:\tlearn: 0.7019133\ttest: 0.6455224\tbest: 0.6458706 (6254)\ttotal: 17m 47s\tremaining: 10h 57m 32s\n",
      "8000:\tlearn: 0.7021514\ttest: 0.6454726\tbest: 0.6458706 (6254)\ttotal: 18m\tremaining: 10h 57m 10s\n",
      "8100:\tlearn: 0.7023561\ttest: 0.6453483\tbest: 0.6458706 (6254)\ttotal: 18m 13s\tremaining: 10h 56m 40s\n",
      "8200:\tlearn: 0.7025846\ttest: 0.6454229\tbest: 0.6458706 (6254)\ttotal: 18m 26s\tremaining: 10h 56m 23s\n",
      "8300:\tlearn: 0.7028001\ttest: 0.6452985\tbest: 0.6458706 (6254)\ttotal: 18m 40s\tremaining: 10h 56m 24s\n"
     ]
    },
    {
     "name": "stdout",
     "output_type": "stream",
     "text": [
      "8400:\tlearn: 0.7030003\ttest: 0.6455970\tbest: 0.6458706 (6254)\ttotal: 18m 53s\tremaining: 10h 55m 52s\n",
      "8500:\tlearn: 0.7031966\ttest: 0.6455224\tbest: 0.6458706 (6254)\ttotal: 19m 6s\tremaining: 10h 55m 26s\n",
      "8600:\tlearn: 0.7034183\ttest: 0.6455224\tbest: 0.6458706 (6254)\ttotal: 19m 20s\tremaining: 10h 55m 24s\n",
      "8700:\tlearn: 0.7036197\ttest: 0.6454229\tbest: 0.6458706 (6254)\ttotal: 19m 33s\tremaining: 10h 54m 59s\n",
      "8800:\tlearn: 0.7038272\ttest: 0.6457214\tbest: 0.6458706 (6254)\ttotal: 19m 48s\tremaining: 10h 55m 26s\n",
      "8900:\tlearn: 0.7040247\ttest: 0.6457711\tbest: 0.6458706 (6254)\ttotal: 20m 1s\tremaining: 10h 54m 57s\n",
      "9000:\tlearn: 0.7042249\ttest: 0.6456716\tbest: 0.6458706 (6254)\ttotal: 20m 14s\tremaining: 10h 54m 26s\n",
      "9100:\tlearn: 0.7044189\ttest: 0.6458706\tbest: 0.6459204 (9098)\ttotal: 20m 27s\tremaining: 10h 53m 57s\n",
      "9200:\tlearn: 0.7046265\ttest: 0.6457463\tbest: 0.6459453 (9120)\ttotal: 20m 40s\tremaining: 10h 53m 39s\n",
      "9300:\tlearn: 0.7048223\ttest: 0.6458209\tbest: 0.6459453 (9120)\ttotal: 20m 53s\tremaining: 10h 53m 10s\n",
      "9400:\tlearn: 0.7050310\ttest: 0.6457463\tbest: 0.6459453 (9120)\ttotal: 21m 7s\tremaining: 10h 52m 53s\n",
      "9500:\tlearn: 0.7052211\ttest: 0.6459950\tbest: 0.6460448 (9499)\ttotal: 21m 20s\tremaining: 10h 52m 34s\n",
      "9600:\tlearn: 0.7054320\ttest: 0.6459204\tbest: 0.6460448 (9499)\ttotal: 21m 33s\tremaining: 10h 52m 3s\n",
      "9700:\tlearn: 0.7056244\ttest: 0.6457463\tbest: 0.6460448 (9499)\ttotal: 21m 46s\tremaining: 10h 51m 43s\n",
      "9800:\tlearn: 0.7058286\ttest: 0.6456965\tbest: 0.6460448 (9499)\ttotal: 21m 59s\tremaining: 10h 51m 11s\n",
      "9900:\tlearn: 0.7060497\ttest: 0.6457214\tbest: 0.6460448 (9499)\ttotal: 22m 12s\tremaining: 10h 50m 43s\n",
      "10000:\tlearn: 0.7062454\ttest: 0.6458209\tbest: 0.6460448 (9499)\ttotal: 22m 25s\tremaining: 10h 50m 16s\n",
      "10100:\tlearn: 0.7064299\ttest: 0.6457463\tbest: 0.6460448 (9499)\ttotal: 22m 38s\tremaining: 10h 49m 53s\n",
      "10200:\tlearn: 0.7066064\ttest: 0.6459701\tbest: 0.6460945 (10194)\ttotal: 22m 51s\tremaining: 10h 49m 27s\n",
      "10300:\tlearn: 0.7067892\ttest: 0.6459204\tbest: 0.6460945 (10194)\ttotal: 23m 4s\tremaining: 10h 48m 51s\n",
      "10400:\tlearn: 0.7070159\ttest: 0.6457214\tbest: 0.6460945 (10194)\ttotal: 23m 17s\tremaining: 10h 48m 30s\n",
      "10500:\tlearn: 0.7072089\ttest: 0.6457711\tbest: 0.6460945 (10194)\ttotal: 23m 30s\tremaining: 10h 48m 2s\n",
      "10600:\tlearn: 0.7074012\ttest: 0.6458955\tbest: 0.6460945 (10194)\ttotal: 23m 43s\tremaining: 10h 47m 37s\n",
      "10700:\tlearn: 0.7076003\ttest: 0.6457463\tbest: 0.6460945 (10194)\ttotal: 23m 56s\tremaining: 10h 47m 22s\n",
      "10800:\tlearn: 0.7077611\ttest: 0.6458706\tbest: 0.6460945 (10194)\ttotal: 24m 9s\tremaining: 10h 46m 57s\n",
      "10900:\tlearn: 0.7079455\ttest: 0.6459453\tbest: 0.6460945 (10194)\ttotal: 24m 22s\tremaining: 10h 46m 31s\n",
      "11000:\tlearn: 0.7081571\ttest: 0.6461194\tbest: 0.6461692 (10978)\ttotal: 24m 36s\tremaining: 10h 46m 16s\n",
      "11100:\tlearn: 0.7083551\ttest: 0.6461443\tbest: 0.6462935 (11065)\ttotal: 24m 49s\tremaining: 10h 45m 53s\n",
      "11200:\tlearn: 0.7085339\ttest: 0.6461692\tbest: 0.6462935 (11065)\ttotal: 25m 1s\tremaining: 10h 45m 25s\n",
      "11300:\tlearn: 0.7086924\ttest: 0.6460448\tbest: 0.6462935 (11065)\ttotal: 25m 15s\tremaining: 10h 45m 8s\n",
      "11400:\tlearn: 0.7088599\ttest: 0.6462687\tbest: 0.6462935 (11065)\ttotal: 25m 28s\tremaining: 10h 44m 48s\n",
      "11500:\tlearn: 0.7090466\ttest: 0.6463682\tbest: 0.6464428 (11470)\ttotal: 25m 41s\tremaining: 10h 44m 25s\n",
      "11600:\tlearn: 0.7092209\ttest: 0.6463930\tbest: 0.6464925 (11530)\ttotal: 25m 54s\tremaining: 10h 43m 56s\n",
      "11700:\tlearn: 0.7094488\ttest: 0.6461692\tbest: 0.6464925 (11530)\ttotal: 26m 7s\tremaining: 10h 43m 33s\n",
      "11800:\tlearn: 0.7096344\ttest: 0.6461194\tbest: 0.6464925 (11530)\ttotal: 26m 20s\tremaining: 10h 43m 20s\n",
      "11900:\tlearn: 0.7097861\ttest: 0.6460199\tbest: 0.6464925 (11530)\ttotal: 26m 33s\tremaining: 10h 43m\n",
      "12000:\tlearn: 0.7099756\ttest: 0.6461443\tbest: 0.6464925 (11530)\ttotal: 26m 46s\tremaining: 10h 42m 42s\n",
      "12100:\tlearn: 0.7101454\ttest: 0.6463433\tbest: 0.6464925 (11530)\ttotal: 26m 59s\tremaining: 10h 42m 21s\n",
      "12200:\tlearn: 0.7103428\ttest: 0.6463682\tbest: 0.6464925 (11530)\ttotal: 27m 12s\tremaining: 10h 41m 59s\n",
      "12300:\tlearn: 0.7105081\ttest: 0.6461692\tbest: 0.6464925 (11530)\ttotal: 27m 26s\tremaining: 10h 41m 45s\n",
      "12400:\tlearn: 0.7106852\ttest: 0.6462935\tbest: 0.6464925 (11530)\ttotal: 27m 39s\tremaining: 10h 41m 24s\n",
      "12500:\tlearn: 0.7108652\ttest: 0.6462687\tbest: 0.6464925 (11530)\ttotal: 27m 52s\tremaining: 10h 41m 3s\n",
      "12600:\tlearn: 0.7110654\ttest: 0.6462189\tbest: 0.6464925 (11530)\ttotal: 28m 5s\tremaining: 10h 40m 47s\n",
      "12700:\tlearn: 0.7112155\ttest: 0.6461692\tbest: 0.6464925 (11530)\ttotal: 28m 18s\tremaining: 10h 40m 27s\n",
      "12800:\tlearn: 0.7114371\ttest: 0.6461443\tbest: 0.6464925 (11530)\ttotal: 28m 31s\tremaining: 10h 40m 9s\n",
      "12900:\tlearn: 0.7116227\ttest: 0.6463682\tbest: 0.6464925 (11530)\ttotal: 28m 45s\tremaining: 10h 39m 56s\n",
      "13000:\tlearn: 0.7118162\ttest: 0.6462935\tbest: 0.6464925 (11530)\ttotal: 28m 58s\tremaining: 10h 39m 44s\n",
      "13100:\tlearn: 0.7119572\ttest: 0.6463433\tbest: 0.6464925 (11530)\ttotal: 29m 12s\tremaining: 10h 39m 27s\n",
      "13200:\tlearn: 0.7121360\ttest: 0.6465174\tbest: 0.6465920 (13193)\ttotal: 29m 25s\tremaining: 10h 39m 7s\n",
      "13300:\tlearn: 0.7123103\ttest: 0.6463433\tbest: 0.6465920 (13193)\ttotal: 29m 38s\tremaining: 10h 38m 49s\n",
      "13400:\tlearn: 0.7124592\ttest: 0.6462687\tbest: 0.6465920 (13193)\ttotal: 29m 51s\tremaining: 10h 38m 28s\n",
      "13500:\tlearn: 0.7126612\ttest: 0.6462935\tbest: 0.6465920 (13193)\ttotal: 30m 4s\tremaining: 10h 38m 11s\n",
      "13600:\tlearn: 0.7128501\ttest: 0.6461194\tbest: 0.6465920 (13193)\ttotal: 30m 17s\tremaining: 10h 37m 57s\n",
      "13700:\tlearn: 0.7130278\ttest: 0.6461692\tbest: 0.6465920 (13193)\ttotal: 30m 30s\tremaining: 10h 37m 35s\n",
      "13800:\tlearn: 0.7131959\ttest: 0.6459950\tbest: 0.6465920 (13193)\ttotal: 30m 44s\tremaining: 10h 37m 20s\n",
      "13900:\tlearn: 0.7133477\ttest: 0.6458955\tbest: 0.6465920 (13193)\ttotal: 30m 56s\tremaining: 10h 36m 59s\n",
      "14000:\tlearn: 0.7135135\ttest: 0.6460945\tbest: 0.6465920 (13193)\ttotal: 31m 10s\tremaining: 10h 36m 39s\n",
      "14100:\tlearn: 0.7137036\ttest: 0.6457960\tbest: 0.6465920 (13193)\ttotal: 31m 22s\tremaining: 10h 36m 16s\n",
      "14200:\tlearn: 0.7138864\ttest: 0.6459701\tbest: 0.6465920 (13193)\ttotal: 31m 35s\tremaining: 10h 35m 56s\n",
      "14300:\tlearn: 0.7140606\ttest: 0.6460697\tbest: 0.6465920 (13193)\ttotal: 31m 49s\tremaining: 10h 35m 43s\n",
      "14400:\tlearn: 0.7142423\ttest: 0.6460945\tbest: 0.6465920 (13193)\ttotal: 32m 2s\tremaining: 10h 35m 27s\n",
      "14500:\tlearn: 0.7144126\ttest: 0.6460945\tbest: 0.6465920 (13193)\ttotal: 32m 15s\tremaining: 10h 35m 9s\n",
      "14600:\tlearn: 0.7146123\ttest: 0.6460448\tbest: 0.6465920 (13193)\ttotal: 32m 28s\tremaining: 10h 34m 51s\n",
      "14700:\tlearn: 0.7148080\ttest: 0.6460199\tbest: 0.6465920 (13193)\ttotal: 32m 41s\tremaining: 10h 34m 29s\n",
      "14800:\tlearn: 0.7149728\ttest: 0.6461940\tbest: 0.6465920 (13193)\ttotal: 32m 54s\tremaining: 10h 34m 11s\n",
      "14900:\tlearn: 0.7151888\ttest: 0.6460199\tbest: 0.6465920 (13193)\ttotal: 33m 7s\tremaining: 10h 33m 48s\n",
      "15000:\tlearn: 0.7153704\ttest: 0.6459453\tbest: 0.6465920 (13193)\ttotal: 33m 20s\tremaining: 10h 33m 34s\n",
      "15100:\tlearn: 0.7155363\ttest: 0.6459950\tbest: 0.6465920 (13193)\ttotal: 33m 34s\tremaining: 10h 33m 17s\n",
      "15200:\tlearn: 0.7157117\ttest: 0.6459204\tbest: 0.6465920 (13193)\ttotal: 33m 47s\tremaining: 10h 33m 6s\n",
      "15300:\tlearn: 0.7158640\ttest: 0.6459453\tbest: 0.6465920 (13193)\ttotal: 34m\tremaining: 10h 32m 55s\n",
      "15400:\tlearn: 0.7160484\ttest: 0.6459204\tbest: 0.6465920 (13193)\ttotal: 34m 13s\tremaining: 10h 32m 35s\n",
      "15500:\tlearn: 0.7162346\ttest: 0.6457711\tbest: 0.6465920 (13193)\ttotal: 34m 27s\tremaining: 10h 32m 19s\n",
      "15600:\tlearn: 0.7164213\ttest: 0.6458955\tbest: 0.6465920 (13193)\ttotal: 34m 40s\tremaining: 10h 32m 5s\n",
      "15700:\tlearn: 0.7166131\ttest: 0.6460199\tbest: 0.6465920 (13193)\ttotal: 34m 53s\tremaining: 10h 31m 43s\n",
      "15800:\tlearn: 0.7168043\ttest: 0.6459950\tbest: 0.6465920 (13193)\ttotal: 35m 6s\tremaining: 10h 31m 24s\n",
      "15900:\tlearn: 0.7169662\ttest: 0.6457214\tbest: 0.6465920 (13193)\ttotal: 35m 19s\tremaining: 10h 31m 6s\n",
      "16000:\tlearn: 0.7171574\ttest: 0.6458209\tbest: 0.6465920 (13193)\ttotal: 35m 32s\tremaining: 10h 30m 48s\n",
      "16100:\tlearn: 0.7173103\ttest: 0.6459204\tbest: 0.6465920 (13193)\ttotal: 35m 45s\tremaining: 10h 30m 28s\n",
      "16200:\tlearn: 0.7174868\ttest: 0.6458458\tbest: 0.6465920 (13193)\ttotal: 35m 58s\tremaining: 10h 30m 13s\n",
      "16300:\tlearn: 0.7176532\ttest: 0.6459701\tbest: 0.6465920 (13193)\ttotal: 36m 11s\tremaining: 10h 29m 57s\n",
      "16400:\tlearn: 0.7178332\ttest: 0.6459453\tbest: 0.6465920 (13193)\ttotal: 36m 25s\tremaining: 10h 29m 46s\n"
     ]
    },
    {
     "name": "stdout",
     "output_type": "stream",
     "text": [
      "16500:\tlearn: 0.7179996\ttest: 0.6457214\tbest: 0.6465920 (13193)\ttotal: 36m 38s\tremaining: 10h 29m 33s\n",
      "16600:\tlearn: 0.7181744\ttest: 0.6459701\tbest: 0.6465920 (13193)\ttotal: 36m 51s\tremaining: 10h 29m 16s\n",
      "16700:\tlearn: 0.7183549\ttest: 0.6458706\tbest: 0.6465920 (13193)\ttotal: 37m 4s\tremaining: 10h 28m 59s\n",
      "16800:\tlearn: 0.7185039\ttest: 0.6459453\tbest: 0.6465920 (13193)\ttotal: 37m 17s\tremaining: 10h 28m 39s\n",
      "16900:\tlearn: 0.7186663\ttest: 0.6458955\tbest: 0.6465920 (13193)\ttotal: 37m 30s\tremaining: 10h 28m 20s\n",
      "17000:\tlearn: 0.7188310\ttest: 0.6457711\tbest: 0.6465920 (13193)\ttotal: 37m 43s\tremaining: 10h 28m\n",
      "17100:\tlearn: 0.7189720\ttest: 0.6456965\tbest: 0.6465920 (13193)\ttotal: 37m 56s\tremaining: 10h 27m 43s\n",
      "17200:\tlearn: 0.7191164\ttest: 0.6457214\tbest: 0.6465920 (13193)\ttotal: 38m 9s\tremaining: 10h 27m 23s\n",
      "17300:\tlearn: 0.7193015\ttest: 0.6457960\tbest: 0.6465920 (13193)\ttotal: 38m 22s\tremaining: 10h 27m 9s\n",
      "17400:\tlearn: 0.7194825\ttest: 0.6457463\tbest: 0.6465920 (13193)\ttotal: 38m 35s\tremaining: 10h 26m 51s\n",
      "17500:\tlearn: 0.7196585\ttest: 0.6457463\tbest: 0.6465920 (13193)\ttotal: 38m 48s\tremaining: 10h 26m 32s\n",
      "17600:\tlearn: 0.7198153\ttest: 0.6457463\tbest: 0.6465920 (13193)\ttotal: 39m 2s\tremaining: 10h 26m 17s\n",
      "17700:\tlearn: 0.7199913\ttest: 0.6460448\tbest: 0.6465920 (13193)\ttotal: 39m 15s\tremaining: 10h 26m\n",
      "17800:\tlearn: 0.7201600\ttest: 0.6457711\tbest: 0.6465920 (13193)\ttotal: 39m 28s\tremaining: 10h 25m 44s\n",
      "17900:\tlearn: 0.7203247\ttest: 0.6457214\tbest: 0.6465920 (13193)\ttotal: 39m 41s\tremaining: 10h 25m 36s\n",
      "18000:\tlearn: 0.7204809\ttest: 0.6455473\tbest: 0.6465920 (13193)\ttotal: 39m 55s\tremaining: 10h 25m 27s\n",
      "18100:\tlearn: 0.7206451\ttest: 0.6454726\tbest: 0.6465920 (13193)\ttotal: 40m 8s\tremaining: 10h 25m 8s\n",
      "bestTest = 0.6465920398\n",
      "bestIteration = 13193\n",
      "Shrink model to first 13194 iterations.\n",
      "0:\tlearn: 0.6292977\ttest: 0.6065423\tbest: 0.6065423 (0)\ttotal: 168ms\tremaining: 14h 1m 43s\n",
      "100:\tlearn: 0.6583911\ttest: 0.6311194\tbest: 0.6311194 (100)\ttotal: 13.1s\tremaining: 10h 49m 13s\n",
      "200:\tlearn: 0.6637365\ttest: 0.6361194\tbest: 0.6361194 (200)\ttotal: 27s\tremaining: 11h 12m 23s\n",
      "300:\tlearn: 0.6672090\ttest: 0.6391294\tbest: 0.6391294 (300)\ttotal: 41.2s\tremaining: 11h 23m 11s\n",
      "400:\tlearn: 0.6696494\ttest: 0.6401990\tbest: 0.6402985 (396)\ttotal: 54.7s\tremaining: 11h 21m 15s\n",
      "500:\tlearn: 0.6715313\ttest: 0.6417662\tbest: 0.6418159 (477)\ttotal: 1m 8s\tremaining: 11h 17m 38s\n",
      "600:\tlearn: 0.6732138\ttest: 0.6427114\tbest: 0.6427363 (595)\ttotal: 1m 21s\tremaining: 11h 17m 22s\n",
      "700:\tlearn: 0.6745516\ttest: 0.6428358\tbest: 0.6430100 (680)\ttotal: 1m 35s\tremaining: 11h 17m 29s\n",
      "800:\tlearn: 0.6757467\ttest: 0.6433085\tbest: 0.6433831 (795)\ttotal: 1m 51s\tremaining: 11h 34m 11s\n",
      "900:\tlearn: 0.6767358\ttest: 0.6438557\tbest: 0.6439552 (899)\ttotal: 2m 7s\tremaining: 11h 47m 3s\n",
      "1000:\tlearn: 0.6776824\ttest: 0.6440796\tbest: 0.6443035 (994)\ttotal: 2m 24s\tremaining: 12h 1m 31s\n",
      "1100:\tlearn: 0.6784714\ttest: 0.6444776\tbest: 0.6445522 (1099)\ttotal: 2m 40s\tremaining: 12h 6m 53s\n",
      "1200:\tlearn: 0.6791529\ttest: 0.6446020\tbest: 0.6448010 (1170)\ttotal: 2m 57s\tremaining: 12h 16m 42s\n",
      "1300:\tlearn: 0.6798152\ttest: 0.6441791\tbest: 0.6448010 (1170)\ttotal: 3m 15s\tremaining: 12h 29m 52s\n",
      "1400:\tlearn: 0.6804495\ttest: 0.6439801\tbest: 0.6448010 (1170)\ttotal: 3m 33s\tremaining: 12h 37m 28s\n",
      "1500:\tlearn: 0.6810593\ttest: 0.6441791\tbest: 0.6448010 (1170)\ttotal: 3m 50s\tremaining: 12h 44m 55s\n",
      "1600:\tlearn: 0.6816201\ttest: 0.6441542\tbest: 0.6448010 (1170)\ttotal: 4m 8s\tremaining: 12h 52m 49s\n",
      "1700:\tlearn: 0.6822353\ttest: 0.6443532\tbest: 0.6448010 (1170)\ttotal: 4m 24s\tremaining: 12h 53m 10s\n",
      "1800:\tlearn: 0.6827782\ttest: 0.6445025\tbest: 0.6448010 (1170)\ttotal: 4m 38s\tremaining: 12h 47m 25s\n",
      "1900:\tlearn: 0.6832560\ttest: 0.6445274\tbest: 0.6448010 (1170)\ttotal: 4m 51s\tremaining: 12h 42m 34s\n",
      "2000:\tlearn: 0.6837201\ttest: 0.6444030\tbest: 0.6448010 (1170)\ttotal: 5m 5s\tremaining: 12h 38m 33s\n",
      "2100:\tlearn: 0.6841728\ttest: 0.6443035\tbest: 0.6448010 (1170)\ttotal: 5m 19s\tremaining: 12h 34m 12s\n",
      "2200:\tlearn: 0.6845885\ttest: 0.6442289\tbest: 0.6448010 (1170)\ttotal: 5m 32s\tremaining: 12h 30m 47s\n",
      "2300:\tlearn: 0.6850221\ttest: 0.6443781\tbest: 0.6448010 (1170)\ttotal: 5m 46s\tremaining: 12h 27m 45s\n",
      "2400:\tlearn: 0.6853983\ttest: 0.6444527\tbest: 0.6448010 (1170)\ttotal: 6m\tremaining: 12h 24m 30s\n",
      "2500:\tlearn: 0.6857680\ttest: 0.6442040\tbest: 0.6448010 (1170)\ttotal: 6m 14s\tremaining: 12h 21m 56s\n",
      "2600:\tlearn: 0.6861706\ttest: 0.6444776\tbest: 0.6448010 (1170)\ttotal: 6m 28s\tremaining: 12h 19m 26s\n",
      "2700:\tlearn: 0.6866108\ttest: 0.6444776\tbest: 0.6448010 (1170)\ttotal: 6m 42s\tremaining: 12h 17m 33s\n",
      "2800:\tlearn: 0.6870145\ttest: 0.6444279\tbest: 0.6448010 (1170)\ttotal: 6m 55s\tremaining: 12h 15m 4s\n",
      "2900:\tlearn: 0.6874212\ttest: 0.6445025\tbest: 0.6448010 (1170)\ttotal: 7m 9s\tremaining: 12h 13m 7s\n",
      "3000:\tlearn: 0.6877969\ttest: 0.6443035\tbest: 0.6448010 (1170)\ttotal: 7m 28s\tremaining: 12h 20m 2s\n",
      "3100:\tlearn: 0.6881702\ttest: 0.6442537\tbest: 0.6448010 (1170)\ttotal: 7m 51s\tremaining: 12h 31m 49s\n",
      "3200:\tlearn: 0.6885226\ttest: 0.6443781\tbest: 0.6448010 (1170)\ttotal: 8m 15s\tremaining: 12h 45m 17s\n",
      "3300:\tlearn: 0.6888773\ttest: 0.6445771\tbest: 0.6448010 (1170)\ttotal: 8m 38s\tremaining: 12h 57m 5s\n",
      "3400:\tlearn: 0.6891855\ttest: 0.6443781\tbest: 0.6448010 (1170)\ttotal: 9m\tremaining: 13h 5m 38s\n",
      "3500:\tlearn: 0.6895080\ttest: 0.6445522\tbest: 0.6448010 (1170)\ttotal: 9m 27s\tremaining: 13h 20m 58s\n",
      "3600:\tlearn: 0.6898443\ttest: 0.6441542\tbest: 0.6448010 (1170)\ttotal: 9m 54s\tremaining: 13h 35m 38s\n",
      "3700:\tlearn: 0.6901423\ttest: 0.6442040\tbest: 0.6448010 (1170)\ttotal: 10m 11s\tremaining: 13h 35m 50s\n",
      "3800:\tlearn: 0.6904230\ttest: 0.6441045\tbest: 0.6448010 (1170)\ttotal: 10m 27s\tremaining: 13h 34m 49s\n",
      "3900:\tlearn: 0.6907408\ttest: 0.6439552\tbest: 0.6448010 (1170)\ttotal: 10m 44s\tremaining: 13h 35m 1s\n",
      "4000:\tlearn: 0.6910334\ttest: 0.6438308\tbest: 0.6448010 (1170)\ttotal: 10m 59s\tremaining: 13h 33m 24s\n",
      "4100:\tlearn: 0.6913082\ttest: 0.6436816\tbest: 0.6448010 (1170)\ttotal: 11m 15s\tremaining: 13h 32m 1s\n",
      "4200:\tlearn: 0.6916396\ttest: 0.6436816\tbest: 0.6448010 (1170)\ttotal: 11m 33s\tremaining: 13h 33m 23s\n",
      "4300:\tlearn: 0.6918821\ttest: 0.6435572\tbest: 0.6448010 (1170)\ttotal: 11m 46s\tremaining: 13h 29m 39s\n",
      "4400:\tlearn: 0.6921192\ttest: 0.6436567\tbest: 0.6448010 (1170)\ttotal: 12m\tremaining: 13h 26m 10s\n",
      "4500:\tlearn: 0.6923928\ttest: 0.6438806\tbest: 0.6448010 (1170)\ttotal: 12m 14s\tremaining: 13h 23m 54s\n",
      "4600:\tlearn: 0.6926675\ttest: 0.6437313\tbest: 0.6448010 (1170)\ttotal: 12m 31s\tremaining: 13h 24m 29s\n",
      "4700:\tlearn: 0.6929894\ttest: 0.6435821\tbest: 0.6448010 (1170)\ttotal: 12m 48s\tremaining: 13h 24m 38s\n",
      "4800:\tlearn: 0.6932445\ttest: 0.6437065\tbest: 0.6448010 (1170)\ttotal: 13m 6s\tremaining: 13h 25m 33s\n",
      "4900:\tlearn: 0.6935120\ttest: 0.6436567\tbest: 0.6448010 (1170)\ttotal: 13m 23s\tremaining: 13h 26m 28s\n",
      "5000:\tlearn: 0.6938154\ttest: 0.6436816\tbest: 0.6448010 (1170)\ttotal: 13m 41s\tremaining: 13h 27m 36s\n",
      "5100:\tlearn: 0.6941099\ttest: 0.6439055\tbest: 0.6448010 (1170)\ttotal: 13m 55s\tremaining: 13h 25m 24s\n",
      "5200:\tlearn: 0.6943255\ttest: 0.6439801\tbest: 0.6448010 (1170)\ttotal: 14m 9s\tremaining: 13h 22m 24s\n",
      "5300:\tlearn: 0.6945650\ttest: 0.6440050\tbest: 0.6448010 (1170)\ttotal: 14m 22s\tremaining: 13h 19m 23s\n",
      "5400:\tlearn: 0.6948170\ttest: 0.6439552\tbest: 0.6448010 (1170)\ttotal: 14m 36s\tremaining: 13h 17m 1s\n",
      "5500:\tlearn: 0.6950750\ttest: 0.6440050\tbest: 0.6448010 (1170)\ttotal: 14m 50s\tremaining: 13h 14m 19s\n",
      "5600:\tlearn: 0.6953534\ttest: 0.6439303\tbest: 0.6448010 (1170)\ttotal: 15m 3s\tremaining: 13h 11m 54s\n",
      "5700:\tlearn: 0.6956269\ttest: 0.6437562\tbest: 0.6448010 (1170)\ttotal: 15m 17s\tremaining: 13h 9m 24s\n",
      "5800:\tlearn: 0.6958676\ttest: 0.6438557\tbest: 0.6448010 (1170)\ttotal: 15m 31s\tremaining: 13h 7m 1s\n",
      "5900:\tlearn: 0.6961173\ttest: 0.6438806\tbest: 0.6448010 (1170)\ttotal: 15m 44s\tremaining: 13h 4m 36s\n",
      "6000:\tlearn: 0.6963532\ttest: 0.6439552\tbest: 0.6448010 (1170)\ttotal: 15m 57s\tremaining: 13h 2m 3s\n",
      "6100:\tlearn: 0.6966028\ttest: 0.6440299\tbest: 0.6448010 (1170)\ttotal: 16m 11s\tremaining: 12h 59m 54s\n",
      "bestTest = 0.644800995\n",
      "bestIteration = 1170\n",
      "Shrink model to first 1171 iterations.\n",
      "0:\tlearn: 0.6315997\ttest: 0.6098259\tbest: 0.6098259 (0)\ttotal: 166ms\tremaining: 13h 50m 25s\n",
      "100:\tlearn: 0.6581265\ttest: 0.6316418\tbest: 0.6316667 (99)\ttotal: 13.1s\tremaining: 10h 47m 11s\n",
      "200:\tlearn: 0.6638828\ttest: 0.6354975\tbest: 0.6357711 (199)\ttotal: 27.2s\tremaining: 11h 16m 45s\n"
     ]
    },
    {
     "name": "stdout",
     "output_type": "stream",
     "text": [
      "300:\tlearn: 0.6673768\ttest: 0.6388060\tbest: 0.6390299 (296)\ttotal: 41.5s\tremaining: 11h 28m 17s\n",
      "400:\tlearn: 0.6699449\ttest: 0.6406468\tbest: 0.6406965 (395)\ttotal: 54.7s\tremaining: 11h 21m 11s\n",
      "500:\tlearn: 0.6719121\ttest: 0.6422637\tbest: 0.6422637 (500)\ttotal: 1m 7s\tremaining: 11h 12m 43s\n",
      "600:\tlearn: 0.6736420\ttest: 0.6433333\tbest: 0.6433333 (589)\ttotal: 1m 21s\tremaining: 11h 13m 4s\n",
      "700:\tlearn: 0.6752361\ttest: 0.6437065\tbest: 0.6438557 (692)\ttotal: 1m 34s\tremaining: 11h 13m 58s\n",
      "800:\tlearn: 0.6764532\ttest: 0.6439552\tbest: 0.6440547 (791)\ttotal: 1m 48s\tremaining: 11h 16m 24s\n",
      "900:\tlearn: 0.6775764\ttest: 0.6436318\tbest: 0.6441045 (844)\ttotal: 2m 2s\tremaining: 11h 16m 28s\n",
      "1000:\tlearn: 0.6784198\ttest: 0.6436318\tbest: 0.6441045 (844)\ttotal: 2m 15s\tremaining: 11h 16m 1s\n",
      "1100:\tlearn: 0.6792320\ttest: 0.6436567\tbest: 0.6441045 (844)\ttotal: 2m 29s\tremaining: 11h 16m 15s\n",
      "1200:\tlearn: 0.6801166\ttest: 0.6436070\tbest: 0.6441045 (844)\ttotal: 2m 43s\tremaining: 11h 16m 20s\n",
      "1300:\tlearn: 0.6807963\ttest: 0.6435821\tbest: 0.6441045 (844)\ttotal: 2m 56s\tremaining: 11h 16m 54s\n",
      "1400:\tlearn: 0.6814861\ttest: 0.6440050\tbest: 0.6441791 (1348)\ttotal: 3m 10s\tremaining: 11h 16m 44s\n",
      "1500:\tlearn: 0.6821562\ttest: 0.6442040\tbest: 0.6442537 (1493)\ttotal: 3m 24s\tremaining: 11h 16m 33s\n",
      "1600:\tlearn: 0.6827679\ttest: 0.6440547\tbest: 0.6442537 (1493)\ttotal: 3m 37s\tremaining: 11h 16m 38s\n",
      "1700:\tlearn: 0.6833441\ttest: 0.6445771\tbest: 0.6446020 (1698)\ttotal: 3m 51s\tremaining: 11h 16m 27s\n",
      "1800:\tlearn: 0.6838696\ttest: 0.6445522\tbest: 0.6446766 (1714)\ttotal: 4m 5s\tremaining: 11h 16m 42s\n",
      "1900:\tlearn: 0.6844635\ttest: 0.6447761\tbest: 0.6448756 (1893)\ttotal: 4m 18s\tremaining: 11h 16m 35s\n",
      "2000:\tlearn: 0.6849972\ttest: 0.6449254\tbest: 0.6450995 (1978)\ttotal: 4m 32s\tremaining: 11h 16m 29s\n",
      "2100:\tlearn: 0.6854884\ttest: 0.6449502\tbest: 0.6450995 (1978)\ttotal: 4m 46s\tremaining: 11h 16m 27s\n",
      "2200:\tlearn: 0.6860157\ttest: 0.6450995\tbest: 0.6451741 (2123)\ttotal: 4m 59s\tremaining: 11h 16m 6s\n",
      "2300:\tlearn: 0.6865297\ttest: 0.6450249\tbest: 0.6453234 (2247)\ttotal: 5m 13s\tremaining: 11h 15m 57s\n",
      "2400:\tlearn: 0.6869974\ttest: 0.6451493\tbest: 0.6453234 (2247)\ttotal: 5m 27s\tremaining: 11h 15m 58s\n",
      "2500:\tlearn: 0.6874403\ttest: 0.6453980\tbest: 0.6454975 (2499)\ttotal: 5m 40s\tremaining: 11h 15m 54s\n",
      "2600:\tlearn: 0.6878776\ttest: 0.6453731\tbest: 0.6455224 (2524)\ttotal: 5m 54s\tremaining: 11h 15m 38s\n",
      "2700:\tlearn: 0.6882501\ttest: 0.6454975\tbest: 0.6455224 (2524)\ttotal: 6m 8s\tremaining: 11h 15m 16s\n",
      "2800:\tlearn: 0.6886403\ttest: 0.6453234\tbest: 0.6455721 (2701)\ttotal: 6m 21s\tremaining: 11h 14m 56s\n",
      "2900:\tlearn: 0.6890319\ttest: 0.6454478\tbest: 0.6455721 (2701)\ttotal: 6m 35s\tremaining: 11h 14m 38s\n",
      "3000:\tlearn: 0.6894018\ttest: 0.6453234\tbest: 0.6456468 (2934)\ttotal: 6m 48s\tremaining: 11h 14m 28s\n",
      "3100:\tlearn: 0.6897832\ttest: 0.6454229\tbest: 0.6456468 (2934)\ttotal: 7m 2s\tremaining: 11h 14m 9s\n",
      "3200:\tlearn: 0.6901221\ttest: 0.6456468\tbest: 0.6457463 (3163)\ttotal: 7m 16s\tremaining: 11h 13m 51s\n",
      "3300:\tlearn: 0.6905009\ttest: 0.6456219\tbest: 0.6457463 (3163)\ttotal: 7m 29s\tremaining: 11h 13m 40s\n",
      "3400:\tlearn: 0.6908360\ttest: 0.6456716\tbest: 0.6458706 (3337)\ttotal: 7m 43s\tremaining: 11h 13m 12s\n",
      "3500:\tlearn: 0.6912002\ttest: 0.6456468\tbest: 0.6458706 (3337)\ttotal: 7m 56s\tremaining: 11h 12m 34s\n",
      "3600:\tlearn: 0.6915493\ttest: 0.6457463\tbest: 0.6460199 (3581)\ttotal: 8m 10s\tremaining: 11h 12m 14s\n",
      "3700:\tlearn: 0.6918691\ttest: 0.6459204\tbest: 0.6460199 (3581)\ttotal: 8m 23s\tremaining: 11h 11m 42s\n",
      "3800:\tlearn: 0.6922219\ttest: 0.6462189\tbest: 0.6462189 (3779)\ttotal: 8m 36s\tremaining: 11h 11m 15s\n",
      "3900:\tlearn: 0.6925399\ttest: 0.6462935\tbest: 0.6463930 (3894)\ttotal: 8m 50s\tremaining: 11h 11m 1s\n",
      "4000:\tlearn: 0.6929238\ttest: 0.6463184\tbest: 0.6465423 (3941)\ttotal: 9m 3s\tremaining: 11h 10m 43s\n",
      "4100:\tlearn: 0.6932354\ttest: 0.6461443\tbest: 0.6465423 (3941)\ttotal: 9m 17s\tremaining: 11h 10m 41s\n",
      "4200:\tlearn: 0.6935526\ttest: 0.6461692\tbest: 0.6465423 (3941)\ttotal: 9m 31s\tremaining: 11h 10m 20s\n",
      "4300:\tlearn: 0.6938363\ttest: 0.6463433\tbest: 0.6465423 (3941)\ttotal: 9m 44s\tremaining: 11h 10m 18s\n"
     ]
    }
   ],
   "source": [
    "import random\n",
    "frac_axis1 = [0.7,0.75,0.8,0.85,0.9]\n",
    "frac_axis0 = [0.9,0.85,0.8,0.75,0.7]\n",
    "for index, i in enumerate(frac_axis1):\n",
    "    j = frac_axis0[index]\n",
    "    test_index = np.isnan(data.age_group)\n",
    "    train_index = ~test_index\n",
    "    train_x = data[train_index][feature] \n",
    "    train_y = data[train_index]['age_group']\n",
    "    test_x  = data[test_index][feature]\n",
    "    rand = random.randint(0,2019)\n",
    "    train_x = train_x.sample(frac=i, replace=False, random_state=rand,axis=1)\n",
    "    test_x  = test_x.sample(frac=i, replace=False, random_state=rand,axis=1)\n",
    "    from sklearn.model_selection import train_test_split\n",
    "    X_train, X_validation, y_train, y_validation = train_test_split(train_x, train_y, test_size=0.02, random_state=42)\n",
    "    del train_x\n",
    "    gc.collect()\n",
    "    rand = random.randint(0,2019)\n",
    "    X_train  = X_train.sample(frac=j, replace=False, random_state=rand,axis=0)\n",
    "    y_train  = y_train.sample(frac=j, replace=False, random_state=rand,axis=0)\n",
    "    train_pool = Pool(X_train, y_train)\n",
    "    eval_pool = Pool(X_validation, y_validation)\n",
    "    del X_train\n",
    "    #del X_validation\n",
    "    del y_train\n",
    "    del y_validation\n",
    "    gc.collect()\n",
    "    model = CatBoostClassifier(iterations=300000,\n",
    "                           learning_rate=0.01,\n",
    "                           eval_metric='Accuracy',\n",
    "                           use_best_model=True,\n",
    "                           random_seed=2019,\n",
    "                           logging_level='Verbose',\n",
    "                           task_type='GPU',\n",
    "                           devices='2',\n",
    "                           early_stopping_rounds=5000,\n",
    "                           loss_function='MultiClass',\n",
    "                           depth=8,\n",
    "                           #gpu_ram_part=0.3,\n",
    "                           )\n",
    "    model.fit(train_pool, eval_set=eval_pool, verbose=100) #0.6486\n",
    "    pred_val = model.predict_proba(X_validation)\n",
    "    pred_test = model.predict_proba(test_x)\n",
    "    np.save(\"./out/proba_val_{}.npy\".format(round(model.best_score_['validation']['Accuracy'],6)), pred_val)\n",
    "    np.save(\"./out/proba_test_{}.npy\".format(round(model.best_score_['validation']['Accuracy'],6)), pred_test)"
   ]
  },
  {
   "cell_type": "code",
   "execution_count": 41,
   "metadata": {},
   "outputs": [],
   "source": [
    "pred_val = model.predict_proba(X_validation)\n",
    "pred_test = model.predict_proba(test_x)\n",
    "np.save(\"./out/proba_val_{}.npy\".format(round(model.best_score_['validation']['Accuracy'],5)), pred_val)\n",
    "np.save(\"./out/proba_test_{}.npy\".format(round(model.best_score_['validation']['Accuracy'],5)), pred_test)"
   ]
  },
  {
   "cell_type": "code",
   "execution_count": null,
   "metadata": {},
   "outputs": [],
   "source": []
  }
 ],
 "metadata": {
  "kernelspec": {
   "display_name": "Python 3",
   "language": "python",
   "name": "python3"
  },
  "language_info": {
   "codemirror_mode": {
    "name": "ipython",
    "version": 3
   },
   "file_extension": ".py",
   "mimetype": "text/x-python",
   "name": "python",
   "nbconvert_exporter": "python",
   "pygments_lexer": "ipython3",
   "version": "3.6.7"
  }
 },
 "nbformat": 4,
 "nbformat_minor": 2
}
