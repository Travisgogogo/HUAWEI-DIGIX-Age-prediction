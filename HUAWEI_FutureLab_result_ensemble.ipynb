{
 "cells": [
  {
   "cell_type": "code",
   "execution_count": 1,
   "metadata": {},
   "outputs": [],
   "source": [
    "import numpy as np\n",
    "import pandas as pd\n",
    "from sklearn.metrics import accuracy_score\n",
    "import random\n",
    "from tqdm import tnrange"
   ]
  },
  {
   "cell_type": "markdown",
   "metadata": {},
   "source": [
    "# Load data"
   ]
  },
  {
   "cell_type": "code",
   "execution_count": 2,
   "metadata": {},
   "outputs": [],
   "source": [
    "age_test = pd.read_csv('./data/age_test.csv', header = None, names = ['uId'])\n",
    "age_train = pd.read_csv('./data/age_train.csv', header = None, names = ['uId','age_group'])\n",
    "data = pd.concat([age_train,age_test], axis = 0,sort=True).reset_index()\n",
    "data.drop(['index'],axis=1,inplace=True)"
   ]
  },
  {
   "cell_type": "code",
   "execution_count": 3,
   "metadata": {
    "scrolled": true
   },
   "outputs": [
    {
     "name": "stdout",
     "output_type": "stream",
     "text": [
      "CPU times: user 358 ms, sys: 76.1 ms, total: 434 ms\n",
      "Wall time: 435 ms\n"
     ]
    }
   ],
   "source": [
    "%%time\n",
    "test_index = np.isnan(data.age_group)\n",
    "train_index = ~test_index\n",
    "from sklearn.model_selection import train_test_split\n",
    "X_train, X_validation, y_train, y_validation = train_test_split(data[train_index], data[train_index]['age_group'], test_size=0.02, random_state=42)"
   ]
  },
  {
   "cell_type": "code",
   "execution_count": 4,
   "metadata": {},
   "outputs": [],
   "source": [
    "res_test_64898 = np.load(\"./out/proba_test_64898.npy\")\n",
    "res_val_64898 = np.load(\"./out/proba_val_64898.npy\")\n",
    "res_test_65017 = np.load(\"./out/proba_test_65017.npy\")\n",
    "res_val_65017 = np.load(\"./out/proba_val_65017.npy\")\n",
    "res_test_6504 = np.load(\"./out/proba_test_6504.npy\")\n",
    "res_val_6504 = np.load(\"./out/proba_val_6504.npy\")\n",
    "res_test_6489 = np.load(\"./out/proba_test_6489.npy\")\n",
    "res_val_6489 = np.load(\"./out/proba_val_6489.npy\")\n",
    "res_test_65077 = np.load(\"./out/proba_test_65077.npy\")\n",
    "res_val_65077 = np.load(\"./out/proba_val_65077.npy\")\n",
    "res_test_65042 = np.load(\"./out/proba_test_65042.npy\")\n",
    "res_val_65042 = np.load(\"./out/proba_val_65042.npy\")\n",
    "res_test_65131 = np.load(\"./out/proba_test_65131.npy\")\n",
    "res_val_65131 = np.load(\"./out/proba_val_65131.npy\")\n",
    "res_test_6362 = np.load(\"./out/proba_test_6362.npy\")\n",
    "res_val_6362 = np.load(\"./out/proba_val_6362.npy\")\n",
    "res_test_6429 = np.load(\"./out/proba_test_6429.npy\")\n",
    "res_val_6429 = np.load(\"./out/proba_val_6429.npy\")\n",
    "res_test_6513 = np.load(\"./out/proba_test_6513.npy\")\n",
    "res_val_6513 = np.load(\"./out/proba_val_6513.npy\")\n",
    "res_test_6535 = np.load(\"./out/proba_test_6535.npy\")\n",
    "res_val_6535 = np.load(\"./out/proba_val_6535.npy\")\n",
    "res_test_6534 = np.load(\"./out/proba_test_6534.npy\")\n",
    "res_val_6534 = np.load(\"./out/proba_val_6534.npy\")\n",
    "res_test_6550 = np.load(\"./out/proba_test_6550.npy\")\n",
    "res_val_6550 = np.load(\"./out/proba_val_6550.npy\")\n",
    "res_test_6463 = np.load(\"./out/proba_test_6463.npy\")\n",
    "res_val_6463 = np.load(\"./out/proba_val_6463.npy\")\n",
    "res_test_6473 = np.load(\"./out/proba_test_6473.npy\")\n",
    "res_val_6473 = np.load(\"./out/proba_val_6473.npy\")\n",
    "res_test_6490 = np.load(\"./out/proba_test_6490.npy\")\n",
    "res_val_6490 = np.load(\"./out/proba_val_6490.npy\")\n",
    "res_test_6443 = np.load(\"./out/proba_test_6443.npy\")\n",
    "res_val_6443 = np.load(\"./out/proba_val_6443.npy\")\n",
    "res_test_6440 = np.load(\"./out/proba_test_6440.npy\")\n",
    "res_val_6440 = np.load(\"./out/proba_val_6440.npy\")\n",
    "res_test_64983 = np.load(\"./out/proba_test_64983.npy\")\n",
    "res_val_64983 = np.load(\"./out/proba_val_64983.npy\")\n",
    "res_test_64611 = np.load(\"./out/proba_test_64611.npy\")\n",
    "res_val_64611 = np.load(\"./out/proba_val_64611.npy\")\n",
    "res_test_64639 = np.load(\"./out/proba_test_64639.npy\")\n",
    "res_val_64639 = np.load(\"./out/proba_val_64639.npy\")\n",
    "res_test_64527 = np.load(\"./out/proba_test_0.64527.npy\")\n",
    "res_val_64527 = np.load(\"./out/proba_val_0.64527.npy\")\n",
    "res_test_646390 = np.load(\"./out/proba_test_0.64639.npy\")\n",
    "res_val_646390 = np.load(\"./out/proba_val_0.64639.npy\")\n",
    "res_test_64711 = np.load(\"./out/proba_test_0.64711.npy\")\n",
    "res_val_64711 = np.load(\"./out/proba_val_0.64711.npy\")\n",
    "res_test_64687 = np.load(\"./out/proba_test_0.64687.npy\")\n",
    "res_val_64687 = np.load(\"./out/proba_val_0.64687.npy\")\n",
    "res_test_64659 = np.load(\"./out/proba_test_0.64659.npy\")\n",
    "res_val_64659 = np.load(\"./out/proba_val_0.64659.npy\")\n",
    "res_test_64647 = np.load(\"./out/proba_test_0.64647.npy\")\n",
    "res_val_64647 = np.load(\"./out/proba_val_0.64647.npy\")\n",
    "res_test_64741 = np.load(\"./out/proba_test_0.64741.npy\")\n",
    "res_val_64741 = np.load(\"./out/proba_val_0.64741.npy\")\n",
    "res_test_64488 = np.load(\"./out/proba_test_0.64488.npy\")\n",
    "res_val_64488 = np.load(\"./out/proba_val_0.64488.npy\")\n",
    "res_test_646 = np.load(\"./out/proba_test_0.646.npy\")\n",
    "res_val_646 = np.load(\"./out/proba_val_0.646.npy\")\n",
    "res_test_64764 = np.load(\"./out/proba_test_0.64764.npy\")\n",
    "res_val_64764 = np.load(\"./out/proba_val_0.64764.npy\")\n",
    "res_test_64729 = np.load(\"./out/proba_test_0.64729.npy\")\n",
    "res_val_64729 = np.load(\"./out/proba_val_0.64729.npy\")\n",
    "res_test_64801 = np.load(\"./out/proba_test_0.64801.npy\")\n",
    "res_val_64801 = np.load(\"./out/proba_val_0.64801.npy\")\n",
    "res_test_64746 = np.load(\"./out/proba_test_0.64746.npy\")\n",
    "res_val_64746 = np.load(\"./out/proba_val_0.64746.npy\")\n",
    "res_test_64751 = np.load(\"./out/proba_test_0.64751.npy\")\n",
    "res_val_64751 = np.load(\"./out/proba_val_0.64751.npy\")\n",
    "res_test_644801 = np.load(\"./out/proba_test_0.644801.npy\")\n",
    "res_val_644801 = np.load(\"./out/proba_val_0.644801.npy\")\n",
    "res_test_64896 = np.load(\"./out/proba_test_0.64896.npy\")\n",
    "res_val_64896 = np.load(\"./out/proba_val_0.64896.npy\")\n",
    "res_test_646592 = np.load(\"./out/proba_test_0.646592.npy\")\n",
    "res_val_646592 = np.load(\"./out/proba_val_0.646592.npy\")\n",
    "res_test_64659 = np.load(\"./out/proba_test_0.64659.npy\")\n",
    "res_val_64659 = np.load(\"./out/proba_val_0.64659.npy\")\n",
    "res_test_64784 = np.load(\"./out/proba_test_0.64784.npy\")\n",
    "res_val_64784 = np.load(\"./out/proba_val_0.64784.npy\")\n",
    "res_test_64871 = np.load(\"./out/proba_test_0.64871.npy\")\n",
    "res_val_64871 = np.load(\"./out/proba_val_0.64871.npy\")\n",
    "res_test_65221 = np.load(\"./out/proba_test_0.65221.npy\")\n",
    "res_val_65221 = np.load(\"./out/proba_val_0.65221.npy\")\n",
    "res_test_65117 = np.load(\"./out/proba_test_0.65117.npy\")\n",
    "res_val_65117 = np.load(\"./out/proba_val_0.65117.npy\")\n",
    "res_test_64649 = np.load(\"./out/proba_test_0.64649.npy\")\n",
    "res_val_64649 = np.load(\"./out/proba_val_0.64649.npy\")\n",
    "res_test_6503 = np.load(\"./out/proba_test_0.6503.npy\")\n",
    "res_val_6503 = np.load(\"./out/proba_val_0.6503.npy\")\n",
    "res_test_65236 = np.load(\"./out/proba_test_0.65236.npy\")\n",
    "res_val_65236 = np.load(\"./out/proba_val_0.65236.npy\")"
   ]
  },
  {
   "cell_type": "markdown",
   "metadata": {},
   "source": [
    "# 对各模型结果用随机数作权重进行组合"
   ]
  },
  {
   "cell_type": "code",
   "execution_count": null,
   "metadata": {},
   "outputs": [],
   "source": [
    "best_score = 0.659\n",
    "for i in tnrange(0,3000000,1):\n",
    "    i1 = random.uniform(25, 35)#0.1636255590669533\n",
    "    i2 = random.uniform(19, 29) #1.4855965015936774 # \n",
    "    i3 = random.uniform(-5, 5)#8.329328614291946 #\n",
    "    i4 = random.uniform(-90, -80)#-2.9972802044593543 #\n",
    "    i5 = random.uniform(23, 33)#3.852821930031347 #\n",
    "    i6 = random.uniform(81, 91)#-1.8581970197832307 #\n",
    "    i7 = random.uniform(89, 99)#10.104086995652871 #\n",
    "    i8 = random.uniform(46, 56) #0.9999500014820883 #\n",
    "    i9 = random.uniform(40, 50) #0.9998254782546445 #\n",
    "    i10 =random.uniform(11, 21)# 0.002169386183770161 #\n",
    "    i11 =random.uniform(-11, -1)# 1.0019618676346278 #\n",
    "    i12 =random.uniform(-87, -77)# 0#\n",
    "    i13 =random.uniform(-75, -65)# 2#\n",
    "    i14 =random.uniform(62, 72)# 1#\n",
    "    i15 =random.uniform(86, 96)# 0.9887095911033461#\n",
    "    i16 =random.uniform(42, 52)\n",
    "    i17 =random.uniform(-66, -56)\n",
    "    i18 =random.uniform(-5, 5)\n",
    "    i19 =random.uniform(42, 52)\n",
    "    i20 =random.uniform(67, 77)\n",
    "    i21 =random.uniform(80, 90)\n",
    "    i22 =random.uniform(42, 52)\n",
    "    i23 =random.uniform(-32, -22)\n",
    "    i24 =random.uniform(-58, -48)\n",
    "    i25 =random.uniform(67, 77)\n",
    "    i26 =random.uniform(17, 27)\n",
    "    i27 =random.uniform(-25, -15)\n",
    "    i28 =random.uniform(-3, 7)\n",
    "    i29 =random.uniform(-72, -62)# 0.002169386183770161 #\n",
    "    i30 =random.uniform(76, 86)# 1.0019618676346278 #\n",
    "    i31 =random.uniform(-33, -23)# 0#\n",
    "    i32 =random.uniform(44, 54)# 2#\n",
    "    i33 =random.uniform(24, 34)# 1#\n",
    "    i34 =random.uniform(-56, -46)# 0.9887095911033461#\n",
    "    i35 =random.uniform(40, 50)\n",
    "    i36 =random.uniform(-81, -71)\n",
    "    i37 =random.uniform(-68, -58)\n",
    "    i38 =random.uniform(-11, -1)\n",
    "    i39 =random.uniform(-68, -58)\n",
    "    i40 =random.uniform(-60, -50)\n",
    "    i41 =random.uniform(-49,-39)\n",
    "    i42 =random.uniform(47, 57)\n",
    "    i43 =random.uniform(-35, -25)\n",
    "    i44 =random.uniform(49, 59)\n",
    "    i45 =random.uniform(-33, -23)\n",
    "    i46 =random.uniform(73, 83)\n",
    "    \n",
    "    res_val = np.argmax(i1*res_val_65236+i2*res_val_65221+i3*res_val_65117+i4*res_val_64649+i6*res_val_6503+i7*res_val_6550+i8*res_val_6535+i9*res_val_6534+i10*res_val_65131+i11*res_val_6513+i12*res_val_65077+i13*res_val_65042+i14*res_val_6504+i15*res_val_65017+i16*res_val_64983+i17*res_val_6490+i18*res_val_64898+i19*res_val_64896+i20*res_val_6489+i21*res_val_64871+i22*res_val_64801+i23*res_val_64784+i24*res_val_64764+i25*res_val_64751+i26*res_val_64746+i27*res_val_64741+i28*res_val_6473+i29*res_val_64729+i30*res_val_64711+i31*res_val_64687+i32*res_val_646592+i33*res_val_64659+i34*res_val_64647+i35*res_val_646390+i36*res_val_64639+i37*res_val_6463+i38*res_val_64611+i39*res_val_646+i40*res_val_64527+i41*res_val_64488+i42*res_val_644801+i43*res_val_6443+i44*res_val_6440+i45*res_val_6429+i46*res_val_6362, axis=1) + 1\n",
    "    acc = accuracy_score(y_true=y_validation, y_pred=res_val)\n",
    "    if acc>best_score:\n",
    "        best_score=acc\n",
    "        res_test = np.argmax(i1*res_test_65236+i2*res_test_65221+i3*res_test_65117+i4*res_test_64649+i6*res_test_6503+i7*res_test_6550+i8*res_test_6535+i9*res_test_6534+i10*res_test_65131+i11*res_test_6513+i12*res_test_65077+i13*res_test_65042+i14*res_test_6504+i15*res_test_65017+i16*res_test_64983+i17*res_test_6490+i18*res_test_64898+i19*res_test_64896+i20*res_test_6489+i21*res_test_64871+i22*res_test_64801+i23*res_test_64784+i24*res_test_64764+i25*res_test_64751+i26*res_test_64746+i27*res_test_64741+i28*res_test_6473+i29*res_test_64729+i30*res_test_64711+i31*res_test_64687+i32*res_test_646592+i33*res_test_64659+i34*res_test_64647+i35*res_test_646390+i36*res_test_64639+i37*res_test_6463+i38*res_test_64611+i39*res_test_646+i40*res_test_64527+i41*res_test_64488+i42*res_test_644801+i43*res_test_6443+i44*res_test_6440+i45*res_test_6429+i46*res_test_6362, axis=1) + 1\n",
    "        print(\"i1=\",i1,\"i2=\",i2,\"i3=\",i3,\"i4=\",i4,\"i5=\",i5,\"i6=\",i6,\"i7=\",i7,\"i8=\",i8,\"i9=\",i9,\"i10=\",i10,\"i11=\",i11,\"i12=\",i12,\"i13=\",i13,\"i14=\",i14,\"i15=\",i15,\"i16=\",i16,\"i17=\",i17,\"i18=\",i18,\"i19=\",i19,\"i20=\",i20,\"i21=\",i21,\"i22=\",i22,\"i23=\",i23,\"i24=\",i24,\"i25=\",i25,\"i26=\",i26,\"i27=\",i27,\"i28=\",i28,\"i29=\",i29,\"i30=\",i30,\"i31=\",i31,\"i32=\",i32,\"i33=\",i33,\"i34=\",i34,\"i35=\",i35,\"i36=\",i36,\"i37=\",i37,\"i38=\",i38,\"i39=\",i39,\"i40=\",i40,\"i41=\",i41,\"i42=\",i42,\"i43=\",i43,\"i44=\",i44,\"i45=\",i45,\"i46=\",i46,\"  \",\"accuracy=\",acc)\n",
    "        print(acc)\n",
    "        #65957"
   ]
  },
  {
   "cell_type": "code",
   "execution_count": 12,
   "metadata": {},
   "outputs": [
    {
     "name": "stdout",
     "output_type": "stream",
     "text": [
      "Save Done.\n"
     ]
    }
   ],
   "source": [
    "result = pd.DataFrame()\n",
    "result['id'] = data[test_index]['uId']\n",
    "result['label'] = res_test.astype(int)\n",
    "result.to_csv('./out/submission.csv', index=False)\n",
    "print('Save Done.')"
   ]
  },
  {
   "cell_type": "code",
   "execution_count": 3,
   "metadata": {},
   "outputs": [],
   "source": [
    "pred_val_cb_6120 = np.load(\"./out/proba_cb_nan_val_6120.npy\")\n",
    "pred_test_cb_6120 = np.load(\"./out/proba_cb_nan_test_6120.npy\")\n",
    "pred_val_lgb_61228 = np.load(\"./out/proba_lgb_nan_val_612284.npy\")\n",
    "pred_test_lgb_61228 = np.load(\"./out/proba_lgb_nan_test_612284.npy\")\n",
    "pred_val_xgb_61312 = np.load(\"./out/proba_xgb_nan_val_61312.npy\")\n",
    "pred_test_xgb_61312 = np.load(\"./out/proba_xgb_nan_test_61312.npy\")\n",
    "pred_val_xgb_6118 = np.load(\"./out/proba_xgb_nan_val_6118.npy\")\n",
    "pred_test_xgb_6118 = np.load(\"./out/proba_xgb_nan_test_6118.npy\")\n",
    "pred_val_xgb_6114 = np.load(\"./out/proba_xgb_nan_val_6114.npy\")\n",
    "pred_test_xgb_6114 = np.load(\"./out/proba_xgb_nan_test_6114.npy\")"
   ]
  },
  {
   "cell_type": "code",
   "execution_count": 4,
   "metadata": {},
   "outputs": [
    {
     "data": {
      "application/vnd.jupyter.widget-view+json": {
       "model_id": "d017d46a59014e9ebb68eb820f5769c3",
       "version_major": 2,
       "version_minor": 0
      },
      "text/plain": [
       "HBox(children=(IntProgress(value=0, max=100000), HTML(value='')))"
      ]
     },
     "metadata": {},
     "output_type": "display_data"
    },
    {
     "name": "stdout",
     "output_type": "stream",
     "text": [
      "\n"
     ]
    },
    {
     "ename": "NameError",
     "evalue": "name 'y_validation' is not defined",
     "output_type": "error",
     "traceback": [
      "\u001b[0;31m---------------------------------------------------------------------------\u001b[0m",
      "\u001b[0;31mNameError\u001b[0m                                 Traceback (most recent call last)",
      "\u001b[0;32m<ipython-input-4-d9969242ad5f>\u001b[0m in \u001b[0;36m<module>\u001b[0;34m\u001b[0m\n\u001b[1;32m     10\u001b[0m \u001b[0;34m\u001b[0m\u001b[0m\n\u001b[1;32m     11\u001b[0m     \u001b[0mres_val\u001b[0m \u001b[0;34m=\u001b[0m \u001b[0mnp\u001b[0m\u001b[0;34m.\u001b[0m\u001b[0margmax\u001b[0m\u001b[0;34m(\u001b[0m\u001b[0mi1\u001b[0m\u001b[0;34m*\u001b[0m\u001b[0mpred_val_cb_6120\u001b[0m\u001b[0;34m+\u001b[0m\u001b[0mi2\u001b[0m\u001b[0;34m*\u001b[0m\u001b[0mpred_val_lgb_61228\u001b[0m\u001b[0;34m+\u001b[0m\u001b[0mi3\u001b[0m\u001b[0;34m*\u001b[0m\u001b[0mpred_val_xgb_61312\u001b[0m\u001b[0;34m+\u001b[0m\u001b[0mi4\u001b[0m\u001b[0;34m*\u001b[0m\u001b[0mpred_val_xgb_6118\u001b[0m\u001b[0;34m+\u001b[0m\u001b[0mi5\u001b[0m\u001b[0;34m*\u001b[0m\u001b[0mpred_val_xgb_6114\u001b[0m\u001b[0;34m,\u001b[0m \u001b[0maxis\u001b[0m\u001b[0;34m=\u001b[0m\u001b[0;36m1\u001b[0m\u001b[0;34m)\u001b[0m \u001b[0;34m+\u001b[0m \u001b[0;36m1\u001b[0m\u001b[0;34m\u001b[0m\u001b[0;34m\u001b[0m\u001b[0m\n\u001b[0;32m---> 12\u001b[0;31m     \u001b[0macc\u001b[0m \u001b[0;34m=\u001b[0m \u001b[0maccuracy_score\u001b[0m\u001b[0;34m(\u001b[0m\u001b[0my_true\u001b[0m\u001b[0;34m=\u001b[0m\u001b[0my_validation\u001b[0m\u001b[0;34m,\u001b[0m \u001b[0my_pred\u001b[0m\u001b[0;34m=\u001b[0m\u001b[0mres_val\u001b[0m\u001b[0;34m)\u001b[0m\u001b[0;34m\u001b[0m\u001b[0;34m\u001b[0m\u001b[0m\n\u001b[0m\u001b[1;32m     13\u001b[0m     \u001b[0;32mif\u001b[0m \u001b[0macc\u001b[0m\u001b[0;34m>\u001b[0m\u001b[0mbest_score\u001b[0m\u001b[0;34m:\u001b[0m\u001b[0;34m\u001b[0m\u001b[0;34m\u001b[0m\u001b[0m\n\u001b[1;32m     14\u001b[0m         \u001b[0mbest_score\u001b[0m\u001b[0;34m=\u001b[0m\u001b[0macc\u001b[0m\u001b[0;34m\u001b[0m\u001b[0;34m\u001b[0m\u001b[0m\n",
      "\u001b[0;31mNameError\u001b[0m: name 'y_validation' is not defined"
     ]
    }
   ],
   "source": [
    "best_score = 0\n",
    "from tqdm import tnrange\n",
    "import random\n",
    "for i in tnrange(0,100000,1):\n",
    "    i1 = random.uniform(0, 10)#0.1636255590669533\n",
    "    i2 = random.uniform(0, 10) #1.4855965015936774 # \n",
    "    i3 = random.uniform(0, 10)#8.329328614291946 #\n",
    "    i4 = random.uniform(0, 10)\n",
    "    i5 = random.uniform(0, 10)\n",
    "    \n",
    "    res_val = np.argmax(i1*pred_val_cb_6120+i2*pred_val_lgb_61228+i3*pred_val_xgb_61312+i4*pred_val_xgb_6118+i5*pred_val_xgb_6114, axis=1) + 1\n",
    "    acc = accuracy_score(y_true=y_validation, y_pred=res_val)\n",
    "    if acc>best_score:\n",
    "        best_score=acc\n",
    "        res_test = np.argmax(i1*pred_test_cb+i2*pred_test_lgb+i3*pred_test_xgb+i4*pred_test_xgb_6118+i5*pred_test_xgb_6114, axis=1) + 1\n",
    "        print(\"i1=\",i1,\"i2=\",i2,\"i3=\",i3,\"  \",\"accuracy=\",acc)\n",
    "        print(acc)\n",
    "        #6138"
   ]
  },
  {
   "cell_type": "markdown",
   "metadata": {},
   "source": [
    "# 用LightGBM作次级分类器"
   ]
  },
  {
   "cell_type": "code",
   "execution_count": 167,
   "metadata": {},
   "outputs": [],
   "source": [
    "import lightgbm_gpu as lgb\n",
    "from sklearn.model_selection import train_test_split\n",
    "from sklearn.model_selection import StratifiedKFold,KFold\n",
    "import warnings\n",
    "warnings.filterwarnings(\"ignore\")"
   ]
  },
  {
   "cell_type": "code",
   "execution_count": 164,
   "metadata": {},
   "outputs": [],
   "source": [
    "train_x = np.hstack([res_val_6490,res_val_6362,res_val_6429,res_val_6489,res_val_64898,res_val_65017,res_val_6504,res_val_6504,res_val_65042,res_val_65077,res_val_6513,res_val_65131,res_val_6535,res_val_6534,res_val_6550])\n",
    "test_x = np.hstack([res_test_6490,res_test_6362,res_test_6429,res_test_6489,res_test_64898,res_test_65017,res_test_6504,res_test_6504,res_test_65042,res_test_65077,res_test_6513,res_test_65131,res_test_6535,res_test_6534,res_test_6550])\n",
    "train_y = y_validation.values\n",
    "train_x = pd.DataFrame(train_x)\n",
    "test_x = pd.DataFrame(test_x)\n",
    "train_y = pd.DataFrame(train_y)"
   ]
  },
  {
   "cell_type": "code",
   "execution_count": 28,
   "metadata": {
    "scrolled": true
   },
   "outputs": [],
   "source": [
    "X_train, X_validation, y_train, y_validation = train_test_split(train_x, train_y, test_size=0.2, random_state=42)"
   ]
  },
  {
   "cell_type": "code",
   "execution_count": 165,
   "metadata": {},
   "outputs": [],
   "source": [
    "def acc(labels,preds):\n",
    "    preds = np.argmax(preds.reshape(6, -1), axis=0)\n",
    "    score = accuracy_score(y_true=labels, y_pred=preds)\n",
    "    return 'accuracy', score, True"
   ]
  },
  {
   "cell_type": "code",
   "execution_count": null,
   "metadata": {},
   "outputs": [],
   "source": [
    "from sklearn.model_selection import StratifiedKFold\n",
    "n_splits = 10\n",
    "skf = StratifiedKFold(n_splits=n_splits,shuffle=True, random_state=42)\n",
    "\n",
    "val_scores = [0] * n_splits\n",
    "cv_val = np.zeros((train_x.shape[0],6))\n",
    "\n",
    "for i,(fit_idx,val_idx) in enumerate(skf.split(train_x, train_y)):\n",
    "    X_fit = train_x.iloc[fit_idx]\n",
    "    y_fit = train_y.iloc[fit_idx]\n",
    "    X_val = train_x.iloc[val_idx]\n",
    "    y_val = train_y.iloc[val_idx]\n",
    "    \n",
    "    lgb_model = lgb.LGBMClassifier(boosting_type=\"gbdt\", num_leaves=52, reg_alpha=0.1, reg_lambda=1,\n",
    "                                max_depth=-1, n_estimators=5000, objective='multiclass',sub_feature=0.8,\n",
    "                                subsample=0.8, colsample_bytree=0.8, subsample_freq=1,min_child_samples=50,  \n",
    "                               learning_rate=0.01, random_state=2019, metric=\"None\",n_jobs=8,device='cpu')\n",
    "    \n",
    "    lgb_model.fit(X_fit,y_fit,eval_set=[(X_val, y_val)],eval_metric=acc,early_stopping_rounds=50,verbose=None)\n",
    "    \n",
    "    val_scores[i] = lgb_model.best_score_['valid_0']['accuracy']\n",
    "    cv_val[val_idx] = lgb_model.predict_proba(X_val)\n",
    "    print('Fold {} acc: {:.5f}'.format(i+1, val_scores[i]))\n",
    "    \n",
    "\n",
    "val_mean = np.mean(val_scores)\n",
    "val_std = np.std(val_scores)\n",
    " \n",
    "print('average acc: {:.5f} (±{:.5f})'.format(val_mean, val_std)) #0.657"
   ]
  },
  {
   "cell_type": "code",
   "execution_count": null,
   "metadata": {},
   "outputs": [],
   "source": [
    "res_test = lgb_model.predict(test_x)\n",
    "result = pd.DataFrame()\n",
    "result['id'] = data[test_index]['uId']\n",
    "result['label'] = res_test.astype(int)\n",
    "result.to_csv('./out/submission.csv', index=False)\n",
    "print('Save Done.')"
   ]
  },
  {
   "cell_type": "markdown",
   "metadata": {},
   "source": [
    "# 尝试利用各种线性模型对各模型结果进行融合"
   ]
  },
  {
   "cell_type": "code",
   "execution_count": 15,
   "metadata": {},
   "outputs": [],
   "source": [
    "from sklearn.linear_model import LogisticRegression,RidgeClassifierCV,RidgeClassifier,LogisticRegressionCV,SGDClassifier\n",
    "import gc"
   ]
  },
  {
   "cell_type": "code",
   "execution_count": 14,
   "metadata": {},
   "outputs": [
    {
     "data": {
      "text/plain": [
       "(40200, 240)"
      ]
     },
     "execution_count": 14,
     "metadata": {},
     "output_type": "execute_result"
    }
   ],
   "source": [
    "#all\n",
    "train_x = np.hstack([res_val_65236,res_val_65221,res_val_65117,res_val_64649,res_val_64881,res_val_6503,res_val_6550,res_val_6535,res_val_6534,res_val_65131,res_val_6513,res_val_65077,res_val_65042,res_val_6504,res_val_65017,res_val_64983,res_val_6490,res_val_64898,res_val_64896,res_val_6489,res_val_64871,res_val_64801,res_val_64784,res_val_64764,res_val_64751,res_val_64746,res_val_64741,res_val_6473,res_val_64729,res_val_64711,res_val_64687,res_val_646592,res_val_64659,res_val_64647,res_val_646390,res_val_64639,res_val_6463,res_val_64611,res_val_646,res_val_64527,res_val_64488,res_val_644801,res_val_6443,res_val_6440,res_val_6429,res_val_6362])\n",
    "test_x  = np.hstack([res_test_65236,res_test_65221,res_test_65117,res_test_64649,res_test_64881,res_test_6503,res_test_6550,res_test_6535,res_test_6534,res_test_65131,res_test_6513,res_test_65077,res_test_65042,res_test_6504,res_test_65017,res_test_64983,res_test_6490,res_test_64898,res_test_64896,res_test_6489,res_test_64871,res_test_64801,res_test_64784,res_test_64764,res_test_64751,res_test_64746,res_test_64741,res_test_6473,res_test_64729,res_test_64711,res_test_64687,res_test_646592,res_test_64659,res_test_64647,res_test_646390,res_test_64639,res_test_6463,res_test_64611,res_test_646,res_test_64527,res_test_64488,res_test_644801,res_test_6443,res_test_6440,res_test_6429,res_test_6362])\n",
    "train_y = y_validation\n",
    "train_x.shape"
   ]
  },
  {
   "cell_type": "code",
   "execution_count": 116,
   "metadata": {},
   "outputs": [
    {
     "data": {
      "text/plain": [
       "(40200, 234)"
      ]
     },
     "execution_count": 116,
     "metadata": {},
     "output_type": "execute_result"
    }
   ],
   "source": [
    "#few\n",
    "train_x = np.hstack([res_val_65236,res_val_65221,res_val_64649,res_val_6503,res_val_6550,res_val_6535,res_val_6534,res_val_65131,res_val_6513,res_val_65077,res_val_65042,res_val_65017,res_val_64983,res_val_6490,res_val_64898,res_val_64896,res_val_64801,res_val_64784,res_val_64764,res_val_64751,res_val_64746,res_val_64741,res_val_64729,res_val_64711,res_val_64687,res_val_646592,res_val_64659,res_val_64647,res_val_646390,res_val_64639,res_val_6463,res_val_64611,res_val_646,res_val_64527,res_val_64488,res_val_644801,res_val_6440,res_val_6429,res_val_6362])\n",
    "test_x  = np.hstack([res_test_65236,res_test_65221,res_test_64649,res_test_6503,res_test_6550,res_test_6535,res_test_6534,res_test_65131,res_test_6513,res_test_65077,res_test_65042,res_test_65017,res_test_64983,res_test_6490,res_test_64898,res_test_64896,res_test_64801,res_test_64784,res_test_64764,res_test_64751,res_test_64746,res_test_64741,res_test_64729,res_test_64711,res_test_64687,res_test_646592,res_test_64659,res_test_64647,res_test_646390,res_test_64639,res_test_6463,res_test_64611,res_test_646,res_test_64527,res_test_64488,res_test_644801,res_test_6440,res_test_6429,res_test_6362])\n",
    "train_y = y_validation\n",
    "train_x.shape"
   ]
  },
  {
   "cell_type": "code",
   "execution_count": 117,
   "metadata": {},
   "outputs": [
    {
     "data": {
      "text/plain": [
       "0.6621890547263681"
      ]
     },
     "execution_count": 117,
     "metadata": {},
     "output_type": "execute_result"
    }
   ],
   "source": [
    "clf = RidgeClassifierCV()\n",
    "clf.fit(train_x,train_y)\n",
    "pred = clf.predict(train_x)\n",
    "pred = np.round(pred)\n",
    "print(accuracy_score(y_pred=pred ,y_true=train_y))#Ridge_cv 6621 Ridge 66422\n",
    "cv_test = clf.predict(test_x)\n",
    "cv_test = np.round(cv_test)\n",
    "print(cv_test)"
   ]
  },
  {
   "cell_type": "code",
   "execution_count": 120,
   "metadata": {},
   "outputs": [
    {
     "name": "stdout",
     "output_type": "stream",
     "text": [
      "Save Done.\n"
     ]
    }
   ],
   "source": [
    "result = pd.DataFrame()\n",
    "result['id'] = data[test_index]['uId']\n",
    "result['label'] = cv_test.astype(int)\n",
    "result.to_csv('./out/submission_rc_cv_66219.csv', index=False)\n",
    "print('Save Done.')"
   ]
  },
  {
   "cell_type": "markdown",
   "metadata": {},
   "source": [
    "# 按线上分数再投票"
   ]
  },
  {
   "cell_type": "code",
   "execution_count": 2,
   "metadata": {},
   "outputs": [],
   "source": [
    "res1 = pd.read_csv('./out/submission_online_66045.csv')\n",
    "res2 = pd.read_csv('./out/submission_online_660414.csv')\n",
    "res3 = pd.read_csv('./out/submission_online_660448.csv')\n",
    "res4 = pd.read_csv('./out/submission_online_660468.csv')\n",
    "res5 = pd.read_csv('./out/submission_online_660577.csv')\n",
    "res6 = pd.read_csv('./out/submission_online_660551.csv')\n",
    "res7 = pd.read_csv('./out/submission_online_660579.csv')\n",
    "res8 = pd.read_csv('./out/submission_online_66056.csv')\n",
    "res9 = pd.read_csv('./out/submission_mix_660786.csv')"
   ]
  },
  {
   "cell_type": "code",
   "execution_count": 3,
   "metadata": {},
   "outputs": [],
   "source": [
    "res1 = res1.merge(res2, on='id', how='left').merge(res3, on='id', how='left').merge(res4, on='id', how='left')\\\n",
    "           .merge(res5, on='id', how='left').merge(res6, on='id', how='left').merge(res7, on='id', how='left')\\\n",
    "           .merge(res8, on='id', how='left').merge(res9, on='id', how='left').merge(res7, on='id', how='left')"
   ]
  },
  {
   "cell_type": "code",
   "execution_count": 4,
   "metadata": {},
   "outputs": [],
   "source": [
    "res1.columns=['id','label_1','label_2','label_3','label_4','label_5','label_6','label_7','label_8','label_9','label_10']"
   ]
  },
  {
   "cell_type": "code",
   "execution_count": 5,
   "metadata": {},
   "outputs": [],
   "source": [
    "tmp = res1[['label_1','label_2','label_3','label_4','label_5','label_6','label_7','label_8','label_9','label_10']]"
   ]
  },
  {
   "cell_type": "code",
   "execution_count": 6,
   "metadata": {},
   "outputs": [
    {
     "data": {
      "application/vnd.jupyter.widget-view+json": {
       "model_id": "9aa8029e6e714460b4781a89294ac8e4",
       "version_major": 2,
       "version_minor": 0
      },
      "text/plain": [
       "HBox(children=(IntProgress(value=0, max=502500), HTML(value='')))"
      ]
     },
     "metadata": {},
     "output_type": "display_data"
    },
    {
     "name": "stdout",
     "output_type": "stream",
     "text": [
      "\n"
     ]
    }
   ],
   "source": [
    "res=[]\n",
    "for i in tnrange(tmp.shape[0]):\n",
    "    counts = np.bincount(tmp.values[i])  \n",
    "    res.append(np.argmax(counts)) "
   ]
  },
  {
   "cell_type": "code",
   "execution_count": 7,
   "metadata": {},
   "outputs": [],
   "source": [
    "res1['label'] = res\n",
    "res = res1[['id','label']]\n",
    "res.to_csv('./out/submission_mix.csv',index=False)"
   ]
  },
  {
   "cell_type": "code",
   "execution_count": null,
   "metadata": {},
   "outputs": [],
   "source": []
  }
 ],
 "metadata": {
  "kernelspec": {
   "display_name": "Python 3",
   "language": "python",
   "name": "python3"
  },
  "language_info": {
   "codemirror_mode": {
    "name": "ipython",
    "version": 3
   },
   "file_extension": ".py",
   "mimetype": "text/x-python",
   "name": "python",
   "nbconvert_exporter": "python",
   "pygments_lexer": "ipython3",
   "version": "3.6.7"
  }
 },
 "nbformat": 4,
 "nbformat_minor": 2
}
