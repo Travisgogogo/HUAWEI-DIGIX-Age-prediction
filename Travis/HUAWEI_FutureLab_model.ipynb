{
 "cells": [
  {
   "cell_type": "code",
   "execution_count": 1,
   "metadata": {},
   "outputs": [],
   "source": [
    "import catboost\n",
    "from catboost import CatBoostClassifier, Pool, cv\n",
    "import pandas as pd\n",
    "import numpy as np\n",
    "from sklearn.model_selection import train_test_split\n",
    "from sklearn.metrics import accuracy_score\n",
    "from sklearn.preprocessing import LabelEncoder, OneHotEncoder, MinMaxScaler, RobustScaler\n",
    "from sklearn.feature_extraction.text import TfidfVectorizer,CountVectorizer\n",
    "from sklearn.decomposition import TruncatedSVD\n",
    "from sklearn.model_selection import StratifiedKFold\n",
    "from sklearn.linear_model import SGDClassifier\n",
    "from tqdm import tnrange,tqdm_notebook\n",
    "import gc\n",
    "import warnings\n",
    "from scipy import sparse\n",
    "warnings.filterwarnings(\"ignore\")"
   ]
  },
  {
   "cell_type": "markdown",
   "metadata": {},
   "source": [
    "# 原始数据"
   ]
  },
  {
   "cell_type": "code",
   "execution_count": 2,
   "metadata": {},
   "outputs": [
    {
     "name": "stdout",
     "output_type": "stream",
     "text": [
      "CPU times: user 477 ms, sys: 186 ms, total: 663 ms\n",
      "Wall time: 662 ms\n"
     ]
    }
   ],
   "source": [
    "%%time\n",
    "age_test = pd.read_csv('../age_test.csv', header = None, names = ['uId'])\n",
    "age_train = pd.read_csv('../age_train.csv', header = None, names = ['uId','age_group'])\n",
    "data = pd.concat([age_train,age_test], axis = 0,sort=True).reset_index()\n",
    "data.drop(['index'],axis=1,inplace=True)\n",
    "del age_test, age_train\n",
    "gc.collect() "
   ]
  },
  {
   "cell_type": "code",
   "execution_count": 3,
   "metadata": {},
   "outputs": [
    {
     "name": "stdout",
     "output_type": "stream",
     "text": [
      "CPU times: user 6.67 s, sys: 1.55 s, total: 8.23 s\n",
      "Wall time: 8.22 s\n"
     ]
    }
   ],
   "source": [
    "%%time\n",
    "user_basic_info = pd.read_csv('../user_basic_info.csv',header= None, names=['uId','gender','city','prodName','ramCapacity','ramLeftRation','romCapacity','romLeftRation','color','fontSize','ct','carrier','os'])\n",
    "user_behavior_info = pd.read_csv('../user_behavior_info.csv', header = None, names =  ['uId','bootTimes','AFuncTimes','BFuncTimes','CFuncTimes','DFuncTimes','EFuncTimes','FFuncTimes','FFuncSum'])\n",
    "data = data.merge(user_basic_info)\n",
    "data = data.merge(user_behavior_info)\n",
    "del user_basic_info, user_behavior_info\n",
    "gc.collect() "
   ]
  },
  {
   "cell_type": "markdown",
   "metadata": {},
   "source": [
    "# 特征工程"
   ]
  },
  {
   "cell_type": "code",
   "execution_count": 4,
   "metadata": {},
   "outputs": [
    {
     "name": "stdout",
     "output_type": "stream",
     "text": [
      "CPU times: user 469 ms, sys: 246 ms, total: 715 ms\n",
      "Wall time: 689 ms\n"
     ]
    }
   ],
   "source": [
    "%%time\n",
    "data['ramLeftCapacity'] = data['ramCapacity'] * data['ramLeftRation']\n",
    "data['romLeftCapacity'] = data['romCapacity'] * data['romLeftRation']\n",
    "\n",
    "for i in ['A','B','C','D','E','F']:\n",
    "    data['{}FuncTimes'.format(i)] = round(abs(data['{}FuncTimes'.format(i)]))\n",
    "    \n",
    "data['romLeftRation'][data.romLeftRation>1] = 1\n",
    "data['ramLeftRation'][data.ramLeftRation>1] = 1"
   ]
  },
  {
   "cell_type": "code",
   "execution_count": 5,
   "metadata": {},
   "outputs": [
    {
     "name": "stdout",
     "output_type": "stream",
     "text": [
      "CPU times: user 1.35 s, sys: 989 ms, total: 2.34 s\n",
      "Wall time: 2.34 s\n"
     ]
    }
   ],
   "source": [
    "%%time\n",
    "#冷暖色系和颜色型号的降维\n",
    "tmp_color = pd.DataFrame(list(data.color.unique()))\n",
    "tmp_color.columns=['color']\n",
    "tmp_color['color_short'] = ['银','黑','蓝','银','金','极光','蓝','金','金','紫','黑','银','蓝','黑白','金','金','金','金','紫','灰','黑','蓝','红','蓝','灰','红','银','黑','白','黑','金','备件颜色','金','灰','白','金','黑','银','青','金','金','灰','灰','黑','蓝','蓝','白','蓝','红','紫','红','蓝','棕','粉','金','灰', '红','黑','灰','灰','紫','金','白','粉','青','金','蓝','灰','绿','银','金','银','银','灰','银','白','白','蓝','红','白','白','蓝','蓝','白','黑','白','极光','红','金','白','紫','蓝','蓝','金','金','蓝','白','红','银白','金','蓝','黑','蓝','粉','紫','灰','蓝','灰','红','黑','金', '红','黑','白','蓝','金','红','灰','灰','蓝','银白','灰','紫','灰','黑','蓝','银','粉','蓝','粉', '黄','橘','红','紫','黄','紫']\n",
    "tmp_color_warmcold = pd.DataFrame(list(tmp_color.color_short.unique()))\n",
    "tmp_color_warmcold['warm_cold'] = ['冷','冷','冷','暖','暖','暖','冷','冷','暖','暖','未知','冷','暖','暖','冷','暖','暖','暖']\n",
    "tmp_color_warmcold.columns=['color_short','warm_cold']\n",
    "tmp_color = tmp_color.merge(tmp_color_warmcold, on='color_short', how='left')\n",
    "data = data.merge(tmp_color, on='color', how='left')\n",
    "del tmp_color, tmp_color_warmcold\n",
    "gc.collect()"
   ]
  },
  {
   "cell_type": "code",
   "execution_count": 6,
   "metadata": {},
   "outputs": [
    {
     "name": "stdout",
     "output_type": "stream",
     "text": [
      "CPU times: user 1.94 s, sys: 852 ms, total: 2.79 s\n",
      "Wall time: 2.71 s\n"
     ]
    }
   ],
   "source": [
    "%%time\n",
    "#rom分箱和求ram rom 的对应型号的最大最小值和比例\n",
    "bins = [4, 12, 24, 48, 96, 192, 384]\n",
    "group_names = ['rom_8G', 'rom_16G', 'rom_32G', 'rom_64G', 'rom_128G', 'rom_256G']\n",
    "cats = pd.cut(data.romCapacity, bins, labels = group_names)\n",
    "rom_max = data.groupby(['prodName'])['romCapacity'].max().reset_index()\n",
    "rom_max.columns=['prodName','romCapacity_max']\n",
    "rom_min = data.groupby(['prodName'])['romCapacity'].min().reset_index()\n",
    "rom_min.columns=['prodName','romCapacity_min']\n",
    "ram_max = data.groupby(['prodName'])['ramCapacity'].max().reset_index()\n",
    "ram_max.columns=['prodName','ramCapacity_max']\n",
    "ram_min = data.groupby(['prodName'])['ramCapacity'].min().reset_index()\n",
    "ram_min.columns=['prodName','ramCapacity_min']\n",
    "tmp = rom_max.merge(rom_min, on='prodName', how='left').merge(ram_max, on='prodName', how='left').merge(ram_min, on='prodName', how='left')\n",
    "res1 = data[['prodName','ramCapacity','romCapacity']]\n",
    "res1 = res1.merge(tmp, on='prodName', how='left')\n",
    "res1['rom_category'] = cats\n",
    "res1['rom_category'] = list(res1['rom_category'])\n",
    "res1['ram_max_ratio'] = res1['ramCapacity']/res1['ramCapacity_max']\n",
    "res1['ram_min_ratio'] = res1['ramCapacity']/res1['ramCapacity_min']\n",
    "res1['rom_max_ratio'] = res1['romCapacity']/res1['romCapacity_max']\n",
    "res1['rom_min_ratio'] = res1['romCapacity']/res1['romCapacity_min']\n",
    "res1.drop(['prodName','ramCapacity','rom_category'], axis=1 , inplace=True)\n",
    "data = pd.concat([data,res1], axis=1)\n",
    "del rom_max, rom_min, ram_max, ram_min, res1, tmp\n",
    "gc.collect()"
   ]
  },
  {
   "cell_type": "code",
   "execution_count": 7,
   "metadata": {},
   "outputs": [
    {
     "name": "stdout",
     "output_type": "stream",
     "text": [
      "CPU times: user 5.22 s, sys: 5.53 s, total: 10.8 s\n",
      "Wall time: 10.7 s\n"
     ]
    }
   ],
   "source": [
    "%%time\n",
    "#对应手机型号的平均开机次数和fontsize\n",
    "tmp1 = data.groupby(['prodName'])['bootTimes'].mean().reset_index()\n",
    "tmp1.columns=['prodName','bootTimes_mean']\n",
    "data = data.merge(tmp1, on='prodName', how='left')\n",
    "tmp2 = data.groupby(['prodName'])['fontSize'].mean().reset_index()\n",
    "tmp2.columns=['prodName','fontSize_mean']\n",
    "data = data.merge(tmp2, on='prodName', how='left')\n",
    "del tmp1, tmp2"
   ]
  },
  {
   "cell_type": "code",
   "execution_count": 8,
   "metadata": {},
   "outputs": [
    {
     "data": {
      "application/vnd.jupyter.widget-view+json": {
       "model_id": "07c5f0d7eb934ac59ccfef04f70da186",
       "version_major": 2,
       "version_minor": 0
      },
      "text/plain": [
       "HBox(children=(IntProgress(value=1, bar_style='info', max=1), HTML(value='')))"
      ]
     },
     "metadata": {},
     "output_type": "display_data"
    },
    {
     "name": "stdout",
     "output_type": "stream",
     "text": [
      "\n",
      "CPU times: user 10min 8s, sys: 24.2 s, total: 10min 33s\n",
      "Wall time: 11min 9s\n"
     ]
    }
   ],
   "source": [
    "%%time\n",
    "#对usage表进行groupby处理\n",
    "user_app_usage = pd.read_csv('../user_app_usage.csv',chunksize=500000,names=['uId','appId','duration','times','use_date'])\n",
    "dist = []\n",
    "dist1 = []\n",
    "dist2 = []\n",
    "for chunk in tqdm_notebook(user_app_usage):\n",
    "    tmp = chunk.groupby(['uId','use_date'])['duration','times'].sum().reset_index().values\n",
    "    tmp1 = chunk.groupby(['uId','appId']).agg({'duration': 'sum','times': 'sum', 'use_date': 'count'}).reset_index().values\n",
    "    tmp2 = chunk.groupby(['uId','use_date'])['appId'].count().reset_index().values\n",
    "\n",
    "    dist.extend(tmp)\n",
    "    dist1.extend(tmp1)\n",
    "    dist2.extend(tmp2)"
   ]
  },
  {
   "cell_type": "code",
   "execution_count": 9,
   "metadata": {},
   "outputs": [
    {
     "name": "stdout",
     "output_type": "stream",
     "text": [
      "CPU times: user 1min 56s, sys: 30.4 s, total: 2min 27s\n",
      "Wall time: 2min 26s\n"
     ]
    }
   ],
   "source": [
    "%%time\n",
    "#统计usage表中每周各天的使用d时长和使用次数\n",
    "user_app_usage_dt = pd.DataFrame(dist)\n",
    "user_app_usage_dt.columns=['uId','use_date','date_duration','date_times']\n",
    "user_app_usage_res = user_app_usage_dt.groupby(['uId','use_date'])['date_duration','date_times'].sum().reset_index()\n",
    "user_app_usage_res['use_date'] = pd.to_datetime(user_app_usage_res['use_date'], errors='coerce')\n",
    "user_app_usage_res['use_date'] = user_app_usage_res.use_date.dt.weekday\n",
    "user_app_usage_res = user_app_usage_res.rename(columns = {'use_date':'use_date_weekday'})\n",
    "user_app_usage_last = user_app_usage_res.groupby(['uId','use_date_weekday'])['date_duration','date_times'].sum().reset_index()\n",
    "tmp = user_app_usage_last.pivot(index='uId',values=['date_duration','date_times'],columns='use_date_weekday')\n",
    "tmp = tmp.reset_index()\n",
    "tmp.columns = ['uId','date_duration_Monday','date_duration_Tuesday','date_duration_Wednesday','date_duration_Thursday','date_duration_Friday','date_duration_Saturday','date_duration_Sunday',\n",
    "              'date_times_Monday','date_times_Tuesday','date_times_Wednesday','date_times_Thursday','date_times_Friday','date_times_Saturday','date_times_Sunday']\n",
    "data = data.merge(tmp, on='uId', how='left')\n",
    "del user_app_usage_dt, user_app_usage_res, user_app_usage_last, tmp\n",
    "gc.collect()"
   ]
  },
  {
   "cell_type": "code",
   "execution_count": 10,
   "metadata": {},
   "outputs": [
    {
     "name": "stdout",
     "output_type": "stream",
     "text": [
      "CPU times: user 2min 25s, sys: 41.7 s, total: 3min 7s\n",
      "Wall time: 3min 7s\n"
     ]
    }
   ],
   "source": [
    "%%time\n",
    "#usage表中统计一个月三十天每天的开机次数和开机时间\n",
    "user_app_usage_dt = pd.DataFrame(dist)\n",
    "user_app_usage_dt.columns=['uId','use_date','date_duration','date_times']\n",
    "user_app_usage_dt = user_app_usage_dt.groupby(['uId','use_date'])['date_duration','date_times'].sum().reset_index()\n",
    "duration_per_day_dt = user_app_usage_dt.pivot(index='uId',columns='use_date',values='date_duration')\n",
    "times_per_day_dt = user_app_usage_dt.pivot(index='uId',columns='use_date',values='date_times')\n",
    "user_app_usage_dt = pd.concat([duration_per_day_dt,times_per_day_dt],axis=1).reset_index()\n",
    "user_app_usage_dt.columns=['total_feat_{}'.format(i) for i in range(61)]\n",
    "user_app_usage_dt = user_app_usage_dt.rename(columns={'total_feat_0':'uId'})\n",
    "data = data.merge(user_app_usage_dt,on='uId',how='left') \n",
    "del dist, user_app_usage_dt, duration_per_day_dt, times_per_day_dt\n",
    "gc.collect()"
   ]
  },
  {
   "cell_type": "code",
   "execution_count": 11,
   "metadata": {},
   "outputs": [
    {
     "name": "stdout",
     "output_type": "stream",
     "text": [
      "CPU times: user 4min 27s, sys: 1min 27s, total: 5min 54s\n",
      "Wall time: 5min 54s\n"
     ]
    }
   ],
   "source": [
    "%%time\n",
    "#对usage表中统计各个app种类的总时长、次数和天数\n",
    "user_app_usage_dt = pd.DataFrame(dist1)\n",
    "user_app_usage_dt.columns=['uId','appId','date_duration','date_times','use_date']\n",
    "user_app_usage = user_app_usage_dt.groupby(['uId','appId']).agg({'date_duration': 'sum','date_times': 'sum', 'use_date': 'count'}).reset_index()\n",
    "user_app_usage.columns=['uId','appId','total_duration','total_times','used_days']\n",
    "app_info = pd.read_csv('../app_info.csv', header = None, names = ['appId','category'])\n",
    "app_data = user_app_usage.merge(app_info,on='appId',how='left')\n",
    "tmp = app_data.groupby(['uId','category'])['total_duration'].sum().reset_index()\n",
    "tmp0 = tmp.pivot(index='uId',values='total_duration',columns='category')\n",
    "tmp0.columns = ['主题个性_total_duration','主题铃声_total_duration', '休闲娱乐_total_duration', '休闲游戏_total_duration', '休闲益智_total_duration', '体育射击_total_duration', '体育竞速_total_duration', '便捷生活_total_duration', '儿童_total_duration', '出行导航_total_duration',\n",
    "       '动作冒险_total_duration', '动作射击_total_duration', '医疗健康_total_duration', '合作壁纸*_total_duration', '商务_total_duration', '图书阅读_total_duration', '学习办公_total_duration', '实用工具_total_duration', '影音娱乐_total_duration',\n",
    "       '拍摄美化_total_duration', '教育_total_duration', '新闻阅读_total_duration', '旅游住宿_total_duration', '棋牌天地_total_duration', '棋牌桌游_total_duration', '模拟游戏_total_duration', '汽车_total_duration', '电子书籍_total_duration',\n",
    "       '益智棋牌_total_duration', '社交通讯_total_duration', '策略游戏_total_duration', '经营策略_total_duration', '网络游戏_total_duration', '美食_total_duration', '表盘个性_total_duration', '角色扮演_total_duration', '角色游戏_total_duration',\n",
    "       '购物比价_total_duration', '运动健康_total_duration', '金融理财_total_duration']\n",
    "tmp = app_data.groupby(['uId','category'])['total_times'].sum().reset_index()\n",
    "tmp1 = tmp.pivot(index='uId',values='total_times',columns='category')\n",
    "tmp1.columns = ['主题个性_total_times','主题铃声_total_times', '休闲娱乐_total_times', '休闲游戏_total_times', '休闲益智_total_times', '体育射击_total_times', '体育竞速_total_times', '便捷生活_total_times', '儿童_total_times', '出行导航_total_times',\n",
    "       '动作冒险_total_times', '动作射击_total_times', '医疗健康_total_times', '合作壁纸*_total_times', '商务_total_times', '图书阅读_total_times', '学习办公_total_times', '实用工具_total_times', '影音娱乐_total_times',\n",
    "       '拍摄美化_total_times', '教育_total_times', '新闻阅读_total_times', '旅游住宿_total_times', '棋牌天地_total_times', '棋牌桌游_total_times', '模拟游戏_total_times', '汽车_total_times', '电子书籍_total_times',\n",
    "       '益智棋牌_total_times', '社交通讯_total_times', '策略游戏_total_times', '经营策略_total_times', '网络游戏_total_times', '美食_total_times', '表盘个性_total_times', '角色扮演_total_times', '角色游戏_total_times',\n",
    "       '购物比价_total_times', '运动健康_total_times', '金融理财_total_times']\n",
    "tmp = app_data.groupby(['uId','category'])['used_days'].sum().reset_index()\n",
    "tmp2 = tmp.pivot(index='uId',values='used_days',columns='category')\n",
    "tmp2.columns = ['主题个性_used_days','主题铃声_used_days','休闲娱乐_used_days', '休闲游戏_used_days', '休闲益智_used_days', '体育射击_used_days', '体育竞速_used_days', '便捷生活_used_days', '儿童_used_days', '出行导航_used_days',\n",
    "       '动作冒险_used_days', '动作射击_used_days', '医疗健康_used_days', '合作壁纸*_used_days', '商务_used_days', '图书阅读_used_days', '学习办公_used_days', '实用工具_used_days', '影音娱乐_used_days',\n",
    "       '拍摄美化_used_days', '教育_used_days', '新闻阅读_used_days', '旅游住宿_used_days', '棋牌天地_used_days', '棋牌桌游_used_days', '模拟游戏_used_days', '汽车_used_days', '电子书籍_used_days',\n",
    "       '益智棋牌_used_days', '社交通讯_used_days', '策略游戏_used_days', '经营策略_used_days', '网络游戏_used_days', '美食_used_days', '表盘个性_used_days', '角色扮演_used_days', '角色游戏_used_days',\n",
    "       '购物比价_used_days', '运动健康_used_days', '金融理财_used_days']\n",
    "sum_usage = pd.concat([tmp0,tmp1,tmp2],axis=1).reset_index()\n",
    "data = data.merge(sum_usage,on='uId',how='left') \n",
    "del user_app_usage_dt, user_app_usage, app_info, app_data, tmp, tmp0, tmp1, tmp2, sum_usage\n",
    "gc.collect()"
   ]
  },
  {
   "cell_type": "code",
   "execution_count": 12,
   "metadata": {
    "scrolled": true
   },
   "outputs": [
    {
     "name": "stdout",
     "output_type": "stream",
     "text": [
      "CPU times: user 2min 14s, sys: 48 s, total: 3min 2s\n",
      "Wall time: 3min 1s\n"
     ]
    }
   ],
   "source": [
    "%%time\n",
    "#统计usage表中30天每天的使用app总数\n",
    "user_app_usage_dt = pd.DataFrame(dist2)\n",
    "user_app_usage_dt.columns=['uId','use_date','app_count']\n",
    "user_app_usage_dt = user_app_usage_dt.groupby(['uId','use_date'])['app_count'].sum().reset_index()\n",
    "user_app_usage_dt = user_app_usage_dt.pivot(index='uId',columns='use_date',values='app_count').reset_index()\n",
    "user_app_usage_dt.columns=['total_app_count_{}'.format(i) for i in range(31)]\n",
    "user_app_usage_dt = user_app_usage_dt.rename(columns={'total_app_count_0':'uId'})\n",
    "data = data.merge(user_app_usage_dt,on='uId',how='left') \n",
    "del dist2, user_app_usage_dt\n",
    "gc.collect()"
   ]
  },
  {
   "cell_type": "markdown",
   "metadata": {},
   "source": [
    "## MLP降维"
   ]
  },
  {
   "cell_type": "code",
   "execution_count": 13,
   "metadata": {},
   "outputs": [
    {
     "name": "stdout",
     "output_type": "stream",
     "text": [
      "CPU times: user 5min 34s, sys: 43.1 s, total: 6min 18s\n",
      "Wall time: 6min 17s\n"
     ]
    }
   ],
   "source": [
    "%%time\n",
    "#从usage表中提取top5000duration的appId\n",
    "user_app_usage_dt = pd.DataFrame(dist1)\n",
    "user_app_usage_dt.columns=['uId','appId','date_duration','date_times','use_date']\n",
    "user_app_stat = user_app_usage_dt.groupby(['uId','appId']).agg({'date_duration': 'sum','date_times': 'sum', 'use_date': 'count'}).reset_index()\n",
    "user_app_stat.columns=['uId','appId','total_duration','total_times','used_days']\n",
    "train_age = pd.read_csv('../age_train.csv', names=['uId', 'age'])\n",
    "train_age_stat = train_age.merge(user_app_stat, how='left', on='uId')\n",
    "del train_age_stat['uId']\n",
    "train_age_stat = train_age_stat.groupby(['age', 'appId']).sum().reset_index()\n",
    "train_age_stat.sort_values(by=['age', 'total_duration'], inplace=True, ascending=False)\n",
    "train_age_stat_top5000 = train_age_stat.groupby('age').head(5000).reset_index()\n",
    "top5000app = train_age_stat_top5000['appId'].unique()\n",
    "user_app_5000 = user_app_stat[user_app_stat['appId'].isin(top5000app)][['uId', 'appId']]\n",
    "def concat(ser):\n",
    "    return '#'.join([a for a in ser])\n",
    "app_usage5000 = user_app_5000.groupby('uId')['appId'].apply(concat).reset_index()\n",
    "#app_usage5000.to_hdf('../feature/app_usage5000.h5', key='data') #给MLP降维文件用"
   ]
  },
  {
   "cell_type": "code",
   "execution_count": 14,
   "metadata": {},
   "outputs": [
    {
     "name": "stdout",
     "output_type": "stream",
     "text": [
      "CPU times: user 39.5 s, sys: 46.6 s, total: 1min 26s\n",
      "Wall time: 1min 27s\n"
     ]
    }
   ],
   "source": [
    "%%time\n",
    "user_app_actived = pd.read_csv('../user_app_actived.csv', header = None, names =['uId','appId'])\n",
    "app_usage5000.columns=['uId', 'usage_appId']\n",
    "data = data.merge(user_app_actived, on='uId', how='left')\n",
    "data = data.merge(app_usage5000, on='uId', how='left')\n",
    "del user_app_actived, app_usage5000\n",
    "gc.collect()"
   ]
  },
  {
   "cell_type": "code",
   "execution_count": 15,
   "metadata": {},
   "outputs": [
    {
     "name": "stdout",
     "output_type": "stream",
     "text": [
      "CPU times: user 1min 27s, sys: 20.3 s, total: 1min 47s\n",
      "Wall time: 1min 38s\n"
     ]
    }
   ],
   "source": [
    "%%time\n",
    "#取actived appID对应的MLP中间层特征\n",
    "actived_app = CountVectorizer(token_pattern='a\\d+',binary=True).fit_transform(data['appId'])\n",
    "weight = np.load('./weight_bias/Xapp_weight1_dense1.npy')\n",
    "bias = np.load('./weight_bias/Xapp_bias1_dense1.npy')\n",
    "actived_app_I = actived_app.dot(weight)+bias\n",
    "weight = np.load('./weight_bias/Xapp_weight1_dense2.npy')\n",
    "bias = np.load('./weight_bias/Xapp_bias1_dense2.npy')\n",
    "actived_app_II = actived_app_I.dot(weight)+bias\n",
    "weight = np.load('./weight_bias/Xapp_weight1_dense3.npy')\n",
    "bias = np.load('./weight_bias/Xapp_bias1_dense3.npy')\n",
    "actived_app_III = actived_app_II.dot(weight)+bias\n",
    "active_app_df_I = pd.DataFrame(actived_app_I, columns=['actived_app_{}'.format(i) for i in range(actived_app_I.shape[1])])\n",
    "active_app_df_II = pd.DataFrame(actived_app_II, columns=['actived_app_II_{}'.format(i) for i in range(actived_app_II.shape[1])])\n",
    "active_app_df_III = pd.DataFrame(actived_app_III, columns=['actived_app_III_{}'.format(i) for i in range(actived_app_III.shape[1])])\n",
    "data = pd.concat([data,active_app_df_I,active_app_df_II,active_app_df_III],axis=1)\n",
    "del actived_app, actived_app_I, actived_app_II, actived_app_III\n",
    "del weight, bias\n",
    "del active_app_df_I, active_app_df_II, active_app_df_III\n",
    "gc.collect()"
   ]
  },
  {
   "cell_type": "code",
   "execution_count": 16,
   "metadata": {},
   "outputs": [
    {
     "name": "stdout",
     "output_type": "stream",
     "text": [
      "CPU times: user 59.9 s, sys: 18.5 s, total: 1min 18s\n",
      "Wall time: 1min 12s\n"
     ]
    }
   ],
   "source": [
    "%%time\n",
    "#取usage appID对应的MLP中间层特征\n",
    "X_usage = CountVectorizer(token_pattern='a\\d+', binary=True).fit_transform(data['usage_appId'].fillna('-1'))\n",
    "X_usage_weight = np.load('./weight_bias/X_usage_weight1_dense1.npy')\n",
    "X_usage_bias = np.load('./weight_bias/X_usage_bias1_dense1.npy')\n",
    "X_usage_I = X_usage.dot(X_usage_weight) + X_usage_bias\n",
    "X_usage_weight = np.load('./weight_bias/X_usage_weight1_dense2.npy')\n",
    "X_usage_bias = np.load('./weight_bias/X_usage_bias1_dense2.npy')\n",
    "X_usage_II = X_usage_I.dot(X_usage_weight) + X_usage_bias\n",
    "X_usage_weight = np.load('./weight_bias/X_usage_weight1_dense3.npy')\n",
    "X_usage_bias = np.load('./weight_bias/X_usage_bias1_dense3.npy')\n",
    "X_usage_III = X_usage_II.dot(X_usage_weight) + X_usage_bias\n",
    "X_usage_df_I = pd.DataFrame(X_usage_I, columns=['X_usage_I_{}'.format(i) for i in range(X_usage_I.shape[1])])\n",
    "X_usage_df_II = pd.DataFrame(X_usage_II, columns=['X_usage_II_{}'.format(i) for i in range(X_usage_II.shape[1])])\n",
    "X_usage_df_III = pd.DataFrame(X_usage_III, columns=['X_usage_III_{}'.format(i) for i in range(X_usage_III.shape[1])])\n",
    "data = pd.concat([data, X_usage_df_I, X_usage_df_II, X_usage_df_III], axis=1)\n",
    "del X_usage, X_usage_I, X_usage_II, X_usage_III\n",
    "del X_usage_weight, X_usage_bias\n",
    "del X_usage_df_I, X_usage_df_II, X_usage_df_III\n",
    "gc.collect()"
   ]
  },
  {
   "cell_type": "code",
   "execution_count": 17,
   "metadata": {},
   "outputs": [
    {
     "name": "stdout",
     "output_type": "stream",
     "text": [
      "CPU times: user 39min 9s, sys: 6min 7s, total: 45min 17s\n",
      "Wall time: 20min 7s\n"
     ]
    }
   ],
   "source": [
    "%%time\n",
    "#usage表中app的所有duration time days作svd降维\n",
    "user_app_stat = pd.DataFrame(dist1)\n",
    "user_app_stat.columns=['uId','appId','date_duration','date_times','use_date']\n",
    "user_app_stat = user_app_stat.groupby(['uId','appId']).agg({'date_duration': 'sum','date_times': 'sum', 'use_date': 'count'}).reset_index()\n",
    "user_app_stat.columns=['uId','appId','total_duration','total_times','used_days']\n",
    "\n",
    "user_app_actived = pd.read_csv('../user_app_actived.csv', names=['uId', 'appId'])\n",
    "cnt_vec = CountVectorizer(token_pattern='a\\d+', binary=True).fit(user_app_actived['appId'])\n",
    "actived_app = list(cnt_vec.vocabulary_.keys())\n",
    "user_actived_app_stat = user_app_stat[user_app_stat['appId'].isin(actived_app)]\n",
    "\n",
    "age_train = pd.read_csv('../age_train.csv', names=['uId', 'age_group'])\n",
    "age_test = pd.read_csv('../age_test.csv', names=['uId'])\n",
    "\n",
    "all_uId = pd.concat([age_train, age_test], sort=True)\n",
    "all_uId = all_uId[['uId']]\n",
    "all_uId['idx'] = np.arange(len(all_uId))\n",
    "\n",
    "all_user_actived_app_stat = all_uId.merge(user_actived_app_stat, 'left', 'uId').fillna(-1)\n",
    "\n",
    "all_user_actived_app_stat['appId_lbl'] = LabelEncoder().fit_transform(all_user_actived_app_stat['appId'].astype(str))\n",
    "\n",
    "shape = (len(all_uId), all_user_actived_app_stat['appId_lbl'].nunique())\n",
    "\n",
    "X_duration = sparse.csr_matrix((all_user_actived_app_stat['total_duration'].astype(int),\n",
    "                                (all_user_actived_app_stat['idx'], all_user_actived_app_stat['appId_lbl'])), shape=shape)\n",
    "\n",
    "X_times = sparse.csr_matrix((all_user_actived_app_stat['total_times'].astype(int),\n",
    "                                (all_user_actived_app_stat['idx'], all_user_actived_app_stat['appId_lbl'])), shape=shape)                                \n",
    "X_days = sparse.csr_matrix((all_user_actived_app_stat['used_days'].astype(int),\n",
    "                                (all_user_actived_app_stat['idx'], all_user_actived_app_stat['appId_lbl'])), shape=shape)\n",
    "\n",
    "X_duration_svd = TruncatedSVD(n_components=30, n_iter=20, random_state=47).fit_transform(X_duration)\n",
    "X_times_svd = TruncatedSVD(n_components=30, n_iter=20, random_state=47).fit_transform(X_times)\n",
    "X_days_svd = TruncatedSVD(n_components=30, n_iter=20, random_state=47).fit_transform(X_days)\n",
    "\n",
    "X_duration_svd_I = pd.DataFrame(X_duration_svd, columns=['x_duration_{}'.format(i) for i in range(30)])\n",
    "X_times_svd_I = pd.DataFrame(X_times_svd, columns=['x_times_{}'.format(i) for i in range(30)])\n",
    "X_days_svd_I = pd.DataFrame(X_days_svd, columns=['x_days_{}'.format(i) for i in range(30)])\n",
    "\n",
    "X_duration_svd_I['uId'] = all_uId['uId'].values\n",
    "X_times_svd_I['uId'] = all_uId['uId'].values\n",
    "X_days_svd_I['uId'] = all_uId['uId'].values\n",
    "\n",
    "data = data.merge(X_duration_svd_I, how='left', on='uId')\n",
    "data = data.merge(X_times_svd_I, how='left', on='uId')\n",
    "data = data.merge(X_days_svd_I, how='left', on='uId')\n",
    "\n",
    "del dist1, X_duration, X_times, X_days, X_duration_svd, X_times_svd, X_days_svd\n",
    "del user_actived_app_stat, user_app_actived, user_app_stat, age_train, age_test, all_uId, all_user_actived_app_stat\n",
    "gc.collect()"
   ]
  },
  {
   "cell_type": "markdown",
   "metadata": {},
   "source": [
    "# test zone"
   ]
  },
  {
   "cell_type": "code",
   "execution_count": 18,
   "metadata": {},
   "outputs": [],
   "source": [
    "data['user_actived_app_count'] = data['appId'].apply(lambda x: len(x.split('#')))"
   ]
  },
  {
   "cell_type": "code",
   "execution_count": 2,
   "metadata": {
    "scrolled": true
   },
   "outputs": [],
   "source": [
    "data = pd.read_hdf('./data_all.hdf',key='data')"
   ]
  },
  {
   "cell_type": "code",
   "execution_count": 19,
   "metadata": {},
   "outputs": [],
   "source": [
    "week_day_conut_feature = ['date_duration_Monday','date_duration_Tuesday','date_duration_Wednesday','date_duration_Thursday','date_duration_Friday','date_duration_Saturday','date_duration_Sunday']\n",
    "data['date_duration_week_max'] = data[week_day_conut_feature].max(axis=1)\n",
    "data['date_duration_week_min'] = data[week_day_conut_feature].min(axis=1)\n",
    "data['date_duration_week_sum'] = data[week_day_conut_feature].sum(axis=1)\n",
    "data['date_duration_week_std'] = data[week_day_conut_feature].std(axis=1)"
   ]
  },
  {
   "cell_type": "code",
   "execution_count": 20,
   "metadata": {},
   "outputs": [],
   "source": [
    "week_day_conut_feature = ['date_times_Monday','date_times_Tuesday','date_times_Wednesday','date_times_Thursday','date_times_Friday','date_times_Saturday','date_times_Sunday']\n",
    "data['date_times_week_max'] = data[week_day_conut_feature].max(axis=1)\n",
    "data['date_times_week_min'] = data[week_day_conut_feature].min(axis=1)\n",
    "data['date_times_week_sum'] = data[week_day_conut_feature].sum(axis=1)\n",
    "data['date_times_week_std'] = data[week_day_conut_feature].std(axis=1)"
   ]
  },
  {
   "cell_type": "code",
   "execution_count": 18,
   "metadata": {},
   "outputs": [],
   "source": [
    "tmp = data['appId'].apply(lambda x : x.split('#'))"
   ]
  },
  {
   "cell_type": "code",
   "execution_count": 24,
   "metadata": {},
   "outputs": [],
   "source": [
    "tmp = tmp.reset_index()"
   ]
  },
  {
   "cell_type": "code",
   "execution_count": null,
   "metadata": {
    "scrolled": true
   },
   "outputs": [
    {
     "data": {
      "application/vnd.jupyter.widget-view+json": {
       "model_id": "fe01db272c5a452fb6f37f7f7bb3348d",
       "version_major": 2,
       "version_minor": 0
      },
      "text/plain": [
       "HBox(children=(IntProgress(value=0, max=2512500), HTML(value='')))"
      ]
     },
     "metadata": {},
     "output_type": "display_data"
    }
   ],
   "source": [
    "dist = []\n",
    "for i in tnrange(tmp.shape[0]):\n",
    "    temp = pd.DataFrame(tmp.appId[i])\n",
    "    temp['uId'] = tmp.uId[i]\n",
    "    dist.extend(temp.values)"
   ]
  },
  {
   "cell_type": "code",
   "execution_count": 115,
   "metadata": {
    "scrolled": true
   },
   "outputs": [],
   "source": [
    "actived_app_df = pd.DataFrame(dist, columns=['appId','uId'])"
   ]
  },
  {
   "cell_type": "code",
   "execution_count": 116,
   "metadata": {},
   "outputs": [],
   "source": [
    "actived_app_df = actived_app_df.merge(app_info, on='appId', how='left')"
   ]
  },
  {
   "cell_type": "code",
   "execution_count": 117,
   "metadata": {},
   "outputs": [],
   "source": [
    "actived_app_df = actived_app_df.fillna('未知')"
   ]
  },
  {
   "cell_type": "code",
   "execution_count": 11,
   "metadata": {},
   "outputs": [],
   "source": [
    "actived_app_df_group_uid = actived_app_df.groupby(['uId','category'])['appId'].count().reset_index()"
   ]
  },
  {
   "cell_type": "code",
   "execution_count": 23,
   "metadata": {
    "scrolled": true
   },
   "outputs": [],
   "source": [
    "actived_app_df_group_uid.appId = 1"
   ]
  },
  {
   "cell_type": "code",
   "execution_count": 12,
   "metadata": {
    "scrolled": true
   },
   "outputs": [],
   "source": [
    "tmp = actived_app_df_group_uid.pivot(index='uId',values=['appId'],columns='category')"
   ]
  },
  {
   "cell_type": "code",
   "execution_count": 13,
   "metadata": {},
   "outputs": [],
   "source": [
    "tmp = tmp.reset_index()"
   ]
  },
  {
   "cell_type": "code",
   "execution_count": 26,
   "metadata": {},
   "outputs": [],
   "source": [
    "tmp.columns=['uId','主题个性', '休闲游戏', '休闲益智', '体育竞速', '便捷生活', '儿童', '出行导航', '动作冒险', '动作射击', '商务', '图书阅读', '学习办公', '实用工具', '影音娱乐', '拍摄美化', '教育', '新闻阅读', '旅游住宿', '未知', '棋牌天地', '棋牌桌游', '汽车', '益智棋牌', '社交通讯', '经营策略', '网络游戏', '美食', '表盘个性', '角色扮演', '购物比价', '运动健康', '金融理财']"
   ]
  },
  {
   "cell_type": "code",
   "execution_count": 14,
   "metadata": {},
   "outputs": [],
   "source": [
    "tmp.columns=['uId','主题个性s', '休闲游戏s', '休闲益智s', '体育竞速s', '便捷生活s', '儿童s', '出行导航s', '动作冒险s', '动作射击s', '商务s', '图书阅读s', '学习办公s', '实用工具s', '影音娱乐s', '拍摄美化s', '教育s', '新闻阅读s', '旅游住宿s', '未知s', '棋牌天地s', '棋牌桌游s', '汽车s', '益智棋牌s', '社交通讯s', '经营策略s', '网络游戏s', '美食s', '表盘个性s', '角色扮演s', '购物比价s', '运动健康s', '金融理财s']"
   ]
  },
  {
   "cell_type": "code",
   "execution_count": 16,
   "metadata": {},
   "outputs": [],
   "source": [
    "tmp = tmp.fillna(0)"
   ]
  },
  {
   "cell_type": "code",
   "execution_count": 18,
   "metadata": {},
   "outputs": [],
   "source": [
    "data =  data.merge(tmp, on='uId', how='left')"
   ]
  },
  {
   "cell_type": "code",
   "execution_count": 68,
   "metadata": {},
   "outputs": [],
   "source": [
    "app_info = pd.read_csv('../app_info.csv', names=['appId', 'category'])"
   ]
  },
  {
   "cell_type": "code",
   "execution_count": 40,
   "metadata": {
    "scrolled": true
   },
   "outputs": [],
   "source": [
    "test_cate = app_info[app_info['category']=='拍摄美化'].uId.values"
   ]
  },
  {
   "cell_type": "code",
   "execution_count": 10,
   "metadata": {
    "scrolled": true
   },
   "outputs": [],
   "source": [
    "actived_app_df = pd.read_hdf('./feature/actived_app_cate.hdf',key='data')"
   ]
  },
  {
   "cell_type": "markdown",
   "metadata": {},
   "source": [
    "# 模型训练"
   ]
  },
  {
   "cell_type": "code",
   "execution_count": 29,
   "metadata": {},
   "outputs": [
    {
     "data": {
      "application/vnd.jupyter.widget-view+json": {
       "model_id": "32d77663a5f244edbb6d421572e1fe0f",
       "version_major": 2,
       "version_minor": 0
      },
      "text/plain": [
       "HBox(children=(IntProgress(value=0, max=11), HTML(value='')))"
      ]
     },
     "metadata": {},
     "output_type": "display_data"
    },
    {
     "name": "stdout",
     "output_type": "stream",
     "text": [
      "\n"
     ]
    }
   ],
   "source": [
    "cate_features = ['city','prodName','color','ct','rom_category','color_short','warm_cold','carrier','gender','fontSize','os']\n",
    "for feat in tqdm_notebook(cate_features):\n",
    "    data[feat] = LabelEncoder().fit_transform(data[feat].fillna('-1').apply(str))"
   ]
  },
  {
   "cell_type": "code",
   "execution_count": 19,
   "metadata": {},
   "outputs": [
    {
     "name": "stdout",
     "output_type": "stream",
     "text": [
      "All features: train shape (2010000, 532), test shape (502500, 532)\n",
      "532\n",
      "CPU times: user 10.1 s, sys: 21.5 s, total: 31.5 s\n",
      "Wall time: 31.5 s\n"
     ]
    }
   ],
   "source": [
    "%%time\n",
    "\n",
    "origin_num_feature = ['ramLeftCapacity','romLeftCapacity','city','prodName','color','ct','color_short','warm_cold',\n",
    "                      'carrier','gender','ramCapacity','ramLeftRation','romCapacity','romLeftRation','fontSize',\n",
    "                       'os','bootTimes','AFuncTimes','BFuncTimes','CFuncTimes','DFuncTimes','EFuncTimes','FFuncTimes',\n",
    "                       'FFuncSum']\n",
    "\n",
    "rom_ram_feature = ['rom_category', 'romCapacity_max', 'romCapacity_min', 'rom_max_ratio', 'rom_min_ratio',\n",
    "                'ramCapacity_max','ramCapacity_min','ram_max_ratio','ram_min_ratio']\n",
    "\n",
    "X_app_I = ['actived_app_{}'.format(i) for i in range(32)]\n",
    "X_app_II = ['actived_app_II_{}'.format(i) for i in range(16)]\n",
    "X_app_III = ['actived_app_III_{}'.format(i) for i in range(8)]\n",
    "X_app = X_app_I + X_app_II + X_app_III\n",
    "\n",
    "X_usage_I = ['X_usage_I_{}'.format(i) for i in range(32)]\n",
    "X_usage_II = ['X_usage_II_{}'.format(i) for i in range(16)]\n",
    "X_usage_III = ['X_usage_III_{}'.format(i) for i in range(8)]\n",
    "X_usage = X_usage_I + X_usage_II + X_usage_III\n",
    "\n",
    "X_duration_svd = ['x_duration_{}'.format(i) for i in range(30)]\n",
    "X_times_svd = ['x_times_{}'.format(i) for i in range(30)]\n",
    "X_days_svd = ['x_days_{}'.format(i) for i in range(30)]\n",
    "\n",
    "used_days_feature = ['主题个性_used_days','主题铃声_used_days', '休闲娱乐_used_days', '休闲游戏_used_days', '休闲益智_used_days', '体育射击_used_days', '体育竞速_used_days', '便捷生活_used_days', '儿童_used_days', '出行导航_used_days', '动作冒险_used_days', '动作射击_used_days', '医疗健康_used_days', '合作壁纸*_used_days', '商务_used_days', '图书阅读_used_days', '学习办公_used_days', '实用工具_used_days', '影音娱乐_used_days','拍摄美化_used_days', '教育_used_days', '新闻阅读_used_days', '旅游住宿_used_days', '棋牌天地_used_days', '棋牌桌游_used_days', '模拟游戏_used_days', '汽车_used_days', '电子书籍_used_days','益智棋牌_used_days', '社交通讯_used_days', '策略游戏_used_days', '经营策略_used_days', '网络游戏_used_days', '美食_used_days', '表盘个性_used_days', '角色扮演_used_days', '角色游戏_used_days','购物比价_used_days', '运动健康_used_days', '金融理财_used_days']\n",
    "total_times_feature = ['主题个性_total_times', '主题铃声_total_times','休闲娱乐_total_times', '休闲游戏_total_times', '休闲益智_total_times', '体育射击_total_times', '体育竞速_total_times', '便捷生活_total_times', '儿童_total_times', '出行导航_total_times','动作冒险_total_times', '动作射击_total_times', '医疗健康_total_times', '合作壁纸*_total_times', '商务_total_times', '图书阅读_total_times', '学习办公_total_times', '实用工具_total_times', '影音娱乐_total_times', '拍摄美化_total_times', '教育_total_times', '新闻阅读_total_times', '旅游住宿_total_times', '棋牌天地_total_times', '棋牌桌游_total_times', '模拟游戏_total_times', '汽车_total_times', '电子书籍_total_times', '益智棋牌_total_times', '社交通讯_total_times', '策略游戏_total_times', '经营策略_total_times', '网络游戏_total_times', '美食_total_times', '表盘个性_total_times', '角色扮演_total_times', '角色游戏_total_times','购物比价_total_times', '运动健康_total_times', '金融理财_total_times']\n",
    "total_duration_feature = ['主题个性_total_duration','主题铃声_total_duration', '休闲娱乐_total_duration', '休闲游戏_total_duration', '休闲益智_total_duration', '体育射击_total_duration', '体育竞速_total_duration', '便捷生活_total_duration', '儿童_total_duration', '出行导航_total_duration', '动作冒险_total_duration', '动作射击_total_duration', '医疗健康_total_duration', '合作壁纸*_total_duration', '商务_total_duration', '图书阅读_total_duration', '学习办公_total_duration', '实用工具_total_duration', '影音娱乐_total_duration','拍摄美化_total_duration', '教育_total_duration', '新闻阅读_total_duration', '旅游住宿_total_duration', '棋牌天地_total_duration', '棋牌桌游_total_duration', '模拟游戏_total_duration', '汽车_total_duration', '电子书籍_total_duration','益智棋牌_total_duration', '社交通讯_total_duration', '策略游戏_total_duration', '经营策略_total_duration', '网络游戏_total_duration', '美食_total_duration', '表盘个性_total_duration', '角色扮演_total_duration', '角色游戏_total_duration','购物比价_total_duration', '运动健康_total_duration', '金融理财_total_duration']\n",
    "week_day_conut_feature = ['date_duration_Monday','date_duration_Tuesday','date_duration_Wednesday','date_duration_Thursday','date_duration_Friday','date_duration_Saturday','date_duration_Sunday',\n",
    "              'date_times_Monday','date_times_Tuesday','date_times_Wednesday','date_times_Thursday','date_times_Friday','date_times_Saturday','date_times_Sunday']\n",
    "\n",
    "weekday_times_feat = ['weekday_0_total_times', 'weekday_1_total_times', 'weekday_2_total_times','weekday_3_total_times', 'weekday_4_total_times', 'weekday_5_total_times', 'weekday_6_total_times']\n",
    "total_app_count_feat = ['total_app_count_{}'.format(i) for i in range(1,31)]\n",
    "total_perday_feat = [ 'total_feat_{}'.format(i) for i in range(1,61)]\n",
    "#******* Feature test***********#\n",
    "test_feat = ['user_actived_app_count','date_duration_week_max','date_duration_week_min','date_duration_week_sum',\n",
    "            'date_duration_week_std','date_times_week_max','date_times_week_min','date_times_week_sum','date_times_week_std']\n",
    "actived_cate_haved = ['主题个性', '休闲游戏', '休闲益智', '体育竞速', '便捷生活', '儿童', '出行导航', '动作冒险', '动作射击', '商务', '图书阅读', '学习办公', '实用工具', '影音娱乐', '拍摄美化', '教育', '新闻阅读', '旅游住宿', '未知', '棋牌天地', '棋牌桌游', '汽车', '益智棋牌', '社交通讯', '经营策略', '网络游戏', '美食', '表盘个性', '角色扮演', '购物比价', '运动健康', '金融理财']\n",
    "actived_cate_counts=['主题个性s', '休闲游戏s', '休闲益智s', '体育竞速s', '便捷生活s', '儿童s', '出行导航s', '动作冒险s', '动作射击s', '商务s', '图书阅读s', '学习办公s', '实用工具s', '影音娱乐s', '拍摄美化s', '教育s', '新闻阅读s', '旅游住宿s', '未知s', '棋牌天地s', '棋牌桌游s', '汽车s', '益智棋牌s', '社交通讯s', '经营策略s', '网络游戏s', '美食s', '表盘个性s', '角色扮演s', '购物比价s', '运动健康s', '金融理财s']\n",
    "#******* Feature sum***********#\n",
    "feature  =    origin_num_feature +rom_ram_feature  + used_days_feature + week_day_conut_feature + total_times_feature\\\n",
    "            + total_duration_feature +  total_app_count_feat + total_perday_feat  +X_app+X_usage\\\n",
    "            + X_duration_svd + X_times_svd + X_days_svd\\\n",
    "            + test_feat + actived_cate_haved + actived_cate_counts\n",
    "#*********************************# \n",
    "\n",
    "test_index = np.isnan(data.age_group)\n",
    "train_index = ~test_index\n",
    "train_x = data[train_index][feature] \n",
    "train_y = data[train_index]['age_group']\n",
    "test_x  = data[test_index][feature]\n",
    "\n",
    "\n",
    "print('All features: train shape {}, test shape {}'.format(train_x.shape, test_x.shape))\n",
    "print(len(feature))"
   ]
  },
  {
   "cell_type": "code",
   "execution_count": 20,
   "metadata": {},
   "outputs": [],
   "source": [
    "def label_smoothing(inputs, epsilon=0.1):\n",
    "    K = 6\n",
    "    return ((1-epsilon) * inputs) + (epsilon / K)\n",
    "\n",
    "def label_smoothing_re(inputs, epsilon=0.1):\n",
    "    K = 6\n",
    "    return (inputs-epsilon/K)/(1-epsilon)"
   ]
  },
  {
   "cell_type": "code",
   "execution_count": 21,
   "metadata": {},
   "outputs": [],
   "source": [
    "train_y = label_smoothing(train_y)"
   ]
  },
  {
   "cell_type": "code",
   "execution_count": null,
   "metadata": {},
   "outputs": [
    {
     "name": "stdout",
     "output_type": "stream",
     "text": [
      "CPU times: user 8.38 s, sys: 3.55 s, total: 11.9 s\n",
      "Wall time: 11.9 s\n"
     ]
    }
   ],
   "source": [
    "%%time\n",
    "from sklearn.model_selection import train_test_split \n",
    "X_train, X_validation, y_train, y_validation = train_test_split(train_x, train_y, test_size=0.02, random_state=42)\n",
    "del train_x, train_y\n",
    "gc.collect()"
   ]
  },
  {
   "cell_type": "code",
   "execution_count": null,
   "metadata": {},
   "outputs": [
    {
     "name": "stdout",
     "output_type": "stream",
     "text": [
      "CPU times: user 2min 25s, sys: 4.28 s, total: 2min 30s\n",
      "Wall time: 2min 29s\n"
     ]
    }
   ],
   "source": [
    "%%time\n",
    "cate_features = ['city','prodName','color','ct','rom_category','color_short','carrier','gender','fontSize','os']\n",
    "train_pool = Pool(X_train, y_train, cat_features=cate_features)\n",
    "eval_pool = Pool(X_validation, y_validation,cat_features=cate_features)\n",
    "del X_train, y_train, y_validation\n",
    "gc.collect()"
   ]
  },
  {
   "cell_type": "code",
   "execution_count": 2,
   "metadata": {
    "scrolled": true
   },
   "outputs": [],
   "source": [
    "data = pd.read_hdf('./data_all.hdf',key='data')"
   ]
  },
  {
   "cell_type": "code",
   "execution_count": 40,
   "metadata": {},
   "outputs": [],
   "source": [
    "del data['romCapacity_x']"
   ]
  },
  {
   "cell_type": "code",
   "execution_count": null,
   "metadata": {
    "scrolled": true
   },
   "outputs": [
    {
     "name": "stdout",
     "output_type": "stream",
     "text": [
      "0:\tlearn: 0.5591918\ttest: 0.5564925\tbest: 0.5564925 (0)\ttotal: 140ms\tremaining: 19h 28m 27s\n",
      "100:\tlearn: 0.6012722\ttest: 0.5979602\tbest: 0.5979602 (100)\ttotal: 11.8s\tremaining: 16h 14m 35s\n",
      "200:\tlearn: 0.6120175\ttest: 0.6087562\tbest: 0.6087562 (200)\ttotal: 23.6s\tremaining: 16h 16m 30s\n",
      "300:\tlearn: 0.6183059\ttest: 0.6136567\tbest: 0.6136567 (300)\ttotal: 35.1s\tremaining: 16h 11m 32s\n",
      "400:\tlearn: 0.6229729\ttest: 0.6183085\tbest: 0.6183085 (396)\ttotal: 46.7s\tremaining: 16h 10m 35s\n",
      "500:\tlearn: 0.6263534\ttest: 0.6217910\tbest: 0.6217910 (500)\ttotal: 58.5s\tremaining: 16h 11m 25s\n",
      "600:\tlearn: 0.6292685\ttest: 0.6252736\tbest: 0.6252736 (600)\ttotal: 1m 10s\tremaining: 16h 19m 45s\n",
      "700:\tlearn: 0.6316565\ttest: 0.6270896\tbest: 0.6270896 (700)\ttotal: 1m 23s\tremaining: 16h 25m 36s\n",
      "800:\tlearn: 0.6338308\ttest: 0.6291045\tbest: 0.6291045 (800)\ttotal: 1m 35s\tremaining: 16h 29m 53s\n",
      "900:\tlearn: 0.6358123\ttest: 0.6298507\tbest: 0.6300995 (875)\ttotal: 1m 47s\tremaining: 16h 33m 58s\n",
      "1000:\tlearn: 0.6375678\ttest: 0.6310945\tbest: 0.6310945 (994)\ttotal: 2m\tremaining: 16h 37m 31s\n",
      "1100:\tlearn: 0.6391126\ttest: 0.6321642\tbest: 0.6321642 (1100)\ttotal: 2m 12s\tremaining: 16h 40m 33s\n",
      "1200:\tlearn: 0.6405275\ttest: 0.6330597\tbest: 0.6332836 (1193)\ttotal: 2m 24s\tremaining: 16h 41m 13s\n",
      "1300:\tlearn: 0.6419606\ttest: 0.6346269\tbest: 0.6347761 (1296)\ttotal: 2m 37s\tremaining: 16h 44m 7s\n",
      "1400:\tlearn: 0.6431491\ttest: 0.6353483\tbest: 0.6354726 (1398)\ttotal: 2m 49s\tremaining: 16h 45m 28s\n",
      "1500:\tlearn: 0.6442852\ttest: 0.6360448\tbest: 0.6360448 (1500)\ttotal: 3m 1s\tremaining: 16h 47m 7s\n",
      "1600:\tlearn: 0.6453797\ttest: 0.6359701\tbest: 0.6362687 (1566)\ttotal: 3m 14s\tremaining: 16h 48m 26s\n",
      "1700:\tlearn: 0.6463570\ttest: 0.6362687\tbest: 0.6364428 (1643)\ttotal: 3m 26s\tremaining: 16h 49m 1s\n",
      "1800:\tlearn: 0.6472652\ttest: 0.6364677\tbest: 0.6367413 (1780)\ttotal: 3m 39s\tremaining: 16h 50m 31s\n",
      "1900:\tlearn: 0.6481161\ttest: 0.6372388\tbest: 0.6372886 (1898)\ttotal: 3m 51s\tremaining: 16h 51m 4s\n",
      "2000:\tlearn: 0.6490745\ttest: 0.6380846\tbest: 0.6380846 (2000)\ttotal: 4m 4s\tremaining: 16h 52m 42s\n",
      "2100:\tlearn: 0.6498934\ttest: 0.6385821\tbest: 0.6387065 (2093)\ttotal: 4m 16s\tremaining: 16h 53m 56s\n",
      "2200:\tlearn: 0.6506640\ttest: 0.6390547\tbest: 0.6390547 (2194)\ttotal: 4m 29s\tremaining: 16h 54m 55s\n",
      "2300:\tlearn: 0.6513545\ttest: 0.6394527\tbest: 0.6395771 (2268)\ttotal: 4m 41s\tremaining: 16h 55m 11s\n",
      "2400:\tlearn: 0.6520830\ttest: 0.6398259\tbest: 0.6399254 (2385)\ttotal: 4m 54s\tremaining: 16h 56m 19s\n",
      "2500:\tlearn: 0.6527434\ttest: 0.6398507\tbest: 0.6400498 (2461)\ttotal: 5m 6s\tremaining: 16h 57m 19s\n",
      "2600:\tlearn: 0.6533912\ttest: 0.6407214\tbest: 0.6407960 (2596)\ttotal: 5m 19s\tremaining: 16h 57m 37s\n",
      "2700:\tlearn: 0.6539720\ttest: 0.6403483\tbest: 0.6407960 (2596)\ttotal: 5m 31s\tremaining: 16h 58m 2s\n",
      "2800:\tlearn: 0.6546700\ttest: 0.6409701\tbest: 0.6409701 (2796)\ttotal: 5m 44s\tremaining: 16h 58m 23s\n",
      "2900:\tlearn: 0.6552782\ttest: 0.6413682\tbest: 0.6413930 (2897)\ttotal: 5m 56s\tremaining: 16h 58m 43s\n",
      "3000:\tlearn: 0.6558666\ttest: 0.6420149\tbest: 0.6422139 (2998)\ttotal: 6m 9s\tremaining: 16h 58m 59s\n",
      "3100:\tlearn: 0.6564534\ttest: 0.6425622\tbest: 0.6425622 (3094)\ttotal: 6m 21s\tremaining: 16h 58m 52s\n",
      "3200:\tlearn: 0.6570134\ttest: 0.6428856\tbest: 0.6429353 (3146)\ttotal: 6m 33s\tremaining: 16h 58m 58s\n",
      "3300:\tlearn: 0.6575739\ttest: 0.6428109\tbest: 0.6430348 (3258)\ttotal: 6m 46s\tremaining: 16h 58m 45s\n",
      "3400:\tlearn: 0.6580724\ttest: 0.6433333\tbest: 0.6433831 (3388)\ttotal: 6m 58s\tremaining: 16h 58m 56s\n",
      "3500:\tlearn: 0.6586080\ttest: 0.6437313\tbest: 0.6437313 (3499)\ttotal: 7m 11s\tremaining: 16h 59m\n",
      "3600:\tlearn: 0.6591294\ttest: 0.6437562\tbest: 0.6439801 (3540)\ttotal: 7m 23s\tremaining: 16h 59m 19s\n",
      "3700:\tlearn: 0.6596690\ttest: 0.6436816\tbest: 0.6439801 (3540)\ttotal: 7m 36s\tremaining: 16h 59m 37s\n",
      "3800:\tlearn: 0.6601015\ttest: 0.6438557\tbest: 0.6440299 (3783)\ttotal: 7m 48s\tremaining: 16h 59m 45s\n",
      "3900:\tlearn: 0.6606254\ttest: 0.6441294\tbest: 0.6441294 (3900)\ttotal: 8m 1s\tremaining: 16h 59m 36s\n",
      "4000:\tlearn: 0.6610996\ttest: 0.6442289\tbest: 0.6442537 (3912)\ttotal: 8m 13s\tremaining: 16h 59m 36s\n",
      "4100:\tlearn: 0.6615997\ttest: 0.6442786\tbest: 0.6444279 (4069)\ttotal: 8m 26s\tremaining: 16h 59m 54s\n",
      "4200:\tlearn: 0.6620159\ttest: 0.6442786\tbest: 0.6445771 (4189)\ttotal: 8m 38s\tremaining: 17h 11s\n",
      "4300:\tlearn: 0.6624784\ttest: 0.6443284\tbest: 0.6446020 (4289)\ttotal: 8m 51s\tremaining: 17h 4s\n",
      "4400:\tlearn: 0.6629206\ttest: 0.6442786\tbest: 0.6446020 (4289)\ttotal: 9m 3s\tremaining: 16h 59m 39s\n",
      "4500:\tlearn: 0.6633379\ttest: 0.6442786\tbest: 0.6446020 (4289)\ttotal: 9m 15s\tremaining: 16h 59m 15s\n",
      "4600:\tlearn: 0.6638110\ttest: 0.6447264\tbest: 0.6448010 (4598)\ttotal: 9m 27s\tremaining: 16h 59m 12s\n",
      "4700:\tlearn: 0.6642685\ttest: 0.6448507\tbest: 0.6449751 (4663)\ttotal: 9m 40s\tremaining: 16h 59m 2s\n",
      "4800:\tlearn: 0.6647208\ttest: 0.6451244\tbest: 0.6451244 (4800)\ttotal: 9m 52s\tremaining: 16h 58m 26s\n",
      "4900:\tlearn: 0.6651787\ttest: 0.6453980\tbest: 0.6453980 (4900)\ttotal: 10m 4s\tremaining: 16h 58m 6s\n",
      "5000:\tlearn: 0.6656026\ttest: 0.6455224\tbest: 0.6455970 (4986)\ttotal: 10m 17s\tremaining: 16h 57m 50s\n",
      "5100:\tlearn: 0.6659793\ttest: 0.6455970\tbest: 0.6458209 (5083)\ttotal: 10m 29s\tremaining: 16h 57m 32s\n",
      "5200:\tlearn: 0.6664727\ttest: 0.6458955\tbest: 0.6460199 (5146)\ttotal: 10m 41s\tremaining: 16h 57m 1s\n",
      "5300:\tlearn: 0.6668789\ttest: 0.6459950\tbest: 0.6460199 (5146)\ttotal: 10m 53s\tremaining: 16h 56m 43s\n",
      "5400:\tlearn: 0.6672586\ttest: 0.6461692\tbest: 0.6462189 (5342)\ttotal: 11m 5s\tremaining: 16h 56m 25s\n",
      "5500:\tlearn: 0.6676729\ttest: 0.6460697\tbest: 0.6462935 (5495)\ttotal: 11m 18s\tremaining: 16h 56m 9s\n",
      "5600:\tlearn: 0.6680663\ttest: 0.6462687\tbest: 0.6462935 (5495)\ttotal: 11m 30s\tremaining: 16h 55m 36s\n",
      "5700:\tlearn: 0.6684374\ttest: 0.6464677\tbest: 0.6465174 (5647)\ttotal: 11m 42s\tremaining: 16h 55m 18s\n",
      "5800:\tlearn: 0.6688506\ttest: 0.6462935\tbest: 0.6465174 (5647)\ttotal: 11m 54s\tremaining: 16h 54m 49s\n",
      "5900:\tlearn: 0.6692014\ttest: 0.6463682\tbest: 0.6465423 (5874)\ttotal: 12m 6s\tremaining: 16h 54m 15s\n",
      "6000:\tlearn: 0.6696091\ttest: 0.6464428\tbest: 0.6465423 (5874)\ttotal: 12m 18s\tremaining: 16h 53m 52s\n",
      "6100:\tlearn: 0.6700315\ttest: 0.6464428\tbest: 0.6465672 (6014)\ttotal: 12m 31s\tremaining: 16h 53m 21s\n",
      "6200:\tlearn: 0.6703914\ttest: 0.6462438\tbest: 0.6465672 (6014)\ttotal: 12m 43s\tremaining: 16h 52m 48s\n",
      "6300:\tlearn: 0.6707529\ttest: 0.6464428\tbest: 0.6465672 (6014)\ttotal: 12m 55s\tremaining: 16h 52m 39s\n",
      "6400:\tlearn: 0.6711067\ttest: 0.6468408\tbest: 0.6468408 (6395)\ttotal: 13m 7s\tremaining: 16h 52m 18s\n",
      "6500:\tlearn: 0.6714590\ttest: 0.6466915\tbest: 0.6468408 (6395)\ttotal: 13m 19s\tremaining: 16h 51m 43s\n",
      "6600:\tlearn: 0.6718098\ttest: 0.6464428\tbest: 0.6468408 (6395)\ttotal: 13m 31s\tremaining: 16h 50m 56s\n",
      "6700:\tlearn: 0.6721698\ttest: 0.6462935\tbest: 0.6468408 (6395)\ttotal: 13m 43s\tremaining: 16h 50m 16s\n",
      "6800:\tlearn: 0.6724982\ttest: 0.6462687\tbest: 0.6468408 (6395)\ttotal: 13m 55s\tremaining: 16h 49m 23s\n",
      "6900:\tlearn: 0.6728363\ttest: 0.6461940\tbest: 0.6468408 (6395)\ttotal: 14m 7s\tremaining: 16h 48m 52s\n",
      "7000:\tlearn: 0.6732267\ttest: 0.6462189\tbest: 0.6468408 (6395)\ttotal: 14m 19s\tremaining: 16h 48m 19s\n",
      "7100:\tlearn: 0.6735658\ttest: 0.6465423\tbest: 0.6468408 (6395)\ttotal: 14m 30s\tremaining: 16h 47m 37s\n",
      "7200:\tlearn: 0.6738958\ttest: 0.6464677\tbest: 0.6468408 (6395)\ttotal: 14m 42s\tremaining: 16h 46m 50s\n",
      "7300:\tlearn: 0.6742009\ttest: 0.6464179\tbest: 0.6468408 (6395)\ttotal: 14m 54s\tremaining: 16h 46m 17s\n",
      "7400:\tlearn: 0.6745294\ttest: 0.6465423\tbest: 0.6468408 (6395)\ttotal: 15m 6s\tremaining: 16h 45m 43s\n",
      "7500:\tlearn: 0.6748528\ttest: 0.6465423\tbest: 0.6468408 (6395)\ttotal: 15m 18s\tremaining: 16h 45m 2s\n",
      "7600:\tlearn: 0.6751960\ttest: 0.6464179\tbest: 0.6468408 (6395)\ttotal: 15m 30s\tremaining: 16h 44m 10s\n",
      "7700:\tlearn: 0.6754924\ttest: 0.6462935\tbest: 0.6468408 (6395)\ttotal: 15m 41s\tremaining: 16h 43m 25s\n",
      "7800:\tlearn: 0.6758265\ttest: 0.6464428\tbest: 0.6468408 (6395)\ttotal: 15m 53s\tremaining: 16h 42m 46s\n",
      "7900:\tlearn: 0.6761575\ttest: 0.6462438\tbest: 0.6468408 (6395)\ttotal: 16m 5s\tremaining: 16h 42m 9s\n",
      "8000:\tlearn: 0.6764748\ttest: 0.6465174\tbest: 0.6468408 (6395)\ttotal: 16m 17s\tremaining: 16h 41m 27s\n",
      "8100:\tlearn: 0.6768048\ttest: 0.6466169\tbest: 0.6468408 (6395)\ttotal: 16m 28s\tremaining: 16h 40m 40s\n",
      "8200:\tlearn: 0.6771373\ttest: 0.6467413\tbest: 0.6468408 (6395)\ttotal: 16m 40s\tremaining: 16h 40m 3s\n",
      "8300:\tlearn: 0.6774363\ttest: 0.6464925\tbest: 0.6468408 (6395)\ttotal: 16m 52s\tremaining: 16h 39m 14s\n"
     ]
    },
    {
     "name": "stdout",
     "output_type": "stream",
     "text": [
      "8400:\tlearn: 0.6777571\ttest: 0.6467164\tbest: 0.6468408 (6395)\ttotal: 17m 4s\tremaining: 16h 38m 44s\n",
      "8500:\tlearn: 0.6780912\ttest: 0.6466667\tbest: 0.6468657 (8416)\ttotal: 17m 15s\tremaining: 16h 37m 52s\n",
      "8600:\tlearn: 0.6783800\ttest: 0.6467910\tbest: 0.6468657 (8416)\ttotal: 17m 27s\tremaining: 16h 37m 4s\n",
      "8700:\tlearn: 0.6787065\ttest: 0.6468408\tbest: 0.6469652 (8660)\ttotal: 17m 38s\tremaining: 16h 36m 29s\n",
      "8800:\tlearn: 0.6789659\ttest: 0.6467413\tbest: 0.6469900 (8706)\ttotal: 17m 50s\tremaining: 16h 35m 47s\n",
      "8900:\tlearn: 0.6792964\ttest: 0.6466418\tbest: 0.6469900 (8706)\ttotal: 18m 1s\tremaining: 16h 34m 47s\n",
      "9000:\tlearn: 0.6795822\ttest: 0.6468408\tbest: 0.6469900 (8706)\ttotal: 18m 13s\tremaining: 16h 33m 48s\n",
      "9100:\tlearn: 0.6799152\ttest: 0.6468905\tbest: 0.6469900 (8706)\ttotal: 18m 24s\tremaining: 16h 33m 10s\n",
      "9200:\tlearn: 0.6801868\ttest: 0.6470149\tbest: 0.6470149 (9200)\ttotal: 18m 36s\tremaining: 16h 32m 20s\n",
      "9300:\tlearn: 0.6804630\ttest: 0.6467662\tbest: 0.6470398 (9203)\ttotal: 18m 47s\tremaining: 16h 31m 44s\n",
      "9400:\tlearn: 0.6807849\ttest: 0.6466418\tbest: 0.6470398 (9203)\ttotal: 18m 59s\tremaining: 16h 30m 54s\n",
      "9500:\tlearn: 0.6810361\ttest: 0.6466915\tbest: 0.6470398 (9203)\ttotal: 19m 10s\tremaining: 16h 29m 45s\n",
      "9600:\tlearn: 0.6813529\ttest: 0.6468159\tbest: 0.6470398 (9203)\ttotal: 19m 21s\tremaining: 16h 28m 51s\n",
      "9700:\tlearn: 0.6815859\ttest: 0.6470149\tbest: 0.6472139 (9663)\ttotal: 19m 33s\tremaining: 16h 28m 5s\n",
      "9800:\tlearn: 0.6819398\ttest: 0.6469154\tbest: 0.6472139 (9663)\ttotal: 19m 44s\tremaining: 16h 27m 22s\n",
      "9900:\tlearn: 0.6822246\ttest: 0.6466418\tbest: 0.6472139 (9663)\ttotal: 19m 56s\tremaining: 16h 26m 49s\n",
      "10000:\tlearn: 0.6824962\ttest: 0.6468159\tbest: 0.6472139 (9663)\ttotal: 20m 7s\tremaining: 16h 26m 8s\n",
      "10100:\tlearn: 0.6828069\ttest: 0.6468159\tbest: 0.6472139 (9663)\ttotal: 20m 19s\tremaining: 16h 25m 27s\n",
      "10200:\tlearn: 0.6830622\ttest: 0.6469403\tbest: 0.6472139 (9663)\ttotal: 20m 30s\tremaining: 16h 24m 43s\n",
      "10300:\tlearn: 0.6833745\ttest: 0.6467413\tbest: 0.6472139 (9663)\ttotal: 20m 42s\tremaining: 16h 24m 19s\n",
      "10400:\tlearn: 0.6836902\ttest: 0.6468905\tbest: 0.6472139 (9663)\ttotal: 20m 53s\tremaining: 16h 23m 42s\n",
      "10500:\tlearn: 0.6839816\ttest: 0.6467413\tbest: 0.6472139 (9663)\ttotal: 21m 5s\tremaining: 16h 23m 8s\n",
      "10600:\tlearn: 0.6842481\ttest: 0.6467413\tbest: 0.6472139 (9663)\ttotal: 21m 16s\tremaining: 16h 22m 25s\n",
      "10700:\tlearn: 0.6845121\ttest: 0.6464677\tbest: 0.6472139 (9663)\ttotal: 21m 28s\tremaining: 16h 21m 45s\n",
      "10800:\tlearn: 0.6847949\ttest: 0.6466418\tbest: 0.6472139 (9663)\ttotal: 21m 39s\tremaining: 16h 21m 14s\n",
      "10900:\tlearn: 0.6850909\ttest: 0.6466418\tbest: 0.6472139 (9663)\ttotal: 21m 51s\tremaining: 16h 20m 40s\n",
      "11000:\tlearn: 0.6853879\ttest: 0.6466915\tbest: 0.6472139 (9663)\ttotal: 22m 2s\tremaining: 16h 19m 57s\n",
      "11100:\tlearn: 0.6856529\ttest: 0.6469154\tbest: 0.6472139 (9663)\ttotal: 22m 14s\tremaining: 16h 19m 19s\n",
      "11200:\tlearn: 0.6859509\ttest: 0.6470149\tbest: 0.6472139 (9663)\ttotal: 22m 25s\tremaining: 16h 18m 42s\n",
      "11300:\tlearn: 0.6862377\ttest: 0.6471642\tbest: 0.6472388 (11249)\ttotal: 22m 37s\tremaining: 16h 18m 8s\n",
      "11400:\tlearn: 0.6864981\ttest: 0.6470896\tbest: 0.6472388 (11249)\ttotal: 22m 48s\tremaining: 16h 17m 30s\n",
      "11500:\tlearn: 0.6867606\ttest: 0.6472388\tbest: 0.6472886 (11473)\ttotal: 22m 59s\tremaining: 16h 16m 50s\n",
      "11600:\tlearn: 0.6870383\ttest: 0.6471393\tbest: 0.6474378 (11525)\ttotal: 23m 11s\tremaining: 16h 16m 7s\n",
      "11700:\tlearn: 0.6873190\ttest: 0.6472388\tbest: 0.6474378 (11525)\ttotal: 23m 22s\tremaining: 16h 15m 22s\n",
      "11800:\tlearn: 0.6875510\ttest: 0.6472886\tbest: 0.6474378 (11525)\ttotal: 23m 33s\tremaining: 16h 14m 28s\n",
      "11900:\tlearn: 0.6878231\ttest: 0.6470896\tbest: 0.6474378 (11525)\ttotal: 23m 44s\tremaining: 16h 13m 36s\n",
      "12000:\tlearn: 0.6880759\ttest: 0.6470896\tbest: 0.6474378 (11525)\ttotal: 23m 55s\tremaining: 16h 12m 58s\n",
      "12100:\tlearn: 0.6883618\ttest: 0.6471642\tbest: 0.6474378 (11525)\ttotal: 24m 6s\tremaining: 16h 12m 20s\n",
      "12200:\tlearn: 0.6886745\ttest: 0.6470647\tbest: 0.6474378 (11525)\ttotal: 24m 18s\tremaining: 16h 11m 45s\n",
      "12300:\tlearn: 0.6889679\ttest: 0.6470398\tbest: 0.6474378 (11525)\ttotal: 24m 29s\tremaining: 16h 11m 15s\n",
      "12400:\tlearn: 0.6892410\ttest: 0.6468905\tbest: 0.6474378 (11525)\ttotal: 24m 41s\tremaining: 16h 10m 44s\n",
      "12500:\tlearn: 0.6895010\ttest: 0.6470647\tbest: 0.6474378 (11525)\ttotal: 24m 52s\tremaining: 16h 9m 57s\n",
      "12600:\tlearn: 0.6897639\ttest: 0.6470149\tbest: 0.6474378 (11525)\ttotal: 25m 3s\tremaining: 16h 9m 15s\n",
      "12700:\tlearn: 0.6900487\ttest: 0.6470149\tbest: 0.6474378 (11525)\ttotal: 25m 14s\tremaining: 16h 8m 36s\n",
      "12800:\tlearn: 0.6902736\ttest: 0.6469154\tbest: 0.6474378 (11525)\ttotal: 25m 25s\tremaining: 16h 7m 54s\n",
      "12900:\tlearn: 0.6905508\ttest: 0.6467910\tbest: 0.6474378 (11525)\ttotal: 25m 37s\tremaining: 16h 7m 14s\n",
      "13000:\tlearn: 0.6908224\ttest: 0.6469154\tbest: 0.6474378 (11525)\ttotal: 25m 48s\tremaining: 16h 6m 37s\n",
      "13100:\tlearn: 0.6910966\ttest: 0.6469900\tbest: 0.6474378 (11525)\ttotal: 25m 59s\tremaining: 16h 6m 3s\n",
      "13200:\tlearn: 0.6913611\ttest: 0.6469403\tbest: 0.6474378 (11525)\ttotal: 26m 10s\tremaining: 16h 5m 30s\n",
      "13300:\tlearn: 0.6916255\ttest: 0.6471642\tbest: 0.6474378 (11525)\ttotal: 26m 22s\tremaining: 16h 5m 5s\n",
      "13400:\tlearn: 0.6919164\ttest: 0.6471144\tbest: 0.6474378 (11525)\ttotal: 26m 33s\tremaining: 16h 4m 27s\n",
      "13500:\tlearn: 0.6921693\ttest: 0.6471144\tbest: 0.6474378 (11525)\ttotal: 26m 45s\tremaining: 16h 3m 59s\n",
      "13600:\tlearn: 0.6924403\ttest: 0.6470149\tbest: 0.6474378 (11525)\ttotal: 26m 56s\tremaining: 16h 3m 28s\n",
      "13700:\tlearn: 0.6927150\ttest: 0.6470398\tbest: 0.6474378 (11525)\ttotal: 27m 7s\tremaining: 16h 2m 48s\n",
      "13800:\tlearn: 0.6929328\ttest: 0.6469900\tbest: 0.6474378 (11525)\ttotal: 27m 18s\tremaining: 16h 2m 10s\n",
      "13900:\tlearn: 0.6932658\ttest: 0.6471144\tbest: 0.6474378 (11525)\ttotal: 27m 29s\tremaining: 16h 1m 29s\n",
      "14000:\tlearn: 0.6935207\ttest: 0.6469900\tbest: 0.6474378 (11525)\ttotal: 27m 40s\tremaining: 16h 48s\n",
      "14100:\tlearn: 0.6937836\ttest: 0.6471144\tbest: 0.6474378 (11525)\ttotal: 27m 52s\tremaining: 16h 15s\n",
      "14200:\tlearn: 0.6940222\ttest: 0.6469900\tbest: 0.6474378 (11525)\ttotal: 28m 3s\tremaining: 15h 59m 38s\n",
      "14300:\tlearn: 0.6942974\ttest: 0.6470398\tbest: 0.6474378 (11525)\ttotal: 28m 14s\tremaining: 15h 59m 5s\n",
      "14400:\tlearn: 0.6945421\ttest: 0.6470398\tbest: 0.6474378 (11525)\ttotal: 28m 25s\tremaining: 15h 58m 38s\n",
      "14500:\tlearn: 0.6948289\ttest: 0.6471891\tbest: 0.6474378 (11525)\ttotal: 28m 37s\tremaining: 15h 58m 9s\n",
      "14600:\tlearn: 0.6951051\ttest: 0.6470398\tbest: 0.6474378 (11525)\ttotal: 28m 48s\tremaining: 15h 57m 42s\n",
      "14700:\tlearn: 0.6953818\ttest: 0.6470647\tbest: 0.6474378 (11525)\ttotal: 28m 59s\tremaining: 15h 57m 10s\n",
      "14800:\tlearn: 0.6956752\ttest: 0.6470647\tbest: 0.6474378 (11525)\ttotal: 29m 10s\tremaining: 15h 56m 39s\n",
      "14900:\tlearn: 0.6959498\ttest: 0.6473134\tbest: 0.6474378 (11525)\ttotal: 29m 22s\tremaining: 15h 56m 5s\n",
      "15000:\tlearn: 0.6961991\ttest: 0.6473632\tbest: 0.6474378 (11525)\ttotal: 29m 33s\tremaining: 15h 55m 32s\n",
      "15100:\tlearn: 0.6964773\ttest: 0.6473881\tbest: 0.6476617 (15084)\ttotal: 29m 44s\tremaining: 15h 55m 2s\n",
      "15200:\tlearn: 0.6967256\ttest: 0.6474129\tbest: 0.6476617 (15084)\ttotal: 29m 55s\tremaining: 15h 54m 29s\n",
      "15300:\tlearn: 0.6969713\ttest: 0.6471891\tbest: 0.6476617 (15084)\ttotal: 30m 6s\tremaining: 15h 53m 54s\n",
      "15400:\tlearn: 0.6972535\ttest: 0.6472139\tbest: 0.6476617 (15084)\ttotal: 30m 18s\tremaining: 15h 53m 29s\n",
      "15500:\tlearn: 0.6975404\ttest: 0.6473383\tbest: 0.6476617 (15084)\ttotal: 30m 29s\tremaining: 15h 53m 5s\n",
      "15600:\tlearn: 0.6978358\ttest: 0.6474129\tbest: 0.6476617 (15084)\ttotal: 30m 40s\tremaining: 15h 52m 37s\n",
      "15700:\tlearn: 0.6980805\ttest: 0.6475871\tbest: 0.6476617 (15084)\ttotal: 30m 51s\tremaining: 15h 51m 57s\n",
      "15800:\tlearn: 0.6983780\ttest: 0.6475622\tbest: 0.6476866 (15701)\ttotal: 31m 2s\tremaining: 15h 51m 20s\n",
      "15900:\tlearn: 0.6986080\ttest: 0.6476368\tbest: 0.6477612 (15844)\ttotal: 31m 13s\tremaining: 15h 50m 50s\n",
      "16000:\tlearn: 0.6988796\ttest: 0.6477363\tbest: 0.6477861 (15902)\ttotal: 31m 25s\tremaining: 15h 50m 21s\n",
      "16100:\tlearn: 0.6991552\ttest: 0.6477114\tbest: 0.6478109 (16036)\ttotal: 31m 36s\tremaining: 15h 49m 54s\n",
      "16200:\tlearn: 0.6993817\ttest: 0.6477363\tbest: 0.6478358 (16150)\ttotal: 31m 47s\tremaining: 15h 49m 27s\n",
      "16300:\tlearn: 0.6996695\ttest: 0.6476866\tbest: 0.6478358 (16150)\ttotal: 31m 58s\tremaining: 15h 48m 53s\n",
      "16400:\tlearn: 0.6999233\ttest: 0.6474129\tbest: 0.6478358 (16150)\ttotal: 32m 10s\tremaining: 15h 48m 38s\n",
      "16500:\tlearn: 0.7001817\ttest: 0.6474129\tbest: 0.6478358 (16150)\ttotal: 32m 21s\tremaining: 15h 48m 18s\n"
     ]
    },
    {
     "name": "stdout",
     "output_type": "stream",
     "text": [
      "16600:\tlearn: 0.7004361\ttest: 0.6475373\tbest: 0.6478358 (16150)\ttotal: 32m 33s\tremaining: 15h 47m 56s\n",
      "16700:\tlearn: 0.7006320\ttest: 0.6476368\tbest: 0.6478358 (16150)\ttotal: 32m 44s\tremaining: 15h 47m 28s\n",
      "16800:\tlearn: 0.7009118\ttest: 0.6472637\tbest: 0.6478358 (16150)\ttotal: 32m 55s\tremaining: 15h 46m 55s\n",
      "16900:\tlearn: 0.7012037\ttest: 0.6473881\tbest: 0.6478358 (16150)\ttotal: 33m 7s\tremaining: 15h 46m 38s\n",
      "17000:\tlearn: 0.7014712\ttest: 0.6474876\tbest: 0.6478358 (16150)\ttotal: 33m 18s\tremaining: 15h 46m 15s\n",
      "17100:\tlearn: 0.7017179\ttest: 0.6475622\tbest: 0.6478358 (16150)\ttotal: 33m 29s\tremaining: 15h 45m 49s\n",
      "17200:\tlearn: 0.7019738\ttest: 0.6475622\tbest: 0.6478358 (16150)\ttotal: 33m 41s\tremaining: 15h 45m 27s\n",
      "17300:\tlearn: 0.7022089\ttest: 0.6477861\tbest: 0.6478358 (16150)\ttotal: 33m 52s\tremaining: 15h 45m 1s\n",
      "17400:\tlearn: 0.7025018\ttest: 0.6479104\tbest: 0.6480100 (17384)\ttotal: 34m 3s\tremaining: 15h 44m 40s\n",
      "17500:\tlearn: 0.7027353\ttest: 0.6478109\tbest: 0.6480100 (17384)\ttotal: 34m 15s\tremaining: 15h 44m 18s\n",
      "17600:\tlearn: 0.7029998\ttest: 0.6479851\tbest: 0.6480597 (17597)\ttotal: 34m 26s\tremaining: 15h 43m 59s\n",
      "17700:\tlearn: 0.7032668\ttest: 0.6477114\tbest: 0.6480597 (17597)\ttotal: 34m 37s\tremaining: 15h 43m 37s\n",
      "17800:\tlearn: 0.7035308\ttest: 0.6477114\tbest: 0.6480597 (17597)\ttotal: 34m 48s\tremaining: 15h 43m 6s\n",
      "17900:\tlearn: 0.7037709\ttest: 0.6476368\tbest: 0.6480597 (17597)\ttotal: 35m\tremaining: 15h 42m 45s\n",
      "18000:\tlearn: 0.7040268\ttest: 0.6477612\tbest: 0.6480597 (17597)\ttotal: 35m 11s\tremaining: 15h 42m 24s\n",
      "18100:\tlearn: 0.7042984\ttest: 0.6478358\tbest: 0.6480597 (17597)\ttotal: 35m 23s\tremaining: 15h 42m 4s\n",
      "18200:\tlearn: 0.7045284\ttest: 0.6479602\tbest: 0.6480597 (17597)\ttotal: 35m 34s\tremaining: 15h 41m 38s\n",
      "18300:\tlearn: 0.7047954\ttest: 0.6482338\tbest: 0.6483831 (18279)\ttotal: 35m 46s\tremaining: 15h 41m 29s\n",
      "18400:\tlearn: 0.7050437\ttest: 0.6480846\tbest: 0.6483831 (18279)\ttotal: 35m 57s\tremaining: 15h 41m 7s\n",
      "18500:\tlearn: 0.7053021\ttest: 0.6482338\tbest: 0.6483831 (18279)\ttotal: 36m 8s\tremaining: 15h 40m 43s\n",
      "18600:\tlearn: 0.7055843\ttest: 0.6481343\tbest: 0.6484080 (18523)\ttotal: 36m 20s\tremaining: 15h 40m 20s\n",
      "18700:\tlearn: 0.7058696\ttest: 0.6481095\tbest: 0.6484080 (18523)\ttotal: 36m 31s\tremaining: 15h 39m 54s\n",
      "18800:\tlearn: 0.7061042\ttest: 0.6482090\tbest: 0.6484080 (18523)\ttotal: 36m 42s\tremaining: 15h 39m 32s\n",
      "18900:\tlearn: 0.7063438\ttest: 0.6482836\tbest: 0.6484080 (18523)\ttotal: 36m 53s\tremaining: 15h 39m 4s\n",
      "19000:\tlearn: 0.7065870\ttest: 0.6483831\tbest: 0.6484080 (18523)\ttotal: 37m 4s\tremaining: 15h 38m 42s\n",
      "19100:\tlearn: 0.7068388\ttest: 0.6485075\tbest: 0.6485572 (19030)\ttotal: 37m 16s\tremaining: 15h 38m 20s\n",
      "19200:\tlearn: 0.7071357\ttest: 0.6485821\tbest: 0.6485821 (19200)\ttotal: 37m 27s\tremaining: 15h 38m 4s\n",
      "19300:\tlearn: 0.7073942\ttest: 0.6484577\tbest: 0.6485821 (19200)\ttotal: 37m 39s\tremaining: 15h 37m 44s\n",
      "19400:\tlearn: 0.7076536\ttest: 0.6483831\tbest: 0.6486070 (19329)\ttotal: 37m 50s\tremaining: 15h 37m 29s\n",
      "19500:\tlearn: 0.7079308\ttest: 0.6484577\tbest: 0.6486070 (19329)\ttotal: 38m 2s\tremaining: 15h 37m 10s\n",
      "19600:\tlearn: 0.7081881\ttest: 0.6485572\tbest: 0.6486567 (19579)\ttotal: 38m 13s\tremaining: 15h 36m 58s\n",
      "19700:\tlearn: 0.7084394\ttest: 0.6485572\tbest: 0.6486567 (19579)\ttotal: 38m 25s\tremaining: 15h 36m 38s\n",
      "19800:\tlearn: 0.7086628\ttest: 0.6484080\tbest: 0.6486567 (19579)\ttotal: 38m 36s\tremaining: 15h 36m 17s\n",
      "19900:\tlearn: 0.7089344\ttest: 0.6483333\tbest: 0.6486567 (19579)\ttotal: 38m 47s\tremaining: 15h 35m 57s\n",
      "20000:\tlearn: 0.7092182\ttest: 0.6483582\tbest: 0.6486567 (19579)\ttotal: 38m 59s\tremaining: 15h 35m 42s\n",
      "20100:\tlearn: 0.7094639\ttest: 0.6485075\tbest: 0.6486567 (19579)\ttotal: 39m 10s\tremaining: 15h 35m 17s\n",
      "20200:\tlearn: 0.7097096\ttest: 0.6482836\tbest: 0.6486567 (19579)\ttotal: 39m 21s\tremaining: 15h 34m 56s\n",
      "20300:\tlearn: 0.7099436\ttest: 0.6484826\tbest: 0.6486567 (19579)\ttotal: 39m 32s\tremaining: 15h 34m 28s\n",
      "20400:\tlearn: 0.7102000\ttest: 0.6485572\tbest: 0.6486567 (19579)\ttotal: 39m 44s\tremaining: 15h 34m 8s\n",
      "20500:\tlearn: 0.7104432\ttest: 0.6485572\tbest: 0.6486567 (19579)\ttotal: 39m 55s\tremaining: 15h 33m 41s\n",
      "20600:\tlearn: 0.7107214\ttest: 0.6485075\tbest: 0.6486567 (19579)\ttotal: 40m 6s\tremaining: 15h 33m 24s\n",
      "20700:\tlearn: 0.7110092\ttest: 0.6484577\tbest: 0.6486567 (19579)\ttotal: 40m 18s\tremaining: 15h 33m 11s\n",
      "20800:\tlearn: 0.7112514\ttest: 0.6482836\tbest: 0.6486567 (19579)\ttotal: 40m 29s\tremaining: 15h 32m 51s\n",
      "20900:\tlearn: 0.7115128\ttest: 0.6480348\tbest: 0.6486567 (19579)\ttotal: 40m 40s\tremaining: 15h 32m 30s\n",
      "21000:\tlearn: 0.7117768\ttest: 0.6482338\tbest: 0.6486567 (19579)\ttotal: 40m 52s\tremaining: 15h 32m 10s\n",
      "21100:\tlearn: 0.7120159\ttest: 0.6483582\tbest: 0.6486567 (19579)\ttotal: 41m 3s\tremaining: 15h 31m 54s\n",
      "21200:\tlearn: 0.7123048\ttest: 0.6486070\tbest: 0.6486567 (19579)\ttotal: 41m 15s\tremaining: 15h 31m 37s\n",
      "21300:\tlearn: 0.7125246\ttest: 0.6484328\tbest: 0.6488308 (21217)\ttotal: 41m 26s\tremaining: 15h 31m 17s\n",
      "21400:\tlearn: 0.7127795\ttest: 0.6486070\tbest: 0.6488308 (21217)\ttotal: 41m 37s\tremaining: 15h 30m 52s\n",
      "21500:\tlearn: 0.7130267\ttest: 0.6487065\tbest: 0.6488308 (21217)\ttotal: 41m 49s\tremaining: 15h 30m 39s\n",
      "21600:\tlearn: 0.7132658\ttest: 0.6483582\tbest: 0.6488308 (21217)\ttotal: 42m\tremaining: 15h 30m 19s\n",
      "21700:\tlearn: 0.7135283\ttest: 0.6485323\tbest: 0.6488308 (21217)\ttotal: 42m 11s\tremaining: 15h 29m 57s\n",
      "21800:\tlearn: 0.7138308\ttest: 0.6485821\tbest: 0.6488308 (21217)\ttotal: 42m 23s\tremaining: 15h 29m 41s\n",
      "21900:\tlearn: 0.7140481\ttest: 0.6486567\tbest: 0.6488308 (21217)\ttotal: 42m 34s\tremaining: 15h 29m 19s\n",
      "22000:\tlearn: 0.7143131\ttest: 0.6485572\tbest: 0.6488308 (21217)\ttotal: 42m 45s\tremaining: 15h 29m\n",
      "22100:\tlearn: 0.7146010\ttest: 0.6485075\tbest: 0.6488308 (21217)\ttotal: 42m 57s\tremaining: 15h 28m 44s\n",
      "22200:\tlearn: 0.7148132\ttest: 0.6486070\tbest: 0.6488308 (21217)\ttotal: 43m 8s\tremaining: 15h 28m 22s\n",
      "22300:\tlearn: 0.7150650\ttest: 0.6484080\tbest: 0.6488308 (21217)\ttotal: 43m 19s\tremaining: 15h 28m 4s\n",
      "22400:\tlearn: 0.7153010\ttest: 0.6483333\tbest: 0.6488308 (21217)\ttotal: 43m 30s\tremaining: 15h 27m 46s\n",
      "22500:\tlearn: 0.7155681\ttest: 0.6483333\tbest: 0.6488308 (21217)\ttotal: 43m 42s\tremaining: 15h 27m 29s\n",
      "22600:\tlearn: 0.7158417\ttest: 0.6484080\tbest: 0.6488308 (21217)\ttotal: 43m 53s\tremaining: 15h 27m 5s\n",
      "22700:\tlearn: 0.7160955\ttest: 0.6482338\tbest: 0.6488308 (21217)\ttotal: 44m 4s\tremaining: 15h 26m 47s\n",
      "22800:\tlearn: 0.7163204\ttest: 0.6485572\tbest: 0.6488308 (21217)\ttotal: 44m 15s\tremaining: 15h 26m 26s\n",
      "22900:\tlearn: 0.7165824\ttest: 0.6485075\tbest: 0.6488308 (21217)\ttotal: 44m 27s\tremaining: 15h 26m 9s\n",
      "23000:\tlearn: 0.7168149\ttest: 0.6485075\tbest: 0.6488308 (21217)\ttotal: 44m 38s\tremaining: 15h 25m 50s\n",
      "23100:\tlearn: 0.7170936\ttest: 0.6483333\tbest: 0.6488308 (21217)\ttotal: 44m 50s\tremaining: 15h 25m 38s\n",
      "23200:\tlearn: 0.7173302\ttest: 0.6485572\tbest: 0.6488308 (21217)\ttotal: 45m 1s\tremaining: 15h 25m 19s\n",
      "23300:\tlearn: 0.7175911\ttest: 0.6484328\tbest: 0.6488308 (21217)\ttotal: 45m 12s\tremaining: 15h 24m 56s\n",
      "23400:\tlearn: 0.7178561\ttest: 0.6486070\tbest: 0.6488308 (21217)\ttotal: 45m 23s\tremaining: 15h 24m 37s\n",
      "23500:\tlearn: 0.7180891\ttest: 0.6487811\tbest: 0.6488308 (21217)\ttotal: 45m 35s\tremaining: 15h 24m 19s\n",
      "23600:\tlearn: 0.7183359\ttest: 0.6486318\tbest: 0.6488308 (21217)\ttotal: 45m 46s\tremaining: 15h 24m 6s\n",
      "23700:\tlearn: 0.7185978\ttest: 0.6486070\tbest: 0.6488308 (21217)\ttotal: 45m 58s\tremaining: 15h 23m 51s\n",
      "23800:\tlearn: 0.7188319\ttest: 0.6484826\tbest: 0.6488308 (21217)\ttotal: 46m 9s\tremaining: 15h 23m 30s\n",
      "23900:\tlearn: 0.7190826\ttest: 0.6485821\tbest: 0.6488308 (21217)\ttotal: 46m 20s\tremaining: 15h 23m 8s\n",
      "24000:\tlearn: 0.7193583\ttest: 0.6486567\tbest: 0.6488308 (21217)\ttotal: 46m 32s\tremaining: 15h 22m 53s\n",
      "24100:\tlearn: 0.7195812\ttest: 0.6483582\tbest: 0.6488308 (21217)\ttotal: 46m 43s\tremaining: 15h 22m 33s\n",
      "24200:\tlearn: 0.7198700\ttest: 0.6485323\tbest: 0.6488308 (21217)\ttotal: 46m 54s\tremaining: 15h 22m 19s\n",
      "24300:\tlearn: 0.7201685\ttest: 0.6485075\tbest: 0.6488308 (21217)\ttotal: 47m 6s\tremaining: 15h 22m 6s\n",
      "24400:\tlearn: 0.7204305\ttest: 0.6485821\tbest: 0.6488308 (21217)\ttotal: 47m 17s\tremaining: 15h 21m 52s\n",
      "24500:\tlearn: 0.7206544\ttest: 0.6486567\tbest: 0.6488308 (21217)\ttotal: 47m 29s\tremaining: 15h 21m 35s\n",
      "24600:\tlearn: 0.7209062\ttest: 0.6486816\tbest: 0.6489055 (24544)\ttotal: 47m 40s\tremaining: 15h 21m 16s\n"
     ]
    },
    {
     "name": "stdout",
     "output_type": "stream",
     "text": [
      "24700:\tlearn: 0.7211849\ttest: 0.6488557\tbest: 0.6489055 (24544)\ttotal: 47m 51s\tremaining: 15h 21m 1s\n",
      "24800:\tlearn: 0.7214078\ttest: 0.6489552\tbest: 0.6490547 (24781)\ttotal: 48m 3s\tremaining: 15h 20m 40s\n",
      "24900:\tlearn: 0.7216687\ttest: 0.6490050\tbest: 0.6490547 (24781)\ttotal: 48m 14s\tremaining: 15h 20m 28s\n",
      "25000:\tlearn: 0.7218966\ttest: 0.6490299\tbest: 0.6490796 (24997)\ttotal: 48m 26s\tremaining: 15h 20m 11s\n",
      "25100:\tlearn: 0.7221845\ttest: 0.6489552\tbest: 0.6491791 (25019)\ttotal: 48m 37s\tremaining: 15h 19m 59s\n",
      "25200:\tlearn: 0.7224348\ttest: 0.6490547\tbest: 0.6491791 (25019)\ttotal: 48m 49s\tremaining: 15h 19m 47s\n",
      "25300:\tlearn: 0.7226876\ttest: 0.6487313\tbest: 0.6491791 (25019)\ttotal: 49m\tremaining: 15h 19m 35s\n",
      "25400:\tlearn: 0.7229343\ttest: 0.6489801\tbest: 0.6491791 (25019)\ttotal: 49m 12s\tremaining: 15h 19m 28s\n",
      "25500:\tlearn: 0.7231846\ttest: 0.6490299\tbest: 0.6491791 (25019)\ttotal: 49m 24s\tremaining: 15h 19m 14s\n",
      "25600:\tlearn: 0.7234293\ttest: 0.6489801\tbest: 0.6491791 (25019)\ttotal: 49m 35s\tremaining: 15h 19m 2s\n",
      "25700:\tlearn: 0.7237034\ttest: 0.6489055\tbest: 0.6491791 (25019)\ttotal: 49m 47s\tremaining: 15h 18m 53s\n",
      "25800:\tlearn: 0.7239486\ttest: 0.6489801\tbest: 0.6491791 (25019)\ttotal: 49m 58s\tremaining: 15h 18m 34s\n",
      "25900:\tlearn: 0.7241750\ttest: 0.6491045\tbest: 0.6492289 (25878)\ttotal: 50m 10s\tremaining: 15h 18m 19s\n",
      "26000:\tlearn: 0.7244492\ttest: 0.6489055\tbest: 0.6492289 (25878)\ttotal: 50m 21s\tremaining: 15h 18m 10s\n",
      "26100:\tlearn: 0.7246847\ttest: 0.6492040\tbest: 0.6492289 (25878)\ttotal: 50m 32s\tremaining: 15h 17m 47s\n",
      "26200:\tlearn: 0.7249365\ttest: 0.6489552\tbest: 0.6492537 (26128)\ttotal: 50m 44s\tremaining: 15h 17m 30s\n",
      "26300:\tlearn: 0.7252061\ttest: 0.6489552\tbest: 0.6492537 (26128)\ttotal: 50m 55s\tremaining: 15h 17m 16s\n",
      "26400:\tlearn: 0.7254407\ttest: 0.6490796\tbest: 0.6492537 (26128)\ttotal: 51m 7s\tremaining: 15h 17m\n",
      "26500:\tlearn: 0.7256899\ttest: 0.6491045\tbest: 0.6492537 (26128)\ttotal: 51m 18s\tremaining: 15h 16m 47s\n",
      "26600:\tlearn: 0.7259397\ttest: 0.6491045\tbest: 0.6493035 (26556)\ttotal: 51m 30s\tremaining: 15h 16m 33s\n",
      "26700:\tlearn: 0.7261778\ttest: 0.6490796\tbest: 0.6493035 (26556)\ttotal: 51m 41s\tremaining: 15h 16m 18s\n",
      "26800:\tlearn: 0.7264362\ttest: 0.6490050\tbest: 0.6493035 (26556)\ttotal: 51m 52s\tremaining: 15h 16m 2s\n",
      "26900:\tlearn: 0.7266723\ttest: 0.6489801\tbest: 0.6493035 (26556)\ttotal: 52m 4s\tremaining: 15h 15m 42s\n",
      "27000:\tlearn: 0.7268850\ttest: 0.6490547\tbest: 0.6493035 (26556)\ttotal: 52m 15s\tremaining: 15h 15m 22s\n",
      "27100:\tlearn: 0.7271596\ttest: 0.6489303\tbest: 0.6493035 (26556)\ttotal: 52m 26s\tremaining: 15h 15m 6s\n",
      "27200:\tlearn: 0.7273936\ttest: 0.6489801\tbest: 0.6493035 (26556)\ttotal: 52m 38s\tremaining: 15h 14m 53s\n",
      "27300:\tlearn: 0.7276556\ttest: 0.6489801\tbest: 0.6493035 (26556)\ttotal: 52m 49s\tremaining: 15h 14m 36s\n",
      "27400:\tlearn: 0.7279221\ttest: 0.6491045\tbest: 0.6493035 (26556)\ttotal: 53m\tremaining: 15h 14m 22s\n",
      "27500:\tlearn: 0.7281886\ttest: 0.6489055\tbest: 0.6493035 (26556)\ttotal: 53m 12s\tremaining: 15h 14m 4s\n",
      "27600:\tlearn: 0.7283882\ttest: 0.6490796\tbest: 0.6493284 (27561)\ttotal: 53m 23s\tremaining: 15h 13m 46s\n",
      "27700:\tlearn: 0.7286928\ttest: 0.6491045\tbest: 0.6493284 (27561)\ttotal: 53m 34s\tremaining: 15h 13m 33s\n",
      "27800:\tlearn: 0.7289410\ttest: 0.6491294\tbest: 0.6493284 (27561)\ttotal: 53m 46s\tremaining: 15h 13m 15s\n",
      "27900:\tlearn: 0.7291705\ttest: 0.6490050\tbest: 0.6493284 (27561)\ttotal: 53m 57s\tremaining: 15h 12m 56s\n",
      "28000:\tlearn: 0.7294411\ttest: 0.6491542\tbest: 0.6493284 (27561)\ttotal: 54m 8s\tremaining: 15h 12m 42s\n",
      "28100:\tlearn: 0.7296929\ttest: 0.6490796\tbest: 0.6493284 (27561)\ttotal: 54m 20s\tremaining: 15h 12m 29s\n",
      "28200:\tlearn: 0.7299431\ttest: 0.6490796\tbest: 0.6493284 (27561)\ttotal: 54m 31s\tremaining: 15h 12m 14s\n",
      "28300:\tlearn: 0.7301838\ttest: 0.6491294\tbest: 0.6493284 (27561)\ttotal: 54m 43s\tremaining: 15h 11m 59s\n",
      "28400:\tlearn: 0.7304752\ttest: 0.6492289\tbest: 0.6493532 (28374)\ttotal: 54m 54s\tremaining: 15h 11m 45s\n",
      "28500:\tlearn: 0.7307295\ttest: 0.6490796\tbest: 0.6493532 (28374)\ttotal: 55m 6s\tremaining: 15h 11m 33s\n",
      "28600:\tlearn: 0.7309894\ttest: 0.6491542\tbest: 0.6493532 (28374)\ttotal: 55m 17s\tremaining: 15h 11m 16s\n",
      "28700:\tlearn: 0.7312418\ttest: 0.6490796\tbest: 0.6493532 (28374)\ttotal: 55m 28s\tremaining: 15h 10m 59s\n",
      "28800:\tlearn: 0.7315149\ttest: 0.6490050\tbest: 0.6493532 (28374)\ttotal: 55m 40s\tremaining: 15h 10m 47s\n",
      "28900:\tlearn: 0.7317144\ttest: 0.6490299\tbest: 0.6493532 (28374)\ttotal: 55m 51s\tremaining: 15h 10m 31s\n",
      "29000:\tlearn: 0.7319758\ttest: 0.6492537\tbest: 0.6493532 (28374)\ttotal: 56m 3s\tremaining: 15h 10m 17s\n",
      "29100:\tlearn: 0.7322358\ttest: 0.6490050\tbest: 0.6493532 (28374)\ttotal: 56m 14s\tremaining: 15h 10m 3s\n",
      "29200:\tlearn: 0.7324906\ttest: 0.6490547\tbest: 0.6493532 (28374)\ttotal: 56m 25s\tremaining: 15h 9m 49s\n",
      "29300:\tlearn: 0.7326962\ttest: 0.6491045\tbest: 0.6493532 (28374)\ttotal: 56m 37s\tremaining: 15h 9m 33s\n",
      "29400:\tlearn: 0.7329541\ttest: 0.6490299\tbest: 0.6493532 (28374)\ttotal: 56m 48s\tremaining: 15h 9m 18s\n",
      "29500:\tlearn: 0.7331973\ttest: 0.6488557\tbest: 0.6493532 (28374)\ttotal: 57m\tremaining: 15h 9m 6s\n",
      "29600:\tlearn: 0.7334415\ttest: 0.6491542\tbest: 0.6493532 (28374)\ttotal: 57m 11s\tremaining: 15h 8m 54s\n",
      "29700:\tlearn: 0.7336821\ttest: 0.6490050\tbest: 0.6493532 (28374)\ttotal: 57m 23s\tremaining: 15h 8m 38s\n",
      "29800:\tlearn: 0.7339177\ttest: 0.6490299\tbest: 0.6493532 (28374)\ttotal: 57m 34s\tremaining: 15h 8m 23s\n",
      "29900:\tlearn: 0.7341756\ttest: 0.6491045\tbest: 0.6493532 (28374)\ttotal: 57m 45s\tremaining: 15h 8m 5s\n",
      "30000:\tlearn: 0.7343710\ttest: 0.6490299\tbest: 0.6493532 (28374)\ttotal: 57m 56s\tremaining: 15h 7m 49s\n",
      "30100:\tlearn: 0.7346142\ttest: 0.6491294\tbest: 0.6493532 (28374)\ttotal: 58m 8s\tremaining: 15h 7m 37s\n",
      "30200:\tlearn: 0.7348589\ttest: 0.6491791\tbest: 0.6493532 (28374)\ttotal: 58m 19s\tremaining: 15h 7m 20s\n",
      "30300:\tlearn: 0.7351604\ttest: 0.6493284\tbest: 0.6493532 (28374)\ttotal: 58m 31s\tremaining: 15h 7m 10s\n",
      "30400:\tlearn: 0.7353838\ttest: 0.6491542\tbest: 0.6494279 (30303)\ttotal: 58m 43s\tremaining: 15h 7m\n",
      "30500:\tlearn: 0.7356275\ttest: 0.6491045\tbest: 0.6494279 (30303)\ttotal: 58m 54s\tremaining: 15h 6m 48s\n",
      "30600:\tlearn: 0.7358955\ttest: 0.6492537\tbest: 0.6494279 (30303)\ttotal: 59m 6s\tremaining: 15h 6m 35s\n",
      "30700:\tlearn: 0.7361092\ttest: 0.6493284\tbest: 0.6494279 (30303)\ttotal: 59m 17s\tremaining: 15h 6m 20s\n",
      "30800:\tlearn: 0.7363626\ttest: 0.6492537\tbest: 0.6495274 (30757)\ttotal: 59m 29s\tremaining: 15h 6m 13s\n",
      "30900:\tlearn: 0.7366321\ttest: 0.6491045\tbest: 0.6495274 (30757)\ttotal: 59m 40s\tremaining: 15h 5m 59s\n",
      "31000:\tlearn: 0.7368616\ttest: 0.6491791\tbest: 0.6495274 (30757)\ttotal: 59m 52s\tremaining: 15h 5m 48s\n",
      "31100:\tlearn: 0.7371246\ttest: 0.6491791\tbest: 0.6495274 (30757)\ttotal: 1h 4s\tremaining: 15h 5m 38s\n",
      "31200:\tlearn: 0.7373779\ttest: 0.6492040\tbest: 0.6495274 (30757)\ttotal: 1h 15s\tremaining: 15h 5m 26s\n",
      "31300:\tlearn: 0.7376363\ttest: 0.6489055\tbest: 0.6495274 (30757)\ttotal: 1h 27s\tremaining: 15h 5m 15s\n",
      "31400:\tlearn: 0.7378749\ttest: 0.6487562\tbest: 0.6495274 (30757)\ttotal: 1h 39s\tremaining: 15h 5m 7s\n",
      "31500:\tlearn: 0.7381252\ttest: 0.6489303\tbest: 0.6495274 (30757)\ttotal: 1h 50s\tremaining: 15h 4m 58s\n",
      "31600:\tlearn: 0.7383943\ttest: 0.6487562\tbest: 0.6495274 (30757)\ttotal: 1h 1m 2s\tremaining: 15h 4m 44s\n",
      "31700:\tlearn: 0.7386278\ttest: 0.6486318\tbest: 0.6495274 (30757)\ttotal: 1h 1m 13s\tremaining: 15h 4m 32s\n",
      "31800:\tlearn: 0.7388618\ttest: 0.6487811\tbest: 0.6495274 (30757)\ttotal: 1h 1m 25s\tremaining: 15h 4m 18s\n",
      "31900:\tlearn: 0.7391527\ttest: 0.6489303\tbest: 0.6495274 (30757)\ttotal: 1h 1m 36s\tremaining: 15h 4m 7s\n",
      "32000:\tlearn: 0.7393751\ttest: 0.6489303\tbest: 0.6495274 (30757)\ttotal: 1h 1m 48s\tremaining: 15h 3m 55s\n",
      "32100:\tlearn: 0.7396142\ttest: 0.6490299\tbest: 0.6495274 (30757)\ttotal: 1h 1m 59s\tremaining: 15h 3m 41s\n",
      "32200:\tlearn: 0.7398761\ttest: 0.6490796\tbest: 0.6495274 (30757)\ttotal: 1h 2m 11s\tremaining: 15h 3m 29s\n",
      "32300:\tlearn: 0.7401269\ttest: 0.6492040\tbest: 0.6495274 (30757)\ttotal: 1h 2m 22s\tremaining: 15h 3m 15s\n",
      "32400:\tlearn: 0.7403726\ttest: 0.6492040\tbest: 0.6495274 (30757)\ttotal: 1h 2m 34s\tremaining: 15h 3m 5s\n",
      "32500:\tlearn: 0.7406199\ttest: 0.6490796\tbest: 0.6495274 (30757)\ttotal: 1h 2m 45s\tremaining: 15h 2m 50s\n",
      "32600:\tlearn: 0.7408498\ttest: 0.6490547\tbest: 0.6495274 (30757)\ttotal: 1h 2m 57s\tremaining: 15h 2m 41s\n",
      "32700:\tlearn: 0.7411270\ttest: 0.6492537\tbest: 0.6495274 (30757)\ttotal: 1h 3m 9s\tremaining: 15h 2m 30s\n"
     ]
    },
    {
     "name": "stdout",
     "output_type": "stream",
     "text": [
      "32800:\tlearn: 0.7413702\ttest: 0.6490547\tbest: 0.6495274 (30757)\ttotal: 1h 3m 22s\tremaining: 15h 2m 36s\n",
      "32900:\tlearn: 0.7416164\ttest: 0.6491294\tbest: 0.6495274 (30757)\ttotal: 1h 3m 33s\tremaining: 15h 2m 24s\n",
      "33000:\tlearn: 0.7418895\ttest: 0.6491542\tbest: 0.6495274 (30757)\ttotal: 1h 3m 45s\tremaining: 15h 2m 14s\n",
      "33100:\tlearn: 0.7421266\ttest: 0.6491542\tbest: 0.6495274 (30757)\ttotal: 1h 3m 57s\tremaining: 15h 2m 7s\n",
      "33200:\tlearn: 0.7423942\ttest: 0.6490547\tbest: 0.6495274 (30757)\ttotal: 1h 4m 8s\tremaining: 15h 1m 55s\n",
      "33300:\tlearn: 0.7426490\ttest: 0.6491294\tbest: 0.6495274 (30757)\ttotal: 1h 4m 20s\tremaining: 15h 1m 44s\n",
      "33400:\tlearn: 0.7428972\ttest: 0.6491542\tbest: 0.6495274 (30757)\ttotal: 1h 4m 32s\tremaining: 15h 1m 35s\n",
      "33500:\tlearn: 0.7431359\ttest: 0.6491045\tbest: 0.6495274 (30757)\ttotal: 1h 4m 44s\tremaining: 15h 1m 26s\n",
      "33600:\tlearn: 0.7433760\ttest: 0.6494279\tbest: 0.6495274 (30757)\ttotal: 1h 4m 55s\tremaining: 15h 1m 13s\n",
      "33700:\tlearn: 0.7436369\ttest: 0.6490547\tbest: 0.6495274 (30757)\ttotal: 1h 5m 7s\tremaining: 15h 1m 2s\n",
      "33800:\tlearn: 0.7439151\ttest: 0.6489055\tbest: 0.6495274 (30757)\ttotal: 1h 5m 19s\tremaining: 15h 54s\n",
      "33900:\tlearn: 0.7441354\ttest: 0.6490796\tbest: 0.6495274 (30757)\ttotal: 1h 5m 30s\tremaining: 15h 41s\n",
      "34000:\tlearn: 0.7443837\ttest: 0.6491045\tbest: 0.6495274 (30757)\ttotal: 1h 5m 42s\tremaining: 15h 27s\n",
      "34100:\tlearn: 0.7446487\ttest: 0.6492040\tbest: 0.6495274 (30757)\ttotal: 1h 5m 54s\tremaining: 15h 20s\n",
      "34200:\tlearn: 0.7449147\ttest: 0.6492786\tbest: 0.6495274 (30757)\ttotal: 1h 6m 5s\tremaining: 15h 12s\n",
      "34300:\tlearn: 0.7451513\ttest: 0.6493781\tbest: 0.6495274 (30757)\ttotal: 1h 6m 17s\tremaining: 14h 59m 59s\n",
      "34400:\tlearn: 0.7454016\ttest: 0.6492786\tbest: 0.6495274 (30757)\ttotal: 1h 6m 29s\tremaining: 14h 59m 50s\n",
      "34500:\tlearn: 0.7456590\ttest: 0.6492289\tbest: 0.6495274 (30757)\ttotal: 1h 6m 40s\tremaining: 14h 59m 37s\n",
      "34600:\tlearn: 0.7459478\ttest: 0.6492786\tbest: 0.6495274 (30757)\ttotal: 1h 6m 52s\tremaining: 14h 59m 25s\n",
      "34700:\tlearn: 0.7461676\ttest: 0.6491791\tbest: 0.6495274 (30757)\ttotal: 1h 7m 3s\tremaining: 14h 59m 13s\n",
      "34800:\tlearn: 0.7464265\ttest: 0.6493781\tbest: 0.6495274 (30757)\ttotal: 1h 7m 15s\tremaining: 14h 59m 4s\n",
      "34900:\tlearn: 0.7466773\ttest: 0.6492786\tbest: 0.6495274 (30757)\ttotal: 1h 7m 27s\tremaining: 14h 58m 53s\n",
      "35000:\tlearn: 0.7469012\ttest: 0.6492289\tbest: 0.6495274 (30757)\ttotal: 1h 7m 38s\tremaining: 14h 58m 38s\n",
      "35100:\tlearn: 0.7471596\ttest: 0.6492786\tbest: 0.6495274 (30757)\ttotal: 1h 7m 49s\tremaining: 14h 58m 24s\n",
      "35200:\tlearn: 0.7473881\ttest: 0.6495274\tbest: 0.6495771 (35192)\ttotal: 1h 8m 1s\tremaining: 14h 58m 11s\n",
      "35300:\tlearn: 0.7476739\ttest: 0.6492289\tbest: 0.6496020 (35212)\ttotal: 1h 8m 13s\tremaining: 14h 58m 2s\n",
      "35400:\tlearn: 0.7479089\ttest: 0.6493035\tbest: 0.6496020 (35212)\ttotal: 1h 8m 25s\tremaining: 14h 57m 53s\n",
      "35500:\tlearn: 0.7481917\ttest: 0.6494279\tbest: 0.6496020 (35212)\ttotal: 1h 8m 36s\tremaining: 14h 57m 45s\n"
     ]
    }
   ],
   "source": [
    "model_I = CatBoostClassifier(iterations=500000,\n",
    "                           learning_rate=0.01,\n",
    "                           eval_metric='Accuracy',\n",
    "                           use_best_model=True,\n",
    "                           random_seed=42,\n",
    "                           logging_level='Verbose',\n",
    "                           task_type='GPU',\n",
    "                           devices='0:1:2',\n",
    "                           early_stopping_rounds=10000,\n",
    "                           loss_function='MultiClass',\n",
    "                           depth=9,\n",
    "                           #gpu_ram_part=0.5,\n",
    "                           )\n",
    "model_I.fit(train_pool, eval_set=eval_pool, verbose=100) #0.6509   #0.6498"
   ]
  },
  {
   "cell_type": "code",
   "execution_count": null,
   "metadata": {},
   "outputs": [],
   "source": [
    "pred = model_I.predict(X_validation)"
   ]
  },
  {
   "cell_type": "code",
   "execution_count": null,
   "metadata": {},
   "outputs": [],
   "source": []
  },
  {
   "cell_type": "code",
   "execution_count": 109,
   "metadata": {},
   "outputs": [],
   "source": [
    "pred = model_I.predict(test_x)\n",
    "pred = label_smoothing_re(pred)"
   ]
  },
  {
   "cell_type": "code",
   "execution_count": null,
   "metadata": {},
   "outputs": [],
   "source": [
    "#pred = model_I.predict(test_x)\n",
    "result = pd.DataFrame()\n",
    "result['id'] = data[test_index]['uId']\n",
    "result['label'] = pred.astype(int)\n",
    "result.to_csv('./out/submission.csv', index=False)\n",
    "print('Save Done.')"
   ]
  },
  {
   "cell_type": "code",
   "execution_count": null,
   "metadata": {},
   "outputs": [],
   "source": [
    "pred_val = model.predict_proba(X_validation)\n",
    "pred_test = model.predict_proba(test_x)\n",
    "np.save(\"./out/proba_val_{}.npy\".format(round(model_I.best_score_['validation']['Accuracy'],5)), pred_val)\n",
    "np.save(\"./out/proba_test_{}.npy\".format(round(model_I.best_score_['validation']['Accuracy'],5)), pred_test)"
   ]
  },
  {
   "cell_type": "code",
   "execution_count": null,
   "metadata": {},
   "outputs": [],
   "source": [
    "#特征&数据随机sample\n",
    "import random\n",
    "frac_axis1 = [0.7,0.75,0.8,0.85,0.9]\n",
    "frac_axis0 = [0.9,0.85,0.8,0.75,0.7]\n",
    "for index, i in enumerate(frac_axis1):\n",
    "    j = frac_axis0[index]\n",
    "    test_index = np.isnan(data.age_group)\n",
    "    train_index = ~test_index\n",
    "    train_x = data[train_index][feature] \n",
    "    train_y = data[train_index]['age_group']\n",
    "    test_x  = data[test_index][feature]\n",
    "    rand = random.randint(0,2019)\n",
    "    train_x = train_x.sample(frac=i, replace=True, random_state=rand,axis=1)\n",
    "    test_x  = test_x.sample(frac=i, replace=True, random_state=rand,axis=1)\n",
    "    from sklearn.model_selection import train_test_split\n",
    "    X_train, X_validation, y_train, y_validation = train_test_split(train_x, train_y, test_size=0.02, random_state=42)\n",
    "    del train_x\n",
    "    gc.collect()\n",
    "    rand = random.randint(0,2019)\n",
    "    X_train  = X_train.sample(frac=j, replace=True, random_state=rand,axis=0)\n",
    "    y_train  = y_train.sample(frac=j, replace=True, random_state=rand,axis=0)\n",
    "    train_pool = Pool(X_train, y_train)\n",
    "    eval_pool = Pool(X_validation, y_validation)\n",
    "    del X_train\n",
    "    #del X_validation\n",
    "    del y_train\n",
    "    del y_validation\n",
    "    gc.collect()\n",
    "    model = CatBoostClassifier(iterations=300000,\n",
    "                           learning_rate=0.01,\n",
    "                           eval_metric='Accuracy',\n",
    "                           use_best_model=True,\n",
    "                           random_seed=2019,\n",
    "                           logging_level='Verbose',\n",
    "                           task_type='GPU',\n",
    "                           devices='0',\n",
    "                           early_stopping_rounds=5000,\n",
    "                           loss_function='MultiClass',\n",
    "                           depth=8,\n",
    "                           #gpu_ram_part=0.3,\n",
    "                           )\n",
    "    model.fit(train_pool, eval_set=eval_pool, verbose=100) #0.6486\n",
    "    pred_val = model.predict_proba(X_validation)\n",
    "    pred_test = model.predict_proba(test_x)\n",
    "    np.save(\"./out/proba_val_{}.npy\".format(round(model.best_score_['validation']['Accuracy'],5)), pred_val)\n",
    "    np.save(\"./out/proba_test_{}.npy\".format(round(model.best_score_['validation']['Accuracy'],5)), pred_test)"
   ]
  },
  {
   "cell_type": "code",
   "execution_count": null,
   "metadata": {},
   "outputs": [],
   "source": [
    "#5-fold 交叉验证\n",
    "from tqdm import tqdm_notebook\n",
    "from sklearn.model_selection import StratifiedKFold\n",
    "\n",
    "skf = StratifiedKFold(n_splits=5,shuffle=True, random_state=42)\n",
    "\n",
    "cv_train = np.zeros((X_train.shape[0],6))\n",
    "cv_test = np.zeros((test_x.shape[0],6))\n",
    "cv_val = np.zeros((X_validation.shape[0],6))\n",
    "\n",
    "cate_features = ['city','prodName','color','ct','rom_category','color_short','carrier','gender','fontSize','os']\n",
    "\n",
    "for index,(train_idx,valid_idx) in tqdm_notebook(enumerate(skf.split(train_x, train_y))):\n",
    "    print(\"Fold_{}_started\".format(index))\n",
    "    X_KFold_train, y_KFold_train, X_KFold_valid, y_KFold_valid = train_x.iloc[train_idx], train_y.iloc[train_idx], train_x.iloc[valid_idx],train_y.iloc[valid_idx]\n",
    "    train_pool = Pool(X_KFold_train, y_KFold_train, cat_features=cate_features)\n",
    "    valid_pool = Pool(X_KFold_valid, y_KFold_valid, cat_features=cate_features)\n",
    "\n",
    "    del X_KFold_train\n",
    "    del y_KFold_train\n",
    "    gc.collect()\n",
    "    model = CatBoostClassifier(iterations=500000,\n",
    "                           learning_rate=0.01,\n",
    "                           eval_metric='Accuracy',\n",
    "                           use_best_model=True,\n",
    "                           random_seed=47,\n",
    "                           logging_level='Verbose',\n",
    "                           task_type='GPU',\n",
    "                           devices='0:1',\n",
    "                           early_stopping_rounds=10000,\n",
    "                           loss_function='MultiClass',\n",
    "                           depth=8\n",
    "                           )\n",
    "    model.fit(train_pool, eval_set=valid_pool, verbose=100) #0.648\n",
    "    cv_train[valid_idx] = model.predict_proba(X_KFold_valid)\n",
    "    cv_val[valid_idx] += model.predict_proba(X_validation)/5\n",
    "    cv_test += model.predict_proba(test_x)/5\n",
    "    print(\"Fold_{}_result_saved\".format(index))\n",
    "    np.save(\"./out/proba_val_{}.npy\".format(round(model.best_score_['validation']['Accuracy'],5)), pred_val)\n",
    "    np.save(\"./out/proba_test_{}.npy\".format(round(model.best_score_['validation']['Accuracy'],5)), pred_test)"
   ]
  },
  {
   "cell_type": "code",
   "execution_count": null,
   "metadata": {},
   "outputs": [],
   "source": [
    "#5-fold 交叉验证\n",
    "from tqdm import tqdm_notebook\n",
    "from sklearn.model_selection import StratifiedKFold\n",
    "\n",
    "skf = StratifiedKFold(n_splits=5,shuffle=True, random_state=42)\n",
    "\n",
    "\n",
    "\n",
    "cv_result = np.zeros((X_train.shape[0],6))\n",
    "cv_test = np.zeros((test_x.shape[0],6))\n",
    "cv_val = np.zeros((X_validation.shape[0],6))\n",
    "cate_features = ['city','prodName','color','ct','rom_category','color_short','carrier','gender','fontSize','os']\n",
    "eval_pool = Pool(X_validation, y_validation, cat_features=cate_features)\n",
    "\n",
    "for index,(train_idx,valid_idx) in tqdm_notebook(enumerate(skf.split(X_train, y_train))):\n",
    "    print(\"Fold_{}_started\".format(index))\n",
    "    X_KFold_train, y_KFold_train, X_KFold_valid = X_train.iloc[train_idx], y_train.iloc[train_idx], X_train.iloc[valid_idx]\n",
    "    train_pool = Pool(X_KFold_train, y_KFold_train, cat_features=cate_features)\n",
    "    del X_KFold_train\n",
    "    del y_KFold_train\n",
    "    gc.collect()\n",
    "    model = CatBoostClassifier(iterations=500000,\n",
    "                           learning_rate=0.01,\n",
    "                           eval_metric='Accuracy',\n",
    "                           use_best_model=True,\n",
    "                           random_seed=47,\n",
    "                           logging_level='Verbose',\n",
    "                           task_type='GPU',\n",
    "                           devices='0:1',\n",
    "                           early_stopping_rounds=10000,\n",
    "                           loss_function='MultiClass',\n",
    "                           depth=8\n",
    "                           )\n",
    "    model.fit(train_pool, eval_set=eval_pool, verbose=1000) #0.648\n",
    "    cv_result[valid_idx] = model.predict_proba(X_KFold_valid)\n",
    "    cv_val += model.predict_proba(X_validation)/5\n",
    "    cv_test += model.predict_proba(test_x)/5\n",
    "    print(\"Fold_{}_result_saved\".format(index))"
   ]
  }
 ],
 "metadata": {
  "kernelspec": {
   "display_name": "Python 3",
   "language": "python",
   "name": "python3"
  },
  "language_info": {
   "codemirror_mode": {
    "name": "ipython",
    "version": 3
   },
   "file_extension": ".py",
   "mimetype": "text/x-python",
   "name": "python",
   "nbconvert_exporter": "python",
   "pygments_lexer": "ipython3",
   "version": "3.6.7"
  }
 },
 "nbformat": 4,
 "nbformat_minor": 2
}
